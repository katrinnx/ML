{
  "cells": [
    {
      "cell_type": "markdown",
      "metadata": {
        "pycharm": {
          "name": "#%% md\n"
        },
        "id": "n-196_i8SKtd"
      },
      "source": [
        "# Машинное обучение, ФКН ВШЭ\n",
        "\n",
        "# Практическое задание 9. EM-алгоритм\n",
        "\n",
        "## Общая информация\n",
        "\n",
        "Дата выдачи: 18.02.2025\n",
        "\n",
        "Мягкий дедлайн: 11.03.2025 23:59 MSK\n",
        "\n",
        "Жёсткий дедлайн: 16.03.2025 23:59 MSK\n",
        "\n",
        "## Оценивание и штрафы\n",
        "Каждая из задач имеет определенную «стоимость» (указана в скобках около задачи). Максимальная оценка за работу (без учёта бонусов) — 15 баллов.\n",
        "\n",
        "Сдавать задание после указанного жёсткого срока сдачи нельзя. При выставлении неполного балла за задание в связи с наличием ошибок на усмотрение проверяющего предусмотрена возможность исправить работу на указанных в ответном письме условиях.\n",
        "\n",
        "Задание выполняется самостоятельно. «Похожие» решения считаются плагиатом и все задействованные студенты (в том числе те, у кого списали) не могут получить за него больше 0 баллов (подробнее о плагиате см. на странице курса). Если вы нашли решение какого-то из заданий (или его часть) в открытом источнике, необходимо указать ссылку на этот источник в отдельном блоке в конце вашей работы (скорее всего вы будете не единственным, кто это нашел, поэтому чтобы исключить подозрение в плагиате, необходима ссылка на источник).\n",
        "\n",
        "Неэффективная реализация кода может негативно отразиться на оценке.\n",
        "\n",
        "## Формат сдачи\n",
        "Задания сдаются через систему anytask. Посылка должна содержать:\n",
        "* Ноутбук homework-practice-09-em-Username.ipynb\n",
        "* Модули preprocessing.py, metrics.py, models.py, содержащие написанный вами код\n",
        "* Ссылки на посылки в Яндекс.Контест для всех функций и классов, которые вы реализовали\n",
        "\n",
        "Ссылка на Яндекс.Контест: https://contest.yandex.ru/contest/60281\n",
        "\n",
        "Username — ваша фамилия и имя на латинице именно в таком порядке\n",
        "\n",
        "Мой ник в контесте - e.smeshkova"
      ]
    },
    {
      "cell_type": "markdown",
      "metadata": {
        "pycharm": {
          "name": "#%% md\n"
        },
        "id": "P9MHPDsZSKtf"
      },
      "source": [
        "# Generative model of Labels, Abilities, and Difficulties (GLAD)\n",
        "\n",
        "В [семинаре 16](https://github.com/esokolov/ml-course-hse/blob/master/2022-spring/seminars/sem16-em.pdf) мы рассмотрели задачу восстановления истинной разметки по меткам от экспертов (которым мы не можем доверять в полной мере, более того, их предсказания могут расходиться).\n",
        "\n",
        "Рассмотрим следующую вероятностную модель:\n",
        "\n",
        "$$ p(L, Z | \\alpha, \\beta) = \\prod_{i=1}^{n} \\prod_{j=1}^m \\sigma(\\alpha_j\\beta_i)^{[l_{ij}=z_i]}\\sigma(-\\alpha_j\\beta_i)^{1-[l_{ij}=z_i]} p(z_j)$$\n",
        "\n",
        "где $l_{ij} -$ ответ $j$-го эксперта на задачу $i$, $z_j -$ истинная разметка, $\\alpha_i, \\beta_j-$ уровень экспертизы и сложность задачи соответственно. Для более подробного описания модели можно прочитать материалы семинара, а также [оригинальную статью](http://papers.nips.cc/paper/3644-whose-vote-should-count-more-optimal-integration-of-labels-from-labelers-of-unknown-expertise.pdf). Априорное распределение положим равномерным: $p(z_i) = 0.5$."
      ]
    },
    {
      "cell_type": "code",
      "execution_count": 16,
      "metadata": {
        "pycharm": {
          "name": "#%%\n"
        },
        "id": "sK_zk2C2SKtf"
      },
      "outputs": [],
      "source": [
        "import numpy as np\n",
        "seed = 0xDEADF00D\n",
        "np.random.seed(seed)"
      ]
    },
    {
      "cell_type": "code",
      "execution_count": null,
      "metadata": {
        "pycharm": {
          "name": "#%%\n"
        },
        "id": "yIbxXa7USKtg"
      },
      "outputs": [],
      "source": [
        "L = np.load('L.npy')\n",
        "n, m = L.shape"
      ]
    },
    {
      "cell_type": "markdown",
      "metadata": {
        "pycharm": {
          "name": "#%% md\n"
        },
        "id": "Jm5X96zvSKtg"
      },
      "source": [
        "**Задание 1. (2 балла)** Реализуйте EM-алгоритм для заданной выше модели. Вы можете воспользоваться предложенными шаблонами или написать свои.\n",
        "\n",
        "Обратите внимание, что правдоподобие моделирует не вероятность метки $l_{ij}$ принять значение 1 или 0, а вероятность того, что она равна скрытой переменной $z_i$, т.е. $p(l_{ij} = z_j|z_j, \\alpha_j, \\beta_i) \\neq p(l_{ij} = 1|\\alpha_j, \\beta_i) $. При этом заранее неизвестно, какая из скрытых переменных соответствует метке 1. Не забывайте, что параметры $\\beta_i$ должны быть неотрицательными; для этого оптимизируйте $\\log \\beta$. На M-шаге можете использовать как один шаг градиентного спуска, так и несколько: разумные результаты у вас должны получаться вне зависимости от числа итераций.\n",
        "\n",
        "Также при работе с вероятностями не забывайте о точности:\n",
        "1. Используйте логарифмы вероятностей.\n",
        "2. $\\log \\sigma(a)$ лучше преобразовать в $\\log \\sigma(a) = -\\log(1 + \\exp(-a)) = -\\mathrm{softplus}(-a) $\n",
        "3. Ещё полезные функции: `scipy.special.expit`, `scipy.special.logsumexp`, `np.log1p`\n",
        "\n",
        "Для отладки может быть полезно проверить градиент с помощью `scipy.optimize.check_grad`."
      ]
    },
    {
      "cell_type": "code",
      "execution_count": null,
      "metadata": {
        "pycharm": {
          "name": "#%%\n"
        },
        "id": "FCNhxu3MSKtg"
      },
      "outputs": [],
      "source": [
        "def softplus(x):\n",
        "    '''stable version of log(1 + exp(x))'''\n",
        "    c = (x > 20) * 1.\n",
        "    return np.log1p(np.exp(x * (1-c)) * (1-c)) + x * c"
      ]
    },
    {
      "cell_type": "code",
      "source": [
        "import numpy as np\n",
        "import scipy\n",
        "\n",
        "def posterior(alpha, beta, L):\n",
        "    \"\"\" Posterior over true labels z p(z|L, alpha, beta)\n",
        "    Args:\n",
        "        alpha: ndarray of shape (n_experts).\n",
        "        beta: ndarray of shape (n_problems).\n",
        "        L: ndarray of shape (n_problems, n_experts).\n",
        "    \"\"\"\n",
        "    log_p0 = np.log(0.5) + log_likelihood(alpha, beta, L, np.zeros(L.shape[0])).sum(axis=1)\n",
        "    log_p1 = np.log(0.5) + log_likelihood(alpha, beta, L, np.ones(L.shape[0])).sum(axis=1)\n",
        "\n",
        "    log_p = np.stack((log_p0, log_p1), axis=0)\n",
        "    log_norm = scipy.special.logsumexp(log_p, axis=0)\n",
        "\n",
        "    q = np.exp(log_p - log_norm)\n",
        "    return q\n",
        "\n",
        "\n",
        "def log_likelihood(alpha, beta, L, z):\n",
        "    \"\"\" Log likelihood p(L=z|z, alpha, beta)\n",
        "    Args:\n",
        "        alpha: ndarray of shape (n_experts).\n",
        "        beta: ndarray of shape (n_problems).\n",
        "        L: ndarray of shape (n_problems, n_experts).\n",
        "        z: ndarray of shape (n_problems).\n",
        "    \"\"\"\n",
        "    alpha_beta_product = np.outer(beta, alpha)\n",
        "    mask = (L == z[:, None])\n",
        "\n",
        "    return mask * -softplus(-alpha_beta_product) + (~mask) * -softplus(alpha_beta_product)\n",
        "\n",
        "\n",
        "def alpha_grad_lb(alpha, beta, L, q):\n",
        "    \"\"\" Gradient of lower bound wrt alpha\n",
        "    Args:\n",
        "        alpha: ndarray of shape (n_experts).\n",
        "        beta: ndarray of shape (n_problems).\n",
        "        L: ndarray of shape (n_problems, n_experts).\n",
        "        q: ndarray of shape (2, n_problems).\n",
        "    \"\"\"\n",
        "    alpha_beta_product = np.outer(beta, alpha)\n",
        "\n",
        "    prob0 = (L == 0).astype(float) * scipy.special.expit(-alpha_beta_product)\n",
        "    prob1 = (L != 0).astype(float) * scipy.special.expit(alpha_beta_product)\n",
        "\n",
        "    prob2 = (L == 1).astype(float) * scipy.special.expit(-alpha_beta_product)\n",
        "    prob3 = (L != 1).astype(float) * scipy.special.expit(alpha_beta_product)\n",
        "\n",
        "    stacked_probs = beta[None, :, None] * np.stack((prob0 - prob1, prob2 - prob3), axis=0)\n",
        "\n",
        "    return np.sum(q[:, :, None] * stacked_probs, axis=(0, 1))\n",
        "\n",
        "\n",
        "def logbeta_grad_lb(alpha, beta, L, q):\n",
        "    \"\"\" Gradient of lower bound wrt beta\n",
        "    Args:\n",
        "        alpha: ndarray of shape (n_experts).\n",
        "        beta: ndarray of shape (n_problems).\n",
        "        L: ndarray of shape (n_problems, n_experts).\n",
        "        q: ndarray of shape (2, n_problems).\n",
        "    \"\"\"\n",
        "    interaction_matrix = np.outer(beta, alpha)\n",
        "\n",
        "    likelihood_0 = (L == 0).astype(float) * scipy.special.expit(-interaction_matrix)\n",
        "    likelihood_1 = (L != 0).astype(float) * scipy.special.expit(interaction_matrix)\n",
        "\n",
        "    likelihood_2 = (L == 1).astype(float) * scipy.special.expit(-interaction_matrix)\n",
        "    likelihood_3 = (L != 1).astype(float) * scipy.special.expit(interaction_matrix)\n",
        "\n",
        "    gradient_terms = alpha[None, None, :] * np.stack((likelihood_0 - likelihood_1, likelihood_2 - likelihood_3), axis=0)\n",
        "\n",
        "    return np.sum(q[:, :, None] * gradient_terms, axis=(0, 2))\n",
        "\n",
        "\n",
        "def lower_bound(alpha, beta, L, q):\n",
        "    \"\"\" Lower bound for variational inference\n",
        "    Args:\n",
        "        alpha: ndarray of shape (n_experts).\n",
        "        beta: ndarray of shape (n_problems).\n",
        "        L: ndarray of shape (n_problems, n_experts).\n",
        "        q: ndarray of shape (2, n_problems).\n",
        "    \"\"\"\n",
        "    constant_term = np.sum(q * np.log(1 / 2))\n",
        "\n",
        "    log_prob_0 = np.log(1 / 2) + np.sum(log_likelihood(alpha, beta, L, np.full(L.shape[0], 0)), axis=1)\n",
        "    log_prob_1 = np.log(1 / 2) + np.sum(log_likelihood(alpha, beta, L, np.full(L.shape[0], 1)), axis=1)\n",
        "\n",
        "    combined_log_probs = np.vstack((log_prob_0, log_prob_1))\n",
        "\n",
        "    return np.sum(q * combined_log_probs) + constant_term\n"
      ],
      "metadata": {
        "id": "vdqVs7iZ83Gb"
      },
      "execution_count": null,
      "outputs": []
    },
    {
      "cell_type": "code",
      "execution_count": null,
      "metadata": {
        "pycharm": {
          "name": "#%%\n"
        },
        "id": "6NRjdtysSKth"
      },
      "outputs": [],
      "source": [
        "def em(L, n_steps=1000, lr=1e-3):\n",
        "    # initialize parameters\n",
        "    alpha, logbeta = np.random.randn(m), np.random.randn(n)\n",
        "    q = np.ones((2, len(logbeta))) * 0.5\n",
        "\n",
        "    for step in range(n_steps):\n",
        "        # E-step\n",
        "        q = posterior(alpha, np.exp(logbeta), L)\n",
        "        # M-step\n",
        "        alpha = alpha + lr * alpha_grad_lb(alpha, np.exp(logbeta), L, q)\n",
        "        logbeta = logbeta + lr * logbeta_grad_lb(alpha, np.exp(logbeta), L, q) * np.exp(logbeta)\n",
        "\n",
        "    return alpha, np.exp(logbeta), q"
      ]
    },
    {
      "cell_type": "code",
      "execution_count": null,
      "metadata": {
        "pycharm": {
          "name": "#%%\n"
        },
        "id": "-ZlWAHLFSKth"
      },
      "outputs": [],
      "source": [
        "alpha, beta, q = em(L)"
      ]
    },
    {
      "cell_type": "code",
      "source": [
        "alpha, beta, q"
      ],
      "metadata": {
        "colab": {
          "base_uri": "https://localhost:8080/"
        },
        "id": "tkrOaZRIEN6g",
        "outputId": "8c540756-ab4f-4962-affe-5aba1c6857bc"
      },
      "execution_count": null,
      "outputs": [
        {
          "output_type": "execute_result",
          "data": {
            "text/plain": [
              "(array([-0.64414807, -0.7503481 , -4.47990307, -0.55126713, -0.62658888,\n",
              "        -4.31281054, -0.6315894 , -4.05034842,  4.2783764 , -0.6724769 ,\n",
              "         4.42894987,  4.29897552, -4.26371838, -0.55623891, -0.64758519,\n",
              "        -0.53732041, -0.65824878, -4.16969458,  4.07545921, -4.13881598]),\n",
              " array([1.22630869, 1.35868771, 2.06762945, ..., 0.28233717, 1.08791003,\n",
              "        1.29147166]),\n",
              " array([[1.00000000e+00, 1.00000000e+00, 1.00000000e+00, ...,\n",
              "         9.98728921e-01, 3.00247129e-21, 7.35220005e-26],\n",
              "        [3.00980369e-24, 3.36809956e-27, 3.51936064e-42, ...,\n",
              "         1.27107908e-03, 1.00000000e+00, 1.00000000e+00]]))"
            ]
          },
          "metadata": {},
          "execution_count": 7
        }
      ]
    },
    {
      "cell_type": "markdown",
      "metadata": {
        "pycharm": {
          "name": "#%% md\n"
        },
        "id": "2deQLxrlSKth"
      },
      "source": [
        "**Задание 2. (1 балл)** Загрузите настоящую разметку. Посчитайте `accuracy` разметки, полученной с помощью обычного голосования по большинству среди экспертов, и сравните его с качеством, полученным с помощью EM-алгоритма. Помните, что алгоритму не важно, какая метка 0, а какая 1, поэтому если получите качество <0.5, то просто поменяйте метки классов (не забудьте также поменять знак у $\\alpha$)."
      ]
    },
    {
      "cell_type": "code",
      "execution_count": null,
      "metadata": {
        "pycharm": {
          "name": "#%%\n"
        },
        "colab": {
          "base_uri": "https://localhost:8080/"
        },
        "id": "zcS2OOr0SKth",
        "outputId": "a2d23a1f-4a2a-48ad-fcbe-70f9c30cc470"
      },
      "outputs": [
        {
          "output_type": "stream",
          "name": "stdout",
          "text": [
            "Voting Accuracy: 0.9040\n",
            "EM Accuracy: 0.9550\n"
          ]
        }
      ],
      "source": [
        "y = np.load('y.npy')\n",
        "y_majority = (np.mean(L, axis=1) > 0.5).astype(int)\n",
        "accuracy_vote = np.mean(y_majority == y)\n",
        "\n",
        "y_em = (q[1] > 0.5).astype(int)\n",
        "accuracy_em = np.mean(y_em == y)\n",
        "if accuracy_em < 0.5:\n",
        "    y_em = 1 - y_em\n",
        "    alpha = -alpha\n",
        "    accuracy_em = np.mean(y_em == y)\n",
        "\n",
        "print(f'Voting Accuracy: {accuracy_vote:.4f}')\n",
        "print(f'EM Accuracy: {accuracy_em:.4f}')"
      ]
    },
    {
      "cell_type": "markdown",
      "metadata": {
        "pycharm": {
          "name": "#%% md\n"
        },
        "id": "6Pn5N6xgSKth"
      },
      "source": [
        "**Задание 3. (0.5 балла)** Попробуйте проинтерпретировать полученные коэфициенты $\\alpha$. Есть ли в выборке эксперты, которые намеренно голосуют неверно? Как это можно понять по альфам? Продемонстрируйте, что эксперты действительно чаще голосуют за неверный класс. Постройте график зависимости доли врено размеченных экспертом объектов от коэффициента $\\alpha$. Прокомментируйте результаты."
      ]
    },
    {
      "cell_type": "code",
      "source": [
        "alpha"
      ],
      "metadata": {
        "colab": {
          "base_uri": "https://localhost:8080/"
        },
        "id": "udkvNUpNTYj8",
        "outputId": "1ab35a33-eb70-4273-a011-cb4debc7047f"
      },
      "execution_count": null,
      "outputs": [
        {
          "output_type": "execute_result",
          "data": {
            "text/plain": [
              "array([ 0.64414807,  0.7503481 ,  4.47990307,  0.55126713,  0.62658888,\n",
              "        4.31281054,  0.6315894 ,  4.05034842, -4.2783764 ,  0.6724769 ,\n",
              "       -4.42894987, -4.29897552,  4.26371838,  0.55623891,  0.64758519,\n",
              "        0.53732041,  0.65824878,  4.16969458, -4.07545921,  4.13881598])"
            ]
          },
          "metadata": {},
          "execution_count": 9
        }
      ]
    },
    {
      "cell_type": "markdown",
      "source": [
        "Коэффициенты alpha в модели EM определяют надежность каждого эксперта. Если alpha > 0, то эксперт чаще указывает правильную разметку. Если alpha < 0, то эксперт чаще ошибается. Если alpha ≈ 0, то эксперт дает случайные ответы."
      ],
      "metadata": {
        "id": "Bxlv_INLS7Us"
      }
    },
    {
      "cell_type": "code",
      "source": [
        "misleading_experts = np.where(alpha < -1)[0]\n",
        "print(f\"Количество экспертов, намеренно голосующих неверно: {len(misleading_experts)}\")"
      ],
      "metadata": {
        "colab": {
          "base_uri": "https://localhost:8080/"
        },
        "id": "plZuKuE9TvLL",
        "outputId": "285361e8-6b24-4614-bafc-541938a084f7"
      },
      "execution_count": null,
      "outputs": [
        {
          "output_type": "stream",
          "name": "stdout",
          "text": [
            "Количество экспертов, намеренно голосующих неверно: 4\n"
          ]
        }
      ]
    },
    {
      "cell_type": "code",
      "source": [
        "n_misleading = len(misleading_experts)\n",
        "n_total_experts = len(alpha)\n",
        "misleading_ratio = n_misleading / n_total_experts\n",
        "print(f\"Доля экспертов, намеренно голосующих неверно: {misleading_ratio}\")"
      ],
      "metadata": {
        "colab": {
          "base_uri": "https://localhost:8080/"
        },
        "id": "8tUbLSDkUQF2",
        "outputId": "c3fc44c8-17a4-4fd2-ffab-26c605b78930"
      },
      "execution_count": null,
      "outputs": [
        {
          "output_type": "stream",
          "name": "stdout",
          "text": [
            "Доля экспертов, намеренно голосующих неверно: 0.2\n"
          ]
        }
      ]
    },
    {
      "cell_type": "code",
      "source": [
        "expert_accuracies = np.zeros(n_total_experts)\n",
        "for j in range(n_total_experts):\n",
        "    expert_accuracies[j] = np.mean(L[:, j] == y)\n",
        "for idx in misleading_experts:\n",
        "    print(f\"Эксперт {idx}: α = {alpha[idx]:.3f}, точность = {expert_accuracies[idx]:.3f}\")"
      ],
      "metadata": {
        "colab": {
          "base_uri": "https://localhost:8080/"
        },
        "id": "8yYBR-FaYF79",
        "outputId": "b0eb0c28-4ca7-43d3-d61a-e77001090f51"
      },
      "execution_count": null,
      "outputs": [
        {
          "output_type": "stream",
          "name": "stdout",
          "text": [
            "Эксперт 8: α = -4.278, точность = 0.090\n",
            "Эксперт 10: α = -4.429, точность = 0.083\n",
            "Эксперт 11: α = -4.299, точность = 0.082\n",
            "Эксперт 18: α = -4.075, точность = 0.088\n"
          ]
        }
      ]
    },
    {
      "cell_type": "markdown",
      "source": [
        "Гипотеза подтвердилась: эти эусперты намеренно голосуют неверно, видно, что точность очень низкая"
      ],
      "metadata": {
        "id": "QmfsoeneYI-T"
      }
    },
    {
      "cell_type": "code",
      "execution_count": null,
      "metadata": {
        "pycharm": {
          "name": "#%%\n"
        },
        "colab": {
          "base_uri": "https://localhost:8080/",
          "height": 487
        },
        "id": "iA1N_X1uSKti",
        "outputId": "007d3e69-2cc0-4a13-8c50-cf009100c128"
      },
      "outputs": [
        {
          "output_type": "display_data",
          "data": {
            "text/plain": [
              "<Figure size 800x500 with 1 Axes>"
            ],
            "image/png": "[encoded data removed]"
          },
          "metadata": {}
        }
      ],
      "source": [
        "import matplotlib.pyplot as plt\n",
        "\n",
        "plt.figure(figsize=(8, 5))\n",
        "plt.scatter(alpha, expert_accuracies, color='#35CE8D', alpha=0.7, label=\"Эксперты\")\n",
        "plt.axvline(x=0, color='#CB48B7', linestyle='--', label=\"Нейтральный эксперт\")\n",
        "plt.xlabel(\"Коэффициент α (надёжность эксперта)\")\n",
        "plt.ylabel(\"Доля верных ответов\")\n",
        "plt.title(\"Зависимость точности эксперта от α\")\n",
        "plt.legend()\n",
        "plt.grid()\n",
        "plt.show()"
      ]
    },
    {
      "cell_type": "markdown",
      "metadata": {
        "pycharm": {
          "name": "#%% md\n"
        },
        "id": "K-GClQzqSKti"
      },
      "source": [
        "**Задание 4. (бонус, 2 балла)**  Как уже было замечено выше, модели не важно, какой класс 1, а какой 0. Скажем, если все эксперты оказались максимально противными и ставят метку с точностью наоборот, то у вас будет полная согласованность между экспертами, при этом невозможно понять правильно они разметили выборку или нет, смотря только на такую разметку. Чтобы избежать этого, можно включать в выборку вопрос с заведомо известным ответом, тогда вы сможете определить, ставит ли эксперт специально неверные метки.\n",
        "\n",
        "Чтобы обощить данную модель на случай заданий с заведомо известной меткой, достоточно не делать для них E-шаг, а всегда полагать апостериорное распределение вырожденным в истинном классе. Реализуйте данную модель и используйте истинную разметку *для нескольких* задач из обучения. Проинтерпретируйте полученные результаты."
      ]
    },
    {
      "cell_type": "markdown",
      "metadata": {
        "pycharm": {
          "name": "#%% md\n"
        },
        "id": "-8DekXCzSKti"
      },
      "source": [
        "# Выравнивание слов (Word Alignment)"
      ]
    },
    {
      "cell_type": "markdown",
      "metadata": {
        "pycharm": {
          "name": "#%% md\n"
        },
        "id": "I9hcYefdSKti"
      },
      "source": [
        "EM-алгоритм также применяют на практике для настройки параметров модели выравнивания слов, более сложные модификации которой используются в статистическом машинном переводе. Мы не будем подробно обсуждать применение word alignment для перевода и ограничимся следующей целью: пусть у нас есть параллельный корпус из предложений на исходном языке и их переводов на целевой язык (в этом задании используются английский и чешский соответственно).\n",
        "\n",
        "Первая задача — определить с помощью этого корпуса, как переводится каждое отдельное слово на целевом языке. Вторая задача — для произвольной пары из предложения и его перевода установить, переводом какого слова в исходном предложении является каждое слово в целевом предложении. Оказывается, у обеих задач существует элегантное и эффективное решение при введении правильной вероятностной модели: в этой части задания вам предстоит его реализовать и оценить результаты работы. Но обо всём по порядку :)\n",
        "\n",
        "---\n",
        "\n",
        "Перед тем, как заниматься машинным обучением, давайте разберёмся с данными и метриками в интересующей нас задаче. В ячейке ниже загружается и разархивируется параллельный английско-чешский корпус, в котором есть разметка выравнивания слов. Нетрудно заметить, что формат XML-файла, использованный его авторами, не вполне стандартный: нет готовой команды , которая позволила бы получить список пар предложений вместе с выравниваниями. Это значит, что нужно разобраться с форматом и написать парсер самостоятельно, используя встроенные средства Python, например, модуль [xml](https://docs.python.org/3.7/library/xml.html)."
      ]
    },
    {
      "cell_type": "code",
      "execution_count": 1,
      "metadata": {
        "pycharm": {
          "name": "#%%\n"
        },
        "colab": {
          "base_uri": "https://localhost:8080/"
        },
        "id": "8yjFuwEjSKti",
        "outputId": "1c90bdcf-2d9c-4147-9c53-3e508d58409e"
      },
      "outputs": [
        {
          "output_type": "stream",
          "name": "stdout",
          "text": [
            "<?xml version=\"1.0\" encoding=\"utf-8\" ?>\n",
            "<sentences>\n",
            "<s id=\"project_syndicate_bacchetta1-s1\">\r\n",
            "  <english>Are the Dollar 's Days Numbered ?</english>\n",
            "  <czech>Jsou dny dolaru sečteny ?</czech>\n",
            "  <sure>1-1 3-3 5-2 6-4 7-5</sure>\n",
            "  <possible>2-2 4-3</possible>\n",
            "</s>\n",
            "<s id=\"project_syndicate_bacchetta1-s2\">\r\n",
            "  <english>Philippe Bacchetta and Eric van Wincoop</english>\n",
            "  <czech>Philippe Bacchetta and Eric van Wincoop</czech>\n",
            "  <sure>1-1 2-2 3-3 4-4 5-5 6-6</sure>\n",
            "  <possible></possible>\n",
            "</s>\n",
            "<s id=\"project_syndicate_bacchetta1-s3\">\r\n",
            "  <english>A year ago , the dollar bestrode the world like a colossus .</english>\n",
            "  <czech>Ještě před rokem dolar dominoval světu jako imperátor .</czech>\n",
            "  <sure>10-7 12-8 13-9 2-3 3-2 6-4 7-5 9-6</sure>\n",
            "  <possible>1-3 11-8 3-1 5-4 8-6</possible>\n",
            "</s>\n"
          ]
        }
      ],
      "source": [
        "%%bash\n",
        "wget -q https://lindat.mff.cuni.cz/repository/xmlui/bitstream/handle/11234/1-1804/CzEnAli_1.0.tar.gz -O CzEnAli_1.0.tar.gz\n",
        "mkdir -p data\n",
        "tar -xzf CzEnAli_1.0.tar.gz -C data/\n",
        "head -n 20 data/merged_data/project_syndicate/project_syndicate_bacchetta1.wa"
      ]
    },
    {
      "cell_type": "markdown",
      "metadata": {
        "pycharm": {
          "name": "#%% md\n"
        },
        "id": "fIxguJaeSKti"
      },
      "source": [
        "**Задание -2. (0.5 балла)** Реализуйте функцию `extract_sentences`, которая принимает на вход путь к файлу с XML-разметкой, используемой в этом датасете, и возвращает список параллельных предложений, а также список из «уверенных» (sure) и «возможных» (possible) пар выравниваний. Отправьте вашу реализацию в Яндекс.Контест, чтобы убедиться в её корректности; в следующей ячейке ноутбука соберите все пары размеченных предложений из датасета в два списка `all_sentences` (список `SentencePair`) и `all_targets` (список LabeledAlignment).\n",
        "\n",
        "Здесь и далее соблюдайте сигнатуры функций и пользуйтесь объявленными в модуле `preprocessing.py` классами для организации данных. Стоит заметить, что предложения уже токенизированы (даже отделена пунктуация), поэтому предобработку текстов совершать не нужно. Обратите внимание на формат хранения выравниваний: нумерация начинается с 1 (в таком виде и нужно сохранять), первым в паре идёт слово из англоязычного предложения."
      ]
    },
    {
      "cell_type": "code",
      "source": [
        "import glob\n",
        "from preprocessing import extract_sentences\n",
        "import xml.etree.ElementTree as ET\n",
        "all_sentences = []\n",
        "all_targets = []\n",
        "\n",
        "for file_ in list(glob.glob(\"data/merged_data/*/*.wa\")):\n",
        "    sentence_pairs, alignments = extract_sentences(file_)\n",
        "    all_sentences.extend(sentence_pairs)\n",
        "    all_targets.extend(alignments)"
      ],
      "metadata": {
        "id": "DBeWFM2vWauW"
      },
      "execution_count": 2,
      "outputs": []
    },
    {
      "cell_type": "markdown",
      "metadata": {
        "pycharm": {
          "name": "#%% md\n"
        },
        "id": "ATzALuvJSKti"
      },
      "source": [
        "**Задание -1. (0.5 балла)** Реализуйте функции `get_token_to_index` и `tokenize_sents` из модуля `preprocessing.py`, постройте словари token->index для обоих языков и постройте список из `TokenizedSentencePair` по выборке. Реализации функций также отправьте в Яндекс.Контест."
      ]
    },
    {
      "cell_type": "code",
      "execution_count": 3,
      "metadata": {
        "pycharm": {
          "name": "#%%\n"
        },
        "id": "5kvdOIraSKti"
      },
      "outputs": [],
      "source": [
        "from preprocessing import get_token_to_index, tokenize_sents\n",
        "\n",
        "t_idx_src, t_idx_tgt = get_token_to_index(all_sentences)\n",
        "tokenized_sentences = tokenize_sents(all_sentences, t_idx_src, t_idx_tgt)"
      ]
    },
    {
      "cell_type": "markdown",
      "metadata": {
        "pycharm": {
          "name": "#%% md\n"
        },
        "id": "y3_R-XT4SKti"
      },
      "source": [
        "В качестве бейзлайна для этой задачи мы возьмём способ выравнивания слов по коэффициенту Дайса: слово в исходном языке является переводом слова на целевом языке, если они часто встречаются в одних и тех же предложениях и редко встречаются по отдельности.\n",
        "\n",
        "Математически это записывается по аналогии с мерой Жаккара: пусть $c(x,y)$ — число параллельных предложений, в которых есть и $x$ (на исходном языке), и $y$ (на целевом языке), а $c(x)$ и $c(y)$ — суммарное количество предложений, в которых встречается слово $x$ и $y$ соответственно. Тогда $\\textrm{Dice}(x,y)=\\frac{2 \\cdot c(x,y)}{c(x) + c(y)}$ — характеристика «похожести» слов $x$ и $y$. Она равна 1, если слова встречаются только в контексте друг друга (не бывает предложений только со словом $x$ без $y$ в переводе и наоборот), равна 0, если слова никогда не встречаются в параллельных предложениях и находится между пороговыми значениями в остальных случаях.\n",
        "\n",
        "В файле `models.py` описан абстрактный класс `BaseAligner`, наследником которого должны являться все модели в задании, а также приведён пример реализации `DiceAligner` выравнивания слов описанным выше путём. Ниже вы можете увидеть, как применять эту модель."
      ]
    },
    {
      "cell_type": "code",
      "execution_count": 4,
      "metadata": {
        "pycharm": {
          "name": "#%%\n"
        },
        "id": "DJhcTG38SKti"
      },
      "outputs": [],
      "source": [
        "from models import DiceAligner\n",
        "\n",
        "baseline = DiceAligner(len(t_idx_src), len(t_idx_tgt), threshold=0.01)\n",
        "baseline.fit(tokenized_sentences)"
      ]
    },
    {
      "cell_type": "markdown",
      "metadata": {
        "pycharm": {
          "name": "#%% md\n"
        },
        "id": "UsQhKBZ5SKti"
      },
      "source": [
        "Чтобы оценить качество модели выравнивания, пользуясь имеющейся разметкой, существует ряд автоматических метрик. Они подразумевают, что в разметке есть два вида выравниваний — «уверенные» (sure) и «возможные» (possible). Обозначим для конкретного предложения первое множество выравниваний $S$, второе — $P$, а предсказанные выравнивания — $A$; причём, в отличие от разметки в файле, $S\\subseteq P$. Тогда можно предложить три метрики, используя только операции над этими множествами:\n",
        "\n",
        "Precision $=\\frac{|A\\cap P|}{|A|}$. Отражает, какая доля предсказанных нами выравниваний вообще корректна; если мы дадим в качестве ответа все возможные пары слов в предложении, эта метрика сильно просядет.\n",
        "\n",
        "Recall $=\\frac{|A\\cap S|}{|S|}$. Эта метрика показывает, какую долю «уверенных» выравниваний мы обнаружили. Если мы попытаемся сделать слишком консервативную модель, которая выдаёт 0 или 1 предсказание на нетривиальных предложениях, полнота получится крайне низкая.\n",
        "\n",
        "Alignment Error Rate (AER) $=1-\\frac{|A\\cap P|+|A\\cap S|}{|A|+|S|}$. Метрика является комбинацией двух предыдущих и отслеживает общее качество работы системы, штрафуя оба описанных выше вида нежелаемого поведения модели.\n",
        "\n",
        "**Задание 0. (0.5 балла)** Реализуйте функции compute_precision, compute_recall, compute_aer из модуля metrics.py. Оцените качество бейзлайнового метода. Обратите внимание, что нужно использовать микро-усреднение во всех функциях: необходимо просуммировать числитель и знаменатель по всем предложениям и только потом делить."
      ]
    },
    {
      "cell_type": "code",
      "execution_count": 5,
      "metadata": {
        "pycharm": {
          "name": "#%%\n"
        },
        "colab": {
          "base_uri": "https://localhost:8080/"
        },
        "id": "lSRQo8pYSKtj",
        "outputId": "1653011c-2eab-48b0-b6dc-fb2476da0200"
      },
      "outputs": [
        {
          "output_type": "execute_result",
          "data": {
            "text/plain": [
              "0.8074618330841489"
            ]
          },
          "metadata": {},
          "execution_count": 5
        }
      ],
      "source": [
        "from metrics import compute_aer\n",
        "\n",
        "compute_aer(all_targets,baseline.align(tokenized_sentences))"
      ]
    },
    {
      "cell_type": "markdown",
      "metadata": {
        "pycharm": {
          "name": "#%% md\n"
        },
        "id": "WnHpTJRPSKtj"
      },
      "source": [
        "Теперь мы можем перейти к базовой вероятностной модели для выравнивания слов. Пусть $S=(s_1,\\ldots,s_n)$ исходное предложение, $T=(t_1,\\ldots,t_m)$ — его перевод. В роли латентных переменных будут выступать выравнивания $A=(a_1,\\ldots,a_m)$ каждого слова в целевом предложении, причём $a_i\\in\\{1,\\ldots,n\\}$ (считаем, что каждое слово в $t$ является переводом какого-то слова из $s$). Параметрами модели является матрица условных вероятностей перевода: каждый её элемент $\\theta(y|x)=p(y|x)$ отражает вероятность того, что переводом слова $x$ с исходного языка на целевой является слово $y$ (нормировка, соответственно, совершается по словарю целевого языка). Правдоподобие латентных переменных и предложения на целевом языке в этой модели записывается так:\n",
        "\n",
        "$$\n",
        "p(A,T|S)=\\prod_{i=1}^m p(a_i)p(t_i|a_i,S)=\\prod_{i=1}^m \\frac{1}{n}\\theta(t_i|s_{a_i}).\n",
        "$$"
      ]
    },
    {
      "cell_type": "markdown",
      "metadata": {
        "pycharm": {
          "name": "#%% md\n"
        },
        "id": "vnJJBgZ-SKtj"
      },
      "source": [
        "**Задание 1. (2 балла)** Выведите шаги EM-алгоритма для этой модели, а также получите выражение для подсчёта нижней оценки правдоподобия ($\\mathcal{L}$ в обозначениях лекции и семинара). **Обратите внимание, что на M-шаге нужно найти аналитический максимум по параметрам.**"
      ]
    },
    {
      "cell_type": "markdown",
      "metadata": {
        "pycharm": {
          "name": "#%% md\n"
        },
        "id": "LoMB5tAISKtj"
      },
      "source": [
        "### E-шаг\n",
        "\n",
        "На E-шаге мы вычисляем апостериорные вероятности того, что слово $t_i$ в целевом предложении связано со словом $s_j$ в исходном:\n",
        "\n",
        "$ q_i(j) = p(a_i = j \\mid t_i, S) = \\dfrac{\\theta(t_i \\mid s_j)}{\\sum_k \\theta(t_i \\mid s_k)} $\n",
        "\n",
        "---\n",
        "\n",
        "### M-шаг\n",
        "\n",
        "На M-шаге мы максимизируем ожидаемое значение логарифма правдоподобия относительно параметров $\\theta$:\n",
        "\n",
        "$ \\sum_i \\sum_j q_i(j) \\cdot \\log \\theta(t_i \\mid s_j) \\rightarrow \\max_{\\theta} $\n",
        "\n",
        "Условие нормировки: $\\theta(t \\mid s)$ — это условная вероятность, поэтому должно выполняться условие: $ \\sum_t \\theta(t \\mid s) = 1 $\n",
        "\n",
        "Чтобы учесть это ограничение, запишем лагранжиан с множителями Лагранжа $\\lambda_j$:\n",
        "\n",
        "$ L = \\sum_{\\text{sentence}} \\sum_i \\sum_j q_i(j) \\cdot \\log \\theta(t_i \\mid s_j) + \\sum_j \\lambda_j \\left( \\sum_t \\theta(t \\mid s_j) - 1 \\right) $\n",
        "\n",
        "$ \\dfrac{\\partial L}{\\partial \\theta(t_i \\mid s_j)} = \\sum_{\\text{sentence}} \\dfrac{q_i(j)}{\\theta(t_i \\mid s_j)} + \\lambda_j = 0 $\n",
        "\n",
        "Отсюда: $ \\theta(t_i \\mid s_j) = \\dfrac{\\sum_{\\text{sentence}} q_i(j)}{-\\lambda_j} $\n",
        "\n",
        "В рамках EM-алгоритма отслеживается значение нижней границы функции логарифма правдоподобия (Lower Bound):\n",
        "\n",
        "$ LB = \\sum_{\\text{sentence}} \\sum_j q(j) \\cdot \\log \\dfrac{p(T, A \\mid S)}{q(j)} = \\sum_{\\text{sentence}} \\sum_j \\sum_i q_i(j) \\cdot \\log \\dfrac{\\theta(t_i \\mid s_j)}{n \\cdot q_i(j)} $\n",
        "\n"
      ]
    },
    {
      "cell_type": "markdown",
      "metadata": {
        "pycharm": {
          "name": "#%% md\n"
        },
        "id": "FWKB36YtSKtj"
      },
      "source": [
        "**Задание 2. (2.5 балла)** Реализуйте все методы класса `WordAligner` в соответствии с полученными вами формулами. Протестируйте вашу реализацию через Яндекс.Контест, а здесь обучите модель и посчитайте её AER на истинной разметке. Чтобы предсказать выравнивание для пары предложений в этой модели, следует выбирать в соответствие для слова в целевом предложении с индексом $i$ позицию, соответствующую максимуму апостериорного распределения $p(a_i|T,S)$."
      ]
    },
    {
      "cell_type": "code",
      "execution_count": 23,
      "metadata": {
        "pycharm": {
          "name": "#%%\n"
        },
        "id": "DvOhsvGNSKtj",
        "colab": {
          "base_uri": "https://localhost:8080/"
        },
        "outputId": "2c8554ec-eccc-4e36-e520-cab362de467a"
      },
      "outputs": [
        {
          "output_type": "stream",
          "name": "stderr",
          "text": [
            "/content/models.py:119: RuntimeWarning: divide by zero encountered in log\n",
            "  log_probs = np.log(prob_matrix / (len(src_tokens) * posteriors[idx] + 1e-8))\n",
            "/content/models.py:120: RuntimeWarning: invalid value encountered in multiply\n",
            "  elbo_contribution = np.sum(posteriors[idx] * log_probs)\n"
          ]
        },
        {
          "output_type": "execute_result",
          "data": {
            "text/plain": [
              "0.5749230753398578"
            ]
          },
          "metadata": {},
          "execution_count": 23
        }
      ],
      "source": [
        "from models import WordAligner\n",
        "\n",
        "word_aligner = WordAligner(len(t_idx_src), len(t_idx_tgt), 20)\n",
        "word_aligner.fit(tokenized_sentences);\n",
        "\n",
        "compute_aer(all_targets, word_aligner.align(tokenized_sentences))"
      ]
    },
    {
      "cell_type": "markdown",
      "metadata": {
        "pycharm": {
          "name": "#%% md\n"
        },
        "id": "lTQpXg-1SKtj"
      },
      "source": [
        "Заметим, что таблицу вероятностей перевода можно использовать и саму по себе для построения словарей. Пример работы показан ниже: метод хоть и работает, но мягко говоря, неидально — слишком мало данных."
      ]
    },
    {
      "cell_type": "code",
      "execution_count": 7,
      "metadata": {
        "pycharm": {
          "name": "#%%\n"
        },
        "id": "3E4e4nflSKtj"
      },
      "outputs": [],
      "source": [
        "idx_token_tgt = {index:token for token, index in t_idx_tgt.items()}"
      ]
    },
    {
      "cell_type": "code",
      "execution_count": 8,
      "metadata": {
        "pycharm": {
          "name": "#%%\n"
        },
        "id": "eccuZ3nYSKtj",
        "colab": {
          "base_uri": "https://localhost:8080/"
        },
        "outputId": "302eb23e-69f1-458c-d54c-ad9f516398e1"
      },
      "outputs": [
        {
          "output_type": "execute_result",
          "data": {
            "text/plain": [
              "['Pan', 'řekl', 'pan']"
            ]
          },
          "metadata": {},
          "execution_count": 8
        }
      ],
      "source": [
        "[idx_token_tgt[i] for i in word_aligner.translation_probs[t_idx_src['Mr']].argsort()[-3:]]"
      ]
    },
    {
      "cell_type": "code",
      "execution_count": 9,
      "metadata": {
        "pycharm": {
          "name": "#%%\n"
        },
        "id": "VlgjbfxFSKtk",
        "colab": {
          "base_uri": "https://localhost:8080/"
        },
        "outputId": "ef735307-a1ba-4b12-fc66-702e3f545efb"
      },
      "outputs": [
        {
          "output_type": "execute_result",
          "data": {
            "text/plain": [
              "['-', 'Mannová', 'paní']"
            ]
          },
          "metadata": {},
          "execution_count": 9
        }
      ],
      "source": [
        "[idx_token_tgt[i] for i in word_aligner.translation_probs[t_idx_src['Mrs']].argsort()[-3:]]"
      ]
    },
    {
      "cell_type": "code",
      "execution_count": 10,
      "metadata": {
        "pycharm": {
          "name": "#%%\n"
        },
        "scrolled": true,
        "id": "9Tkf2Q8qSKtk",
        "colab": {
          "base_uri": "https://localhost:8080/"
        },
        "outputId": "df398689-ae15-483f-92c4-5301a856b090"
      },
      "outputs": [
        {
          "output_type": "execute_result",
          "data": {
            "text/plain": [
              "['z', 'pro', 'vody']"
            ]
          },
          "metadata": {},
          "execution_count": 10
        }
      ],
      "source": [
        "[idx_token_tgt[i] for i in word_aligner.translation_probs[t_idx_src['water']].argsort()[-3:]]"
      ]
    },
    {
      "cell_type": "code",
      "execution_count": 11,
      "metadata": {
        "pycharm": {
          "name": "#%%\n"
        },
        "id": "50vkyePPSKtk",
        "colab": {
          "base_uri": "https://localhost:8080/"
        },
        "outputId": "5b45df5e-3ec4-48ac-be0f-533b077bfff4"
      },
      "outputs": [
        {
          "output_type": "execute_result",
          "data": {
            "text/plain": [
              "['S', 'překupničením', 'koni']"
            ]
          },
          "metadata": {},
          "execution_count": 11
        }
      ],
      "source": [
        "[idx_token_tgt[i] for i in word_aligner.translation_probs[t_idx_src['depended']].argsort()[-3:]]"
      ]
    },
    {
      "cell_type": "code",
      "execution_count": 12,
      "metadata": {
        "pycharm": {
          "name": "#%%\n"
        },
        "id": "yRg9PClHSKtk",
        "colab": {
          "base_uri": "https://localhost:8080/"
        },
        "outputId": "971cab38-2ce3-4808-c08a-eee108b25dd2"
      },
      "outputs": [
        {
          "output_type": "execute_result",
          "data": {
            "text/plain": [
              "['.', 'se', 'na']"
            ]
          },
          "metadata": {},
          "execution_count": 12
        }
      ],
      "source": [
        "[idx_token_tgt[i] for i in word_aligner.translation_probs[t_idx_src['on']].argsort()[-3:]]"
      ]
    },
    {
      "cell_type": "markdown",
      "metadata": {
        "pycharm": {
          "name": "#%% md\n"
        },
        "id": "pxAdaF04SKtk"
      },
      "source": [
        "**Задание 3. (0.5 балла)** Мы смогли получить матрицу условных вероятностей перевода исходного языка в целевой. Можно ли, пользуясь этой матрицей и ещё какими-то статистиками по параллельному корпусу, получить вероятности перевода целевого языка в исходный? Реализуйте такой метод и приведите ниже пример его работы, показав пару удачных переводов."
      ]
    },
    {
      "cell_type": "code",
      "execution_count": 13,
      "metadata": {
        "pycharm": {
          "name": "#%%\n"
        },
        "id": "rJXE-4Z-SKtk",
        "colab": {
          "base_uri": "https://localhost:8080/"
        },
        "outputId": "1cab69bc-9e1a-4cf2-a566-a67423ba4a65"
      },
      "outputs": [
        {
          "output_type": "stream",
          "name": "stdout",
          "text": [
            "Top translations for 'statisticky': ['implementing', 'diagnosis', 'statistically']\n"
          ]
        }
      ],
      "source": [
        "def reverse_translation_probs(word_aligner, t_idx_src, t_idx_tgt):\n",
        "    reversed_probs = word_aligner.translation_probs.T\n",
        "    reversed_probs /= reversed_probs.sum(axis=1, keepdims=True) + 1e-8\n",
        "    return reversed_probs\n",
        "\n",
        "\n",
        "def get_top_translations(reversed_probs, t_idx_src, t_idx_tgt, target_word, top_n=3):\n",
        "    idx_token_src = {index: token for token, index in t_idx_src.items()}\n",
        "    if target_word in t_idx_tgt:\n",
        "        target_idx = t_idx_tgt[target_word]\n",
        "        top_source_indices = reversed_probs[target_idx].argsort()[-top_n:]\n",
        "        top_sources = [idx_token_src[i] for i in reversed(top_source_indices)]\n",
        "        return top_sources\n",
        "    else:\n",
        "        print(f\"'{target_word}' not found in target vocabulary.\")\n",
        "        return []\n",
        "\n",
        "word_aligner = WordAligner(len(t_idx_src), len(t_idx_tgt), 20)\n",
        "word_aligner.fit(tokenized_sentences)\n",
        "\n",
        "reversed_probs = reverse_translation_probs(word_aligner, t_idx_src, t_idx_tgt)\n",
        "\n",
        "target_word = 'statisticky'  # пример target слова\n",
        "top_translations = get_top_translations(reversed_probs, t_idx_src, t_idx_tgt, target_word, top_n=3)\n",
        "\n",
        "print(f\"Top translations for '{target_word}': {top_translations}\")"
      ]
    },
    {
      "cell_type": "code",
      "source": [
        "target_word = 'hospodářstvích'  # пример target слова\n",
        "top_translations = get_top_translations(reversed_probs, t_idx_src, t_idx_tgt, target_word, top_n=3)\n",
        "\n",
        "print(f\"Top translations for '{target_word}': {top_translations}\")"
      ],
      "metadata": {
        "colab": {
          "base_uri": "https://localhost:8080/"
        },
        "id": "P4DZOIuMac86",
        "outputId": "00134345-f94e-4fb3-dee4-2a8a1eb1acc3"
      },
      "execution_count": 14,
      "outputs": [
        {
          "output_type": "stream",
          "name": "stdout",
          "text": [
            "Top translations for 'hospodářstvích': ['farms', 'areas', 'beds']\n"
          ]
        }
      ]
    },
    {
      "cell_type": "markdown",
      "metadata": {
        "pycharm": {
          "name": "#%% md\n"
        },
        "id": "uFsk7RrXSKtq"
      },
      "source": [
        "**Задание 4. (0.5 балла)** Визуализируйте полученные выравнивания для нескольких предложений в виде heatmap: по одной из осей располагаются токены исходного текста, по другой — токены его перевода, на пересечении позиций $i$ и $j$ — 0 либо 1 в зависимости от того, является ли в обученной модели $a_i$ равным $j$. Можете ли вы их проинтерпретировать? Постройте аналогичный график, но без дискретизации, а визуализируя напрямую апостериорное распределение. Можете ли вы найти ситуации, в которых модель не уверена, переводом какого слова является слово $i$?"
      ]
    },
    {
      "cell_type": "code",
      "execution_count": 20,
      "metadata": {
        "pycharm": {
          "name": "#%%\n"
        },
        "id": "7qDCmUcoSKtq",
        "colab": {
          "base_uri": "https://localhost:8080/",
          "height": 923
        },
        "outputId": "502cf36c-caf8-4353-fb81-6a851e6caffe"
      },
      "outputs": [
        {
          "output_type": "display_data",
          "data": {
            "text/plain": [
              "<Figure size 600x400 with 2 Axes>"
            ],
            "image/png": "[encoded data removed]"
          },
          "metadata": {}
        },
        {
          "output_type": "display_data",
          "data": {
            "text/plain": [
              "<Figure size 600x400 with 2 Axes>"
            ],
            "image/png": "[encoded data removed]"
          },
          "metadata": {}
        }
      ],
      "source": [
        "def visualize_alignment(sentence_pair, alignment, idx_token_src, idx_token_tgt):\n",
        "    src_len = len(sentence_pair.source_tokens)\n",
        "    tgt_len = len(sentence_pair.target_tokens)\n",
        "    matrix = np.zeros((src_len, tgt_len))\n",
        "    for src_pos, tgt_pos in alignment:\n",
        "        matrix[src_pos - 1, tgt_pos - 1] = 1\n",
        "    src_tokens = [idx_token_src[i] for i in sentence_pair.source_tokens]\n",
        "    tgt_tokens = [idx_token_tgt[i] for i in sentence_pair.target_tokens]\n",
        "    plt.figure(figsize=(6, 4))\n",
        "    plt.imshow(matrix, cmap='Greens', aspect='auto')\n",
        "    plt.xticks(range(tgt_len), tgt_tokens, rotation=90)\n",
        "    plt.yticks(range(src_len), src_tokens)\n",
        "    plt.xlabel('Target')\n",
        "    plt.ylabel('Source')\n",
        "    plt.title('Hard Alignment (0/1)')\n",
        "    plt.colorbar(label='Alignment (0/1)')\n",
        "    plt.show()\n",
        "\n",
        "\n",
        "def visualize_posterior(sentence_pair, posterior, idx_token_src, idx_token_tgt):\n",
        "    src_len = len(sentence_pair.source_tokens)\n",
        "    tgt_len = len(sentence_pair.target_tokens)\n",
        "    src_tokens = [idx_token_src[i] for i in sentence_pair.source_tokens]\n",
        "    tgt_tokens = [idx_token_tgt[i] for i in sentence_pair.target_tokens]\n",
        "    plt.figure(figsize=(6, 4))\n",
        "    plt.imshow(posterior, cmap='Blues', aspect='auto')\n",
        "    plt.xticks(range(tgt_len), tgt_tokens, rotation=90)\n",
        "    plt.yticks(range(src_len), src_tokens)\n",
        "    plt.xlabel('Target')\n",
        "    plt.ylabel('Source')\n",
        "    plt.title('Posterior Alignment Probabilities')\n",
        "    plt.colorbar(label='Probability')\n",
        "    plt.show()\n",
        "\n",
        "idx_token_src = {index: token for token, index in t_idx_src.items()}\n",
        "idx_token_tgt = {index: token for token, index in t_idx_tgt.items()}\n",
        "\n",
        "i = 2  # номер пары предложений (можно менять)\n",
        "sentence_pair = tokenized_sentences[i]\n",
        "\n",
        "# С дискретизацией\n",
        "alignments = word_aligner.align([sentence_pair])[0]\n",
        "visualize_alignment(sentence_pair, alignments, idx_token_src, idx_token_tgt)\n",
        "\n",
        "# Апостериорное выравнивание\n",
        "posterior = word_aligner._e_step([sentence_pair])[0]\n",
        "visualize_posterior(sentence_pair, posterior, idx_token_src, idx_token_tgt)"
      ]
    },
    {
      "cell_type": "markdown",
      "source": [
        "Интерпретация: на первом графике темно-зеленые квадратики обозначают пары слов, которые модель считает эквивалентными. А на втором ячейки (от светлого к темному) показывает вероятность того, что слово из исходного языка (по оси Y) связано со словом из целевого языка (по оси X)"
      ],
      "metadata": {
        "id": "AQ4zLs1g8sat"
      }
    },
    {
      "cell_type": "markdown",
      "source": [
        "Если в строке, соответствующей слову i, нет ярко выраженного темного квадрата, а все клетки светлые или равномерно окрашены, — это означает, что модель размазала вероятность между разными словами и не уверена, какое слово в целевом предложении является переводом. Пример: первая строка (слово the - ожидаемый результат для артикля), строка со словом shall (тоже логично: модель не знает, куда отнести модальное слово)"
      ],
      "metadata": {
        "id": "xtDd0WZ_9uY1"
      }
    },
    {
      "cell_type": "markdown",
      "metadata": {
        "pycharm": {
          "name": "#%% md\n"
        },
        "id": "YhvrVVChSKtq"
      },
      "source": [
        "Заметим, что при задании модели мы сделали довольно сильное предположение о том, что вероятности выбора слова для выравнивания никак не зависят от позиции слова в целевом предложении. Можно сделать эти вероятности настраиваемыми параметрами, получив прямоугольную матрицу $\\phi_{m,n}(j|i)=p(a_i=j|m,n)$ для каждой пары длин предложений $m,n$: по-прежнему мы получаем распределение над индексами в исходном предложении. Тогда модель приобретает вид\n",
        "$$\n",
        "p(A,T|S)=\\prod_{i=1}^m p(a_i|m,n)p(t_i| a_i, S)=\\prod_{i=1}^m \\phi_{m,n}(a_i|i)\\theta(t_i|s_{a_i}).\n",
        "$$"
      ]
    },
    {
      "cell_type": "markdown",
      "metadata": {
        "pycharm": {
          "name": "#%% md\n"
        },
        "id": "i5g0tQ3gSKtq"
      },
      "source": [
        "**Задание 5. (1.5 балла)** Выведите шаги EM-алгоритма для этой модели, а также получите выражение для подсчёта нижней оценки правдоподобия."
      ]
    },
    {
      "cell_type": "markdown",
      "metadata": {
        "pycharm": {
          "name": "#%% md\n"
        },
        "id": "nWZvMtqiSKtq"
      },
      "source": [
        "## E-step:\n",
        "\n",
        "$ q_i(a_i) = p(a_i | t_i, S) = \\frac{\\Phi_{m,n}(a_i | i) \\cdot \\theta(t_i | s_{a_i})}{\\sum\\limits_j \\Phi_{m,n}(j | i) \\cdot \\theta(t_i | s_j)} $\n",
        "\n",
        "\n",
        "\n",
        "## M-step:\n",
        "\n",
        "$ \\mathbb{E}_{A \\sim q} \\log p(T | S, A, \\Theta) = \\sum\\limits_i \\sum\\limits_j q_i(j) \\cdot \\log \\frac{\\Phi_{m,n}(j | i) \\cdot \\theta(t_i | s_j)}{q_i(j)} = \\sum\\limits_i \\sum\\limits_j q_i(j) \\log \\theta(t_i | s_j) + \\sum\\limits_i \\sum\\limits_j q_i(j) \\log \\frac{\\Phi_{m,n}(j | i)}{q_i(j)} $\n",
        "\n",
        "\n",
        "\n",
        "## Нижняя оценка правдоподобия (ELBO):\n",
        "\n",
        "$ LB = \\sum\\limits_{\\text{sentence}} \\sum\\limits_j \\sum\\limits_i q_i(j) \\log \\frac{\\Phi_{m,n}(j | i) \\cdot \\theta(t_i | s_j)}{q_i(j)} $\n",
        "\n",
        "\n",
        "\n",
        "## Обновления параметров (M-step через $\\Phi$):\n",
        "\n",
        "### Для $\\theta$:\n",
        "\n",
        "$ \\theta(h | g) = \\frac{\\sum\\limits_n \\sum\\limits_{i=1}^{M_n} \\sum\\limits_{a=1}^{K_n} q_n^*(a) \\cdot \\mathbf{1}(t_{ni} = h, s_{na} = g)}{\\sum\\limits_n \\sum\\limits_{i=1}^{M_n} \\sum\\limits_{a=1}^{K_n} q_n^*(a) \\cdot \\mathbf{1}(s_{na} = g)} $\n",
        "\n",
        "\n",
        "\n",
        "### Для $\\Phi$:\n",
        "\n",
        "$ \\Phi_{M_i, K_i}(k | m) = \\frac{\\sum\\limits_{n=1}^{N} \\sum\\limits_{i=1}^{M_n} \\sum\\limits_{j=1}^{K_n} q_n^*(a) \\cdot \\mathbf{1}(a = k, j = m)}{\\sum\\limits_{n=1}^{N} \\sum\\limits_{i=1}^{M_n} \\sum\\limits_{j=1}^{K_n} q_n^*(a) \\cdot \\mathbf{1}(j = m)} $\n",
        "\n"
      ]
    },
    {
      "cell_type": "markdown",
      "metadata": {
        "pycharm": {
          "name": "#%% md\n"
        },
        "id": "3uo4lYq-SKtq"
      },
      "source": [
        "**Задание 6. (2 балла)** Реализуйте все методы класса `WordPositionAligner`, протестируйте их корректность через Яндекс.Контест. Обучите модель, оцените её качество на истинной разметке и сравните его с качеством предыдущей более простой модели. Проиллюстрируйте влияние стартовых параметров на результат, проинициализировав эту модель параметрами модели из задания 2 (важно, чтобы суммарное число эпох обучения в обоих сценариях оставалось тем же)."
      ]
    },
    {
      "cell_type": "code",
      "execution_count": 25,
      "metadata": {
        "pycharm": {
          "name": "#%%\n"
        },
        "id": "bxJpVVa7SKtq",
        "colab": {
          "base_uri": "https://localhost:8080/"
        },
        "outputId": "3af2d18f-a921-4beb-d2a5-8d9bcd358b3c"
      },
      "outputs": [
        {
          "output_type": "execute_result",
          "data": {
            "text/plain": [
              "0.9539584040834388"
            ]
          },
          "metadata": {},
          "execution_count": 25
        }
      ],
      "source": [
        "from models import WordPositionAligner\n",
        "\n",
        "Word_Position_Aligner = WordPositionAligner(len(t_idx_src), len(t_idx_tgt), 20)\n",
        "Word_Position_Aligner.fit(tokenized_sentences)\n",
        "compute_aer(all_targets, Word_Position_Aligner.align(tokenized_sentences))"
      ]
    },
    {
      "cell_type": "markdown",
      "source": [
        "Качество по сравнению с предыдущей моделью сильно улучшилось (в прошлой модели было 0.5749)"
      ],
      "metadata": {
        "id": "nzqKVNcHMrbQ"
      }
    },
    {
      "cell_type": "code",
      "source": [
        "Word_Position_Aligner = WordPositionAligner(len(t_idx_src), len(t_idx_tgt), 20)\n",
        "Word_Position_Aligner.translation_probs = word_aligner.translation_probs # инициализируем параметрами из задания 2\n",
        "Word_Position_Aligner.fit(tokenized_sentences)\n",
        "compute_aer(all_targets, Word_Position_Aligner.align(tokenized_sentences))"
      ],
      "metadata": {
        "colab": {
          "base_uri": "https://localhost:8080/"
        },
        "id": "HwfvVr2gNZwE",
        "outputId": "7fc74c17-1365-4b1b-9206-2924005cb5de"
      },
      "execution_count": 24,
      "outputs": [
        {
          "output_type": "execute_result",
          "data": {
            "text/plain": [
              "0.5749230753398578"
            ]
          },
          "metadata": {},
          "execution_count": 24
        }
      ]
    },
    {
      "cell_type": "markdown",
      "source": [
        "Качество ухудшилось"
      ],
      "metadata": {
        "id": "cAi8EVAZON4B"
      }
    },
    {
      "cell_type": "markdown",
      "metadata": {
        "pycharm": {
          "name": "#%% md\n"
        },
        "id": "OZ2zoPuxSKtq"
      },
      "source": [
        "**Задание 7. (1 балл)** В предыдущих пунктах мы никак не заостряли внимание на предобработке текстов, что может негативно влиять на результаты обученной модели. Например, сейчас метод выравнивания учитывает регистр, а слова на чешском языке вдобавок обладают богатой морфологией и большим количеством диакритических знаков. Если сократить количество параметров модели (различных слов), можно ускорить обучение и добиться лучших результатов, потому что статистики по словам будут считаться по большему числу параллельных предложений.\n",
        "\n",
        "Примените к исходным данным [Unicode-нормализацию](https://en.wikipedia.org/wiki/Unicode_equivalence#Normalization), приведите их к нижнему регистру и обучите модель выравнивания заново. Сравните качество и скорость обучения с предыдущими результатами и сделайте выводы. Если вы найдете в данных ещё какие-то проблемы, которые можно исправить более грамотной предобработкой, также продемонстрируйте, как их решение влияет на качество.\n",
        "\n",
        "**Важно:** здесь и далее в процессе обработки данных у вас может получаться, что из тестовых данных будут удалены предложения из-за отсутствия слов в словаре. Если такое всё же произошло, для корректности сравнения считайте AER вашей модели на удалённых предложениях равным 1."
      ]
    },
    {
      "cell_type": "code",
      "execution_count": 30,
      "metadata": {
        "pycharm": {
          "name": "#%%\n"
        },
        "id": "jlWQuNgLSKtr",
        "colab": {
          "base_uri": "https://localhost:8080/"
        },
        "outputId": "e70084e8-1eba-4bcb-db3b-b3c1251fdc3a"
      },
      "outputs": [
        {
          "output_type": "stream",
          "name": "stdout",
          "text": [
            "Всего нормализовано предложений: 2501\n",
            "Размер словаря (src): 8244, (tgt): 14136\n",
            "Количество токенизированных пар: 2501\n",
            "\n",
            " Запуск обучения WordAligner:\n",
            "AER WordAligner: 0.5603\n",
            "Время обучения WordAligner: 8.98 секунд\n",
            "\n",
            " Запуск обучения WordPositionAligner с нуля:\n",
            "AER WordPositionAligner (без инициализации): 0.9540\n",
            "Время обучения WordPositionAligner: 0.36 секунд\n",
            "\n",
            " Запуск обучения WordPositionAligner с инициализацией из WordAligner:\n",
            "AER WordPositionAligner (c инициализацией): 0.5603\n",
            "Время обучения WordPositionAligner с инициализацией: 0.50 секунд\n",
            "\n",
            "[Результаты]\n",
            "WordAligner AER: 0.5603\n",
            "WordPositionAligner AER (без инициализации): 0.9540\n",
            "WordPositionAligner AER (c инициализацией): 0.5603\n"
          ]
        }
      ],
      "source": [
        "from unicodedata import normalize\n",
        "from preprocessing import SentencePair\n",
        "import time\n",
        "\n",
        "normalized_corpus = []\n",
        "norm_type = \"NFD\"\n",
        "\n",
        "for pair in all_sentences:\n",
        "    src_tokens = [normalize(norm_type, word).lower() for word in pair.source]\n",
        "    tgt_tokens = [normalize(norm_type, word).lower() for word in pair.target]\n",
        "    normalized_corpus.append(SentencePair(src_tokens, tgt_tokens))\n",
        "\n",
        "print(f\"Всего нормализовано предложений: {len(normalized_corpus)}\")\n",
        "\n",
        "src_dict, tgt_dict = get_token_to_index(normalized_corpus)\n",
        "tokenized_corpus = tokenize_sents(normalized_corpus, src_dict, tgt_dict)\n",
        "\n",
        "print(f\"Размер словаря (src): {len(src_dict)}, (tgt): {len(tgt_dict)}\")\n",
        "print(f\"Количество токенизированных пар: {len(tokenized_corpus)}\")\n",
        "\n",
        "print(\"\\n Запуск обучения WordAligner:\")\n",
        "start_time = time.time()\n",
        "wa_model = WordAligner(len(src_dict), len(tgt_dict), 20)\n",
        "wa_model.fit(tokenized_corpus)\n",
        "aer_wa = compute_aer(all_targets, wa_model.align(tokenized_corpus))\n",
        "print(f\"AER WordAligner: {aer_wa:.4f}\")\n",
        "print(f\"Время обучения WordAligner: {time.time() - start_time:.2f} секунд\")\n",
        "\n",
        "print(\"\\n Запуск обучения WordPositionAligner с нуля:\")\n",
        "start_time = time.time()\n",
        "wpa_model = WordPositionAligner(len(src_dict), len(tgt_dict), 20)\n",
        "wpa_model.fit(tokenized_corpus)\n",
        "aer_wpa = compute_aer(all_targets, wpa_model.align(tokenized_corpus))\n",
        "print(f\"AER WordPositionAligner (без инициализации): {aer_wpa:.4f}\")\n",
        "print(f\"Время обучения WordPositionAligner: {time.time() - start_time:.2f} секунд\")\n",
        "\n",
        "print(\"\\n Запуск обучения WordPositionAligner с инициализацией из WordAligner:\")\n",
        "start_time = time.time()\n",
        "wpa_init_model = WordPositionAligner(len(src_dict), len(tgt_dict), 20)\n",
        "wpa_init_model.translation_probs = wa_model.translation_probs.copy()\n",
        "wpa_init_model.fit(tokenized_corpus)\n",
        "aer_wpa_init = compute_aer(all_targets, wpa_init_model.align(tokenized_corpus))\n",
        "print(f\"AER WordPositionAligner (c инициализацией): {aer_wpa_init:.4f}\")\n",
        "print(f\"Время обучения WordPositionAligner с инициализацией: {time.time() - start_time:.2f} секунд\")\n",
        "\n",
        "print(\"\\n[Результаты]\")\n",
        "print(f\"WordAligner AER: {aer_wa:.4f}\")\n",
        "print(f\"WordPositionAligner AER (без инициализации): {aer_wpa:.4f}\")\n",
        "print(f\"WordPositionAligner AER (c инициализацией): {aer_wpa_init:.4f}\")"
      ]
    },
    {
      "cell_type": "markdown",
      "source": [
        "Теперь сравним с результатами до нормализации:"
      ],
      "metadata": {
        "id": "tkFCE0IbR0D-"
      }
    },
    {
      "cell_type": "code",
      "source": [
        "print(\"\\n Запуск обучения WordAligner (без нормализации):\")\n",
        "start_time = time.time()\n",
        "wa_model_raw = WordAligner(len(src_dict_raw), len(tgt_dict_raw), 20)\n",
        "wa_model_raw.fit(tokenized_corpus_raw)\n",
        "aer_wa_raw = compute_aer(all_targets, wa_model_raw.align(tokenized_corpus_raw))\n",
        "print(f\"AER WordAligner (без нормализации): {aer_wa_raw:.4f}\")\n",
        "print(f\"Время обучения WordAligner (без нормализации): {time.time() - start_time:.2f} секунд\")\n",
        "\n",
        "print(\"\\n Запуск обучения WordPositionAligner с нуля (без нормализации):\")\n",
        "start_time = time.time()\n",
        "wpa_model_raw = WordPositionAligner(len(src_dict_raw), len(tgt_dict_raw), 20)\n",
        "wpa_model_raw.fit(tokenized_corpus_raw)\n",
        "aer_wpa_raw = compute_aer(all_targets, wpa_model_raw.align(tokenized_corpus_raw))\n",
        "print(f\"AER WordPositionAligner (без нормализации): {aer_wpa_raw:.4f}\")\n",
        "print(f\"Время обучения WordPositionAligner (без нормализации): {time.time() - start_time:.2f} секунд\")\n",
        "\n",
        "print(\"\\n Запуск обучения WordPositionAligner c инициализацией из WordAligner (без нормализации):\")\n",
        "start_time = time.time()\n",
        "wpa_init_model_raw = WordPositionAligner(len(src_dict_raw), len(tgt_dict_raw), 20)\n",
        "wpa_init_model_raw.translation_probs = wa_model_raw.translation_probs.copy()  # Инициализация\n",
        "wpa_init_model_raw.fit(tokenized_corpus_raw)\n",
        "aer_wpa_init_raw = compute_aer(all_targets, wpa_init_model_raw.align(tokenized_corpus_raw))\n",
        "print(f\"AER WordPositionAligner (c инициализацией, без нормализации): {aer_wpa_init_raw:.4f}\")\n",
        "print(f\"Время обучения WordPositionAligner (c инициализацией, без нормализации): {time.time() - start_time:.2f} секунд\")\n",
        "\n",
        "print(\"\\n[Результаты без нормализации]\")\n",
        "print(f\"WordAligner AER (без нормализации): {aer_wa_raw:.4f}\")\n",
        "print(f\"WordPositionAligner AER (без нормализации): {aer_wpa_raw:.4f}\")\n",
        "print(f\"WordPositionAligner AER (c инициализацией, без нормализации): {aer_wpa_init_raw:.4f}\")"
      ],
      "metadata": {
        "colab": {
          "base_uri": "https://localhost:8080/"
        },
        "id": "mo5cIWNZRuwp",
        "outputId": "5253927d-8e39-4500-a72a-b09e4d06028e"
      },
      "execution_count": 32,
      "outputs": [
        {
          "output_type": "stream",
          "name": "stdout",
          "text": [
            "\n",
            " Запуск обучения WordAligner (без нормализации):\n",
            "AER WordAligner (без нормализации): 0.5749\n",
            "Время обучения WordAligner (без нормализации): 10.11 секунд\n",
            "\n",
            " Запуск обучения WordPositionAligner с нуля (без нормализации):\n",
            "AER WordPositionAligner (без нормализации): 0.9540\n",
            "Время обучения WordPositionAligner (без нормализации): 0.26 секунд\n",
            "\n",
            " Запуск обучения WordPositionAligner c инициализацией из WordAligner (без нормализации):\n",
            "AER WordPositionAligner (c инициализацией, без нормализации): 0.5749\n",
            "Время обучения WordPositionAligner (c инициализацией, без нормализации): 0.54 секунд\n",
            "\n",
            "[Результаты без нормализации]\n",
            "WordAligner AER (без нормализации): 0.5749\n",
            "WordPositionAligner AER (без нормализации): 0.9540\n",
            "WordPositionAligner AER (c инициализацией, без нормализации): 0.5749\n"
          ]
        }
      ]
    },
    {
      "cell_type": "markdown",
      "source": [
        "Кажется, что результаты особо не изменились. Время тоже несильно отличается (где-то на десятые секунд подпольше, где-то быстрее)"
      ],
      "metadata": {
        "id": "HnZvWAfgQgtK"
      }
    },
    {
      "cell_type": "markdown",
      "metadata": {
        "pycharm": {
          "name": "#%% md\n"
        },
        "id": "59abMZ8JSKtr"
      },
      "source": [
        "**Задание 7. (бонус, до 3 баллов)**\n",
        "\n",
        "Улучшите качество получившейся системы настолько, насколько сможете. За каждые 5 процентов, на которые AER на тех же данных получается меньше, чем минимум ошибки всех предыдущих моделей, вы получите по 1 бонусному баллу.\n",
        "\n",
        "Ниже приведены несколько идей, которые могут помочь вам повысить\n",
        "\n",
        "* Модифицировать модель: как вы можете понять, недостатком второго реализованного вами подхода является избыточное число параметров из-за необходимости подерживать отдельную матрицу для каждой различной пары длин предложений в корпусе. В статье https://www.aclweb.org/anthology/N13-1073.pdf приведён способ снижения числа параметров, задающих априорное распределение позиций выравнивания, который позволяет в десять раз быстрее обучать модель и получать лучшее качество.\n",
        "* Агрегация по двум направлениям: в статье https://www.aclweb.org/anthology/J03-1002/ утверждается, что асимметричность выравниваний вредит качеству, потому что из-за выбранной модели одному слову в целевом предложении не может соответствовать два слова в исходном предложении. Для решения этой проблемы (и улучшения метрик, разумеется) авторы предлагают несколько алгоритмов, которые можно попробовать применить в этом задании.\n",
        "* Использовать больше обучающих данных. В корпусе, которым мы пользуемся, только пара тысяч предложений, чего может не хватать для по-настоящему хорошей модели выравнивания. Разумеется, неразмеченных параллельных английско-чешских корпусов гораздо больше, поэтому можно воспользоваться ими. Хорошая точка для старта — данные с соревнования по машинному переводу  [воркшопа WMT](http://www.statmt.org/wmt20/translation-task.html).\n",
        "* В языках часто существуют слова наподобие артиклей или предлогов, которым не соответствует ни одно слово в переводе. Все рассмотренные в рамках задания модели это не учитывают, возможно, добавление возможности перевода в «нулевой» токен улучшит качество модели (при тестировании такие выравнивания имеет смысл выбрасывать)"
      ]
    },
    {
      "cell_type": "code",
      "execution_count": null,
      "metadata": {
        "pycharm": {
          "name": "#%%\n"
        },
        "id": "J_SLapAjSKtr"
      },
      "outputs": [],
      "source": [
        "# ┐_(ツ)_┌━☆ﾟ.*･｡ﾟ"
      ]
    }
  ],
  "metadata": {
    "kernelspec": {
      "display_name": "Python 3 (ipykernel)",
      "language": "python",
      "name": "python3"
    },
    "language_info": {
      "codemirror_mode": {
        "name": "ipython",
        "version": 3
      },
      "file_extension": ".py",
      "mimetype": "text/x-python",
      "name": "python",
      "nbconvert_exporter": "python",
      "pygments_lexer": "ipython3",
      "version": "3.13.1"
    },
    "colab": {
      "provenance": []
    }
  },
  "nbformat": 4,
  "nbformat_minor": 0
}