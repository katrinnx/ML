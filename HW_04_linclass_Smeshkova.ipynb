{
  "cells": [
    {
      "cell_type": "markdown",
      "metadata": {
        "id": "LTlmjXExP75I"
      },
      "source": [
        "# Машинное обучение, ФКН ВШЭ\n",
        "\n",
        "## Практическое задание 4. Классификация"
      ]
    },
    {
      "cell_type": "markdown",
      "metadata": {
        "id": "kH11bAAV2SoV"
      },
      "source": [
        "### Общая информация\n",
        "Дата выдачи: 16.11.2024\n",
        "\n",
        "Мягкий дедлайн: 28.11.2024\n",
        "\n",
        "Жесткий дедлайн: 02.12.2024"
      ]
    },
    {
      "cell_type": "markdown",
      "metadata": {
        "id": "iWjJuhqS3Ucc"
      },
      "source": [
        "### О задании\n",
        "\n",
        "В этом задании вы:\n",
        "- ознакомитесь с тем, что происходит \"внутри\" метода опорных векторов и логистической регрессии\n",
        "- познакомитесь с калибровкой вероятности\n",
        "- изучите методы трансформации переменных и методы отбора признаков\n",
        "- попробуете оценить экономический эффект модели\n",
        "\n",
        "----\n",
        "\n",
        "#### Самостоятельная оценка результатов\n",
        "\n",
        "Для удобства проверки, исходя из набора решенных задач, посчитайте свою максимальную оценку.\n",
        "\n",
        "**Оценка**:"
      ]
    },
    {
      "cell_type": "markdown",
      "metadata": {
        "id": "Or0r6z5v1Mmt"
      },
      "source": [
        "### Оценивание и штрафы"
      ]
    },
    {
      "cell_type": "markdown",
      "metadata": {
        "id": "CecLXG_w3zs0"
      },
      "source": [
        "Каждая из задач имеет определенную «стоимость» (указана в скобках около задачи). Максимально допустимая оценка за работу — 10 баллов.\n",
        "\n",
        "Задание выполняется самостоятельно. «Похожие» решения считаются плагиатом и все задействованные студенты (в том числе те, у кого списали) не могут получить за него больше 0 баллов (подробнее о плагиате см. на странице курса). Если вы нашли решение какого-то из заданий (или его часть) в открытом источнике, необходимо указать ссылку на этот источник в отдельном блоке в конце вашей работы (скорее всего вы будете не единственным, кто это нашел, поэтому чтобы исключить подозрение в плагиате, необходима ссылка на источник).\n",
        "\n",
        "Неэффективная реализация кода может негативно отразиться на оценке."
      ]
    },
    {
      "cell_type": "markdown",
      "metadata": {
        "id": "eMwMhTpA1MwR"
      },
      "source": [
        "### Формат сдачи"
      ]
    },
    {
      "cell_type": "markdown",
      "metadata": {
        "id": "O5qs8FC_35h7"
      },
      "source": [
        "Для сдачи задания переименуйте получившийся файл *.ipynb в соответствии со следующим форматом: homework-practice-04-linclass-__Username__.ipynb, где Username — ваша фамилия и имя на латинице именно в таком порядке (например, homework-practice-04-linclass-__IvanovIvan__.ipynb)."
      ]
    },
    {
      "cell_type": "markdown",
      "metadata": {
        "id": "KGWDDNDyP75O"
      },
      "source": [
        "# Часть 1. SVM, LR и калибровка вероятностей (2 балла + 0.5 бонус)"
      ]
    },
    {
      "cell_type": "code",
      "execution_count": 10,
      "metadata": {
        "id": "KyqoX1BNP75N"
      },
      "outputs": [],
      "source": [
        "import numpy as np\n",
        "import pandas as pd\n",
        "# import polars as pl\n",
        "import matplotlib.pyplot as plt\n",
        "%matplotlib inline\n",
        "\n",
        "pd.set_option('display.max_rows', 100)\n",
        "pd.set_option('display.max_columns', 100)\n",
        "# pl.Config().set_tbl_rows(100)\n",
        "# pl.Config().set_tbl_cols(100)"
      ]
    },
    {
      "cell_type": "markdown",
      "metadata": {
        "id": "xvhLtt4OP75Q"
      },
      "source": [
        "#### __Задание 1.1  Сравнение методов__ (0.5 балла)\n",
        "\n"
      ]
    },
    {
      "cell_type": "markdown",
      "metadata": {
        "id": "LZw2aOq9P75O"
      },
      "source": [
        "Сгенерируем синтетические данные."
      ]
    },
    {
      "cell_type": "code",
      "execution_count": 11,
      "metadata": {
        "id": "mqkczFrQP75P"
      },
      "outputs": [],
      "source": [
        "from sklearn.datasets import make_classification\n",
        "from sklearn.model_selection import train_test_split\n",
        "\n",
        "# фиксируем random_state для воспроизводимости результатов\n",
        "X, y = make_classification(\n",
        "    n_samples=10000, n_features=10, n_informative=5, n_redundant=5, random_state=42\n",
        ")\n",
        "\n",
        "X_train, X_test, y_train, y_test = train_test_split(X, y, test_size=0.3, random_state=42)"
      ]
    },
    {
      "cell_type": "markdown",
      "metadata": {
        "id": "BdPx-lQbtaRe"
      },
      "source": [
        "__Случайный классификатор__\n",
        "\n",
        "Для начала зададим самую простую модель, которая на каждом объекте выдаёт случайный ответ. По тестовой выборке вычислим AUC-ROC, AUC-PR."
      ]
    },
    {
      "cell_type": "code",
      "execution_count": 12,
      "metadata": {
        "colab": {
          "base_uri": "https://localhost:8080/"
        },
        "id": "5gcSglAOjVn-",
        "outputId": "7d02ee97-5874-43f1-cbaf-f315b5f29ca2"
      },
      "outputs": [
        {
          "output_type": "execute_result",
          "data": {
            "text/plain": [
              "array([0.5, 0.5, 0.5, ..., 0.5, 0.5, 0.5])"
            ]
          },
          "metadata": {},
          "execution_count": 12
        }
      ],
      "source": [
        "from sklearn.dummy import DummyClassifier\n",
        "random_classifier = DummyClassifier(strategy='uniform', random_state=42).fit(X_train, y_train)\n",
        "y_random = random_classifier.predict_proba(X_test)[:,1]\n",
        "y_random"
      ]
    },
    {
      "cell_type": "markdown",
      "metadata": {
        "id": "bUhBXPre7jNi"
      },
      "source": [
        "**Вопрос:** решаем задачу бинарной классификации, но y\\_random содержит какие-то дробные числа, а не 0/1. Почему?\n",
        "\n"
      ]
    },
    {
      "cell_type": "markdown",
      "metadata": {
        "id": "RpIDxyuHH1bt"
      },
      "source": [
        "**Ответ**: Это вероятности вероятности того, что каждый из примеров в тестовой выборке принадлежит к классу 1, т.к. смотрим на метод predict_proba[:,1]"
      ]
    },
    {
      "cell_type": "markdown",
      "metadata": {
        "id": "LnmZFwEYDVqx"
      },
      "source": [
        "*Ниже приведен **пример** работы* со встроенными функциями `sklearn` для отрисовки ROC и PR кривых, сохранения метрик. Пайплайн можно изменять как вам удобно."
      ]
    },
    {
      "cell_type": "code",
      "execution_count": 13,
      "metadata": {
        "id": "gNJLhNj7DkLx"
      },
      "outputs": [],
      "source": [
        "from sklearn.metrics import average_precision_score\n",
        "\n",
        "from sklearn.metrics import precision_recall_curve\n",
        "from sklearn.metrics import PrecisionRecallDisplay\n",
        "\n",
        "from sklearn.metrics import roc_auc_score\n",
        "from sklearn.metrics import RocCurveDisplay"
      ]
    },
    {
      "cell_type": "code",
      "execution_count": 14,
      "metadata": {
        "colab": {
          "base_uri": "https://localhost:8080/",
          "height": 564
        },
        "id": "-WHELzN6_fsQ",
        "outputId": "9ab72bc4-3105-4faa-a34c-9e9543f0b557"
      },
      "outputs": [
        {
          "output_type": "stream",
          "name": "stdout",
          "text": [
            "Random Classifier metrics\n",
            "AUC-PR: 0.5057\n",
            "AUC-ROC: 0.5000\n"
          ]
        },
        {
          "output_type": "display_data",
          "data": {
            "text/plain": [
              "<Figure size 1100x500 with 2 Axes>"
            ],
            "image/png": "[encoded data removed]"
          },
          "metadata": {}
        }
      ],
      "source": [
        "def depict_pr_roc(y_true, y_pred, classifier_name='Some Classifier', ax=None):\n",
        "    if ax is None:\n",
        "        fig, ax = plt.subplots(1, 2, figsize=(11, 5))\n",
        "\n",
        "    print(classifier_name, 'metrics')\n",
        "    PrecisionRecallDisplay.from_predictions(y_true, y_pred, ax=ax[0], name=classifier_name, color='purple')\n",
        "    print('AUC-PR: %.4f' % average_precision_score(y_true, y_pred))\n",
        "    ax[0].set_title(\"PRC\")\n",
        "    ax[0].set_ylim(0, 1.1)\n",
        "\n",
        "    RocCurveDisplay.from_predictions(y_true, y_pred, ax=ax[1], name=classifier_name, color='violet')\n",
        "    print('AUC-ROC: %.4f' % roc_auc_score(y_true, y_pred))\n",
        "    ax[1].set_title(\"ROC\")\n",
        "    ax[1].set_ylim(0, 1.1)\n",
        "\n",
        "    plt.tight_layout()\n",
        "    plt.legend()\n",
        "\n",
        "\n",
        "depict_pr_roc(y_test, y_random, 'Random Classifier')"
      ]
    },
    {
      "cell_type": "code",
      "execution_count": 15,
      "metadata": {
        "colab": {
          "base_uri": "https://localhost:8080/",
          "height": 81
        },
        "id": "pSugCdAAEF2z",
        "outputId": "b055dd87-0040-49ac-8f67-a135cc0de8a0"
      },
      "outputs": [
        {
          "output_type": "execute_result",
          "data": {
            "text/plain": [
              "                     auc_pr  roc_auc_score  reg_const\n",
              "Random Classifier  0.505667            0.5        0.0"
            ],
            "text/html": [
              "\n",
              "  <div id=\"df-5b3d2214-8fba-4ccd-b30d-371cf0b5bc77\" class=\"colab-df-container\">\n",
              "    <div>\n",
              "<style scoped>\n",
              "    .dataframe tbody tr th:only-of-type {\n",
              "        vertical-align: middle;\n",
              "    }\n",
              "\n",
              "    .dataframe tbody tr th {\n",
              "        vertical-align: top;\n",
              "    }\n",
              "\n",
              "    .dataframe thead th {\n",
              "        text-align: right;\n",
              "    }\n",
              "</style>\n",
              "<table border=\"1\" class=\"dataframe\">\n",
              "  <thead>\n",
              "    <tr style=\"text-align: right;\">\n",
              "      <th></th>\n",
              "      <th>auc_pr</th>\n",
              "      <th>roc_auc_score</th>\n",
              "      <th>reg_const</th>\n",
              "    </tr>\n",
              "  </thead>\n",
              "  <tbody>\n",
              "    <tr>\n",
              "      <th>Random Classifier</th>\n",
              "      <td>0.505667</td>\n",
              "      <td>0.5</td>\n",
              "      <td>0.0</td>\n",
              "    </tr>\n",
              "  </tbody>\n",
              "</table>\n",
              "</div>\n",
              "    <div class=\"colab-df-buttons\">\n",
              "\n",
              "  <div class=\"colab-df-container\">\n",
              "    <button class=\"colab-df-convert\" onclick=\"convertToInteractive('df-5b3d2214-8fba-4ccd-b30d-371cf0b5bc77')\"\n",
              "            title=\"Convert this dataframe to an interactive table.\"\n",
              "            style=\"display:none;\">\n",
              "\n",
              "  <svg xmlns=\"http://www.w3.org/2000/svg\" height=\"24px\" viewBox=\"0 -960 960 960\">\n",
              "    <path d=\"M120-120v-720h720v720H120Zm60-500h600v-160H180v160Zm220 220h160v-160H400v160Zm0 220h160v-160H400v160ZM180-400h160v-160H180v160Zm440 0h160v-160H620v160ZM180-180h160v-160H180v160Zm440 0h160v-160H620v160Z\"/>\n",
              "  </svg>\n",
              "    </button>\n",
              "\n",
              "  <style>\n",
              "    .colab-df-container {\n",
              "      display:flex;\n",
              "      gap: 12px;\n",
              "    }\n",
              "\n",
              "    .colab-df-convert {\n",
              "      background-color: #E8F0FE;\n",
              "      border: none;\n",
              "      border-radius: 50%;\n",
              "      cursor: pointer;\n",
              "      display: none;\n",
              "      fill: #1967D2;\n",
              "      height: 32px;\n",
              "      padding: 0 0 0 0;\n",
              "      width: 32px;\n",
              "    }\n",
              "\n",
              "    .colab-df-convert:hover {\n",
              "      background-color: #E2EBFA;\n",
              "      box-shadow: 0px 1px 2px rgba(60, 64, 67, 0.3), 0px 1px 3px 1px rgba(60, 64, 67, 0.15);\n",
              "      fill: #174EA6;\n",
              "    }\n",
              "\n",
              "    .colab-df-buttons div {\n",
              "      margin-bottom: 4px;\n",
              "    }\n",
              "\n",
              "    [theme=dark] .colab-df-convert {\n",
              "      background-color: #3B4455;\n",
              "      fill: #D2E3FC;\n",
              "    }\n",
              "\n",
              "    [theme=dark] .colab-df-convert:hover {\n",
              "      background-color: #434B5C;\n",
              "      box-shadow: 0px 1px 3px 1px rgba(0, 0, 0, 0.15);\n",
              "      filter: drop-shadow(0px 1px 2px rgba(0, 0, 0, 0.3));\n",
              "      fill: #FFFFFF;\n",
              "    }\n",
              "  </style>\n",
              "\n",
              "    <script>\n",
              "      const buttonEl =\n",
              "        document.querySelector('#df-5b3d2214-8fba-4ccd-b30d-371cf0b5bc77 button.colab-df-convert');\n",
              "      buttonEl.style.display =\n",
              "        google.colab.kernel.accessAllowed ? 'block' : 'none';\n",
              "\n",
              "      async function convertToInteractive(key) {\n",
              "        const element = document.querySelector('#df-5b3d2214-8fba-4ccd-b30d-371cf0b5bc77');\n",
              "        const dataTable =\n",
              "          await google.colab.kernel.invokeFunction('convertToInteractive',\n",
              "                                                    [key], {});\n",
              "        if (!dataTable) return;\n",
              "\n",
              "        const docLinkHtml = 'Like what you see? Visit the ' +\n",
              "          '<a target=\"_blank\" href=https://colab.research.google.com/notebooks/data_table.ipynb>data table notebook</a>'\n",
              "          + ' to learn more about interactive tables.';\n",
              "        element.innerHTML = '';\n",
              "        dataTable['output_type'] = 'display_data';\n",
              "        await google.colab.output.renderOutput(dataTable, element);\n",
              "        const docLink = document.createElement('div');\n",
              "        docLink.innerHTML = docLinkHtml;\n",
              "        element.appendChild(docLink);\n",
              "      }\n",
              "    </script>\n",
              "  </div>\n",
              "\n",
              "    </div>\n",
              "  </div>\n"
            ],
            "application/vnd.google.colaboratory.intrinsic+json": {
              "type": "dataframe",
              "variable_name": "df_metrics",
              "summary": "{\n  \"name\": \"df_metrics\",\n  \"rows\": 1,\n  \"fields\": [\n    {\n      \"column\": \"auc_pr\",\n      \"properties\": {\n        \"dtype\": \"number\",\n        \"std\": null,\n        \"min\": 0.5056666666666667,\n        \"max\": 0.5056666666666667,\n        \"num_unique_values\": 1,\n        \"samples\": [\n          0.5056666666666667\n        ],\n        \"semantic_type\": \"\",\n        \"description\": \"\"\n      }\n    },\n    {\n      \"column\": \"roc_auc_score\",\n      \"properties\": {\n        \"dtype\": \"number\",\n        \"std\": null,\n        \"min\": 0.5,\n        \"max\": 0.5,\n        \"num_unique_values\": 1,\n        \"samples\": [\n          0.5\n        ],\n        \"semantic_type\": \"\",\n        \"description\": \"\"\n      }\n    },\n    {\n      \"column\": \"reg_const\",\n      \"properties\": {\n        \"dtype\": \"number\",\n        \"std\": null,\n        \"min\": 0.0,\n        \"max\": 0.0,\n        \"num_unique_values\": 1,\n        \"samples\": [\n          0.0\n        ],\n        \"semantic_type\": \"\",\n        \"description\": \"\"\n      }\n    }\n  ]\n}"
            }
          },
          "metadata": {},
          "execution_count": 15
        }
      ],
      "source": [
        "# dataframe для сравнения\n",
        "# методов классификации по метрикам\n",
        "df_metrics = pd.DataFrame(\n",
        "    columns=['auc_pr', 'roc_auc_score', 'reg_const']\n",
        ")\n",
        "precision, recall, _ = precision_recall_curve(y_test, y_random)\n",
        "# добавление очередной строки с характеристиками метода\n",
        "df_metrics.loc['Random Classifier'] = [\n",
        "      average_precision_score(y_test, y_random),\n",
        "      roc_auc_score(y_test, y_random),\n",
        "      0,\n",
        "]\n",
        "\n",
        "# по аналогии результаты следующих экспериментов можно будет собрать в табличку\n",
        "df_metrics"
      ]
    },
    {
      "cell_type": "markdown",
      "metadata": {
        "id": "9IwDobmQtW2P"
      },
      "source": [
        "__Support Vector Machine (Linear Kernel)__\n",
        "\n",
        "Обучите метод опорных векторов.\n",
        "\n",
        "Подберите параметр регуляризации `C` с точки зрения AUC-PR (можете воспользоваться кросс-валидацией или отделить валидационную выборку от обучающей).\n"
      ]
    },
    {
      "cell_type": "code",
      "execution_count": 17,
      "metadata": {
        "colab": {
          "base_uri": "https://localhost:8080/"
        },
        "id": "eyjF-qc3P75Q",
        "outputId": "e875a50b-537d-4ff3-af4e-dc6472cdb3b0"
      },
      "outputs": [
        {
          "output_type": "stream",
          "name": "stdout",
          "text": [
            "Optimal C value: 0.1\n",
            "Best average precision score: 0.7831067961968795\n"
          ]
        }
      ],
      "source": [
        "from sklearn.svm import LinearSVC\n",
        "from sklearn.svm import SVC\n",
        "from sklearn.model_selection import GridSearchCV\n",
        "from sklearn.metrics import make_scorer\n",
        "\n",
        "c_grid = {'C': np.logspace(-3, 1, 5)}\n",
        "\n",
        "SVC_best = GridSearchCV(\n",
        "    SVC(kernel='linear'),\n",
        "    param_grid=c_grid,\n",
        "    scoring=make_scorer(roc_auc_score),\n",
        "    cv=3,\n",
        "    n_jobs=-1)\n",
        "\n",
        "SVC_best.fit(X_train, y_train)\n",
        "\n",
        "print(f\"Optimal C value: {SVC_best.best_params_['C']}\")\n",
        "print(f\"Best average precision score: {SVC_best.best_score_}\")"
      ]
    },
    {
      "cell_type": "markdown",
      "metadata": {
        "id": "fapa63xlP75R"
      },
      "source": [
        "  На тестовой части:\n",
        "  - постройте ROC и PR кривые,\n",
        "  - посчитайте AUC-ROC, AUC-PR"
      ]
    },
    {
      "cell_type": "code",
      "execution_count": 18,
      "metadata": {
        "colab": {
          "base_uri": "https://localhost:8080/",
          "height": 564
        },
        "id": "xTvNT5uRP75S",
        "outputId": "9b187179-6da5-4e07-c991-bf7a39dc74e2"
      },
      "outputs": [
        {
          "output_type": "stream",
          "name": "stdout",
          "text": [
            "SVC metrics\n",
            "AUC-PR: 0.8153\n",
            "AUC-ROC: 0.8479\n"
          ]
        },
        {
          "output_type": "display_data",
          "data": {
            "text/plain": [
              "<Figure size 1100x500 with 2 Axes>"
            ],
            "image/png": "[encoded data removed]"
          },
          "metadata": {}
        }
      ],
      "source": [
        "svc_y_pred = SVC_best.decision_function(X_test)\n",
        "depict_pr_roc(y_test, svc_y_pred, 'SVC')"
      ]
    },
    {
      "cell_type": "markdown",
      "metadata": {
        "id": "FTvgDyaFhkYz"
      },
      "source": [
        "Проанализируйте, как себя ведут обе кривые:\n",
        "- Что происходит при увеличении порога? Как бы вы это проинтерпретировали?\n",
        "- Монотонные ли кривые? Как вы это объясните?"
      ]
    },
    {
      "cell_type": "markdown",
      "metadata": {
        "id": "G71igo7RWEoi"
      },
      "source": [
        "Кривые ROC и PR для SVC демонстрируют ожидаемое поведение: при увеличении порога классификации точность растет, но полнота снижается (порог выше => модель реже ошибается при выдаче положительного класса, однако покрытие положительного класса снижается). Обе кривые монотонно изменяются, что отражает уменьшение числа положительных предсказаний с ростом порога. Высокие значения AUC-PR и AUC-ROC указывают на хорошее качество модели"
      ]
    },
    {
      "cell_type": "markdown",
      "metadata": {
        "id": "tEoGp5EDtIzW"
      },
      "source": [
        "Сравните AUC-ROC и AUC-PR для вашей модели с этими же метриками для случайного классификатора."
      ]
    },
    {
      "cell_type": "code",
      "execution_count": 19,
      "metadata": {
        "colab": {
          "base_uri": "https://localhost:8080/",
          "height": 112
        },
        "id": "wnRTMhsm6Hvv",
        "outputId": "faae678d-14be-4a66-ccdf-4f4598ca8809"
      },
      "outputs": [
        {
          "output_type": "execute_result",
          "data": {
            "text/plain": [
              "                     auc_pr  roc_auc_score  reg_const\n",
              "Random Classifier  0.505667       0.500000        0.0\n",
              "SVC                0.815269       0.847896        0.1"
            ],
            "text/html": [
              "\n",
              "  <div id=\"df-57fd37c4-07cd-4777-9ef4-eea93bd2785b\" class=\"colab-df-container\">\n",
              "    <div>\n",
              "<style scoped>\n",
              "    .dataframe tbody tr th:only-of-type {\n",
              "        vertical-align: middle;\n",
              "    }\n",
              "\n",
              "    .dataframe tbody tr th {\n",
              "        vertical-align: top;\n",
              "    }\n",
              "\n",
              "    .dataframe thead th {\n",
              "        text-align: right;\n",
              "    }\n",
              "</style>\n",
              "<table border=\"1\" class=\"dataframe\">\n",
              "  <thead>\n",
              "    <tr style=\"text-align: right;\">\n",
              "      <th></th>\n",
              "      <th>auc_pr</th>\n",
              "      <th>roc_auc_score</th>\n",
              "      <th>reg_const</th>\n",
              "    </tr>\n",
              "  </thead>\n",
              "  <tbody>\n",
              "    <tr>\n",
              "      <th>Random Classifier</th>\n",
              "      <td>0.505667</td>\n",
              "      <td>0.500000</td>\n",
              "      <td>0.0</td>\n",
              "    </tr>\n",
              "    <tr>\n",
              "      <th>SVC</th>\n",
              "      <td>0.815269</td>\n",
              "      <td>0.847896</td>\n",
              "      <td>0.1</td>\n",
              "    </tr>\n",
              "  </tbody>\n",
              "</table>\n",
              "</div>\n",
              "    <div class=\"colab-df-buttons\">\n",
              "\n",
              "  <div class=\"colab-df-container\">\n",
              "    <button class=\"colab-df-convert\" onclick=\"convertToInteractive('df-57fd37c4-07cd-4777-9ef4-eea93bd2785b')\"\n",
              "            title=\"Convert this dataframe to an interactive table.\"\n",
              "            style=\"display:none;\">\n",
              "\n",
              "  <svg xmlns=\"http://www.w3.org/2000/svg\" height=\"24px\" viewBox=\"0 -960 960 960\">\n",
              "    <path d=\"M120-120v-720h720v720H120Zm60-500h600v-160H180v160Zm220 220h160v-160H400v160Zm0 220h160v-160H400v160ZM180-400h160v-160H180v160Zm440 0h160v-160H620v160ZM180-180h160v-160H180v160Zm440 0h160v-160H620v160Z\"/>\n",
              "  </svg>\n",
              "    </button>\n",
              "\n",
              "  <style>\n",
              "    .colab-df-container {\n",
              "      display:flex;\n",
              "      gap: 12px;\n",
              "    }\n",
              "\n",
              "    .colab-df-convert {\n",
              "      background-color: #E8F0FE;\n",
              "      border: none;\n",
              "      border-radius: 50%;\n",
              "      cursor: pointer;\n",
              "      display: none;\n",
              "      fill: #1967D2;\n",
              "      height: 32px;\n",
              "      padding: 0 0 0 0;\n",
              "      width: 32px;\n",
              "    }\n",
              "\n",
              "    .colab-df-convert:hover {\n",
              "      background-color: #E2EBFA;\n",
              "      box-shadow: 0px 1px 2px rgba(60, 64, 67, 0.3), 0px 1px 3px 1px rgba(60, 64, 67, 0.15);\n",
              "      fill: #174EA6;\n",
              "    }\n",
              "\n",
              "    .colab-df-buttons div {\n",
              "      margin-bottom: 4px;\n",
              "    }\n",
              "\n",
              "    [theme=dark] .colab-df-convert {\n",
              "      background-color: #3B4455;\n",
              "      fill: #D2E3FC;\n",
              "    }\n",
              "\n",
              "    [theme=dark] .colab-df-convert:hover {\n",
              "      background-color: #434B5C;\n",
              "      box-shadow: 0px 1px 3px 1px rgba(0, 0, 0, 0.15);\n",
              "      filter: drop-shadow(0px 1px 2px rgba(0, 0, 0, 0.3));\n",
              "      fill: #FFFFFF;\n",
              "    }\n",
              "  </style>\n",
              "\n",
              "    <script>\n",
              "      const buttonEl =\n",
              "        document.querySelector('#df-57fd37c4-07cd-4777-9ef4-eea93bd2785b button.colab-df-convert');\n",
              "      buttonEl.style.display =\n",
              "        google.colab.kernel.accessAllowed ? 'block' : 'none';\n",
              "\n",
              "      async function convertToInteractive(key) {\n",
              "        const element = document.querySelector('#df-57fd37c4-07cd-4777-9ef4-eea93bd2785b');\n",
              "        const dataTable =\n",
              "          await google.colab.kernel.invokeFunction('convertToInteractive',\n",
              "                                                    [key], {});\n",
              "        if (!dataTable) return;\n",
              "\n",
              "        const docLinkHtml = 'Like what you see? Visit the ' +\n",
              "          '<a target=\"_blank\" href=https://colab.research.google.com/notebooks/data_table.ipynb>data table notebook</a>'\n",
              "          + ' to learn more about interactive tables.';\n",
              "        element.innerHTML = '';\n",
              "        dataTable['output_type'] = 'display_data';\n",
              "        await google.colab.output.renderOutput(dataTable, element);\n",
              "        const docLink = document.createElement('div');\n",
              "        docLink.innerHTML = docLinkHtml;\n",
              "        element.appendChild(docLink);\n",
              "      }\n",
              "    </script>\n",
              "  </div>\n",
              "\n",
              "\n",
              "<div id=\"df-abe4e3fd-aa98-4f17-8b25-82c2a97c587b\">\n",
              "  <button class=\"colab-df-quickchart\" onclick=\"quickchart('df-abe4e3fd-aa98-4f17-8b25-82c2a97c587b')\"\n",
              "            title=\"Suggest charts\"\n",
              "            style=\"display:none;\">\n",
              "\n",
              "<svg xmlns=\"http://www.w3.org/2000/svg\" height=\"24px\"viewBox=\"0 0 24 24\"\n",
              "     width=\"24px\">\n",
              "    <g>\n",
              "        <path d=\"M19 3H5c-1.1 0-2 .9-2 2v14c0 1.1.9 2 2 2h14c1.1 0 2-.9 2-2V5c0-1.1-.9-2-2-2zM9 17H7v-7h2v7zm4 0h-2V7h2v10zm4 0h-2v-4h2v4z\"/>\n",
              "    </g>\n",
              "</svg>\n",
              "  </button>\n",
              "\n",
              "<style>\n",
              "  .colab-df-quickchart {\n",
              "      --bg-color: #E8F0FE;\n",
              "      --fill-color: #1967D2;\n",
              "      --hover-bg-color: #E2EBFA;\n",
              "      --hover-fill-color: #174EA6;\n",
              "      --disabled-fill-color: #AAA;\n",
              "      --disabled-bg-color: #DDD;\n",
              "  }\n",
              "\n",
              "  [theme=dark] .colab-df-quickchart {\n",
              "      --bg-color: #3B4455;\n",
              "      --fill-color: #D2E3FC;\n",
              "      --hover-bg-color: #434B5C;\n",
              "      --hover-fill-color: #FFFFFF;\n",
              "      --disabled-bg-color: #3B4455;\n",
              "      --disabled-fill-color: #666;\n",
              "  }\n",
              "\n",
              "  .colab-df-quickchart {\n",
              "    background-color: var(--bg-color);\n",
              "    border: none;\n",
              "    border-radius: 50%;\n",
              "    cursor: pointer;\n",
              "    display: none;\n",
              "    fill: var(--fill-color);\n",
              "    height: 32px;\n",
              "    padding: 0;\n",
              "    width: 32px;\n",
              "  }\n",
              "\n",
              "  .colab-df-quickchart:hover {\n",
              "    background-color: var(--hover-bg-color);\n",
              "    box-shadow: 0 1px 2px rgba(60, 64, 67, 0.3), 0 1px 3px 1px rgba(60, 64, 67, 0.15);\n",
              "    fill: var(--button-hover-fill-color);\n",
              "  }\n",
              "\n",
              "  .colab-df-quickchart-complete:disabled,\n",
              "  .colab-df-quickchart-complete:disabled:hover {\n",
              "    background-color: var(--disabled-bg-color);\n",
              "    fill: var(--disabled-fill-color);\n",
              "    box-shadow: none;\n",
              "  }\n",
              "\n",
              "  .colab-df-spinner {\n",
              "    border: 2px solid var(--fill-color);\n",
              "    border-color: transparent;\n",
              "    border-bottom-color: var(--fill-color);\n",
              "    animation:\n",
              "      spin 1s steps(1) infinite;\n",
              "  }\n",
              "\n",
              "  @keyframes spin {\n",
              "    0% {\n",
              "      border-color: transparent;\n",
              "      border-bottom-color: var(--fill-color);\n",
              "      border-left-color: var(--fill-color);\n",
              "    }\n",
              "    20% {\n",
              "      border-color: transparent;\n",
              "      border-left-color: var(--fill-color);\n",
              "      border-top-color: var(--fill-color);\n",
              "    }\n",
              "    30% {\n",
              "      border-color: transparent;\n",
              "      border-left-color: var(--fill-color);\n",
              "      border-top-color: var(--fill-color);\n",
              "      border-right-color: var(--fill-color);\n",
              "    }\n",
              "    40% {\n",
              "      border-color: transparent;\n",
              "      border-right-color: var(--fill-color);\n",
              "      border-top-color: var(--fill-color);\n",
              "    }\n",
              "    60% {\n",
              "      border-color: transparent;\n",
              "      border-right-color: var(--fill-color);\n",
              "    }\n",
              "    80% {\n",
              "      border-color: transparent;\n",
              "      border-right-color: var(--fill-color);\n",
              "      border-bottom-color: var(--fill-color);\n",
              "    }\n",
              "    90% {\n",
              "      border-color: transparent;\n",
              "      border-bottom-color: var(--fill-color);\n",
              "    }\n",
              "  }\n",
              "</style>\n",
              "\n",
              "  <script>\n",
              "    async function quickchart(key) {\n",
              "      const quickchartButtonEl =\n",
              "        document.querySelector('#' + key + ' button');\n",
              "      quickchartButtonEl.disabled = true;  // To prevent multiple clicks.\n",
              "      quickchartButtonEl.classList.add('colab-df-spinner');\n",
              "      try {\n",
              "        const charts = await google.colab.kernel.invokeFunction(\n",
              "            'suggestCharts', [key], {});\n",
              "      } catch (error) {\n",
              "        console.error('Error during call to suggestCharts:', error);\n",
              "      }\n",
              "      quickchartButtonEl.classList.remove('colab-df-spinner');\n",
              "      quickchartButtonEl.classList.add('colab-df-quickchart-complete');\n",
              "    }\n",
              "    (() => {\n",
              "      let quickchartButtonEl =\n",
              "        document.querySelector('#df-abe4e3fd-aa98-4f17-8b25-82c2a97c587b button');\n",
              "      quickchartButtonEl.style.display =\n",
              "        google.colab.kernel.accessAllowed ? 'block' : 'none';\n",
              "    })();\n",
              "  </script>\n",
              "</div>\n",
              "    </div>\n",
              "  </div>\n"
            ],
            "application/vnd.google.colaboratory.intrinsic+json": {
              "type": "dataframe",
              "variable_name": "df_metrics",
              "summary": "{\n  \"name\": \"df_metrics\",\n  \"rows\": 2,\n  \"fields\": [\n    {\n      \"column\": \"auc_pr\",\n      \"properties\": {\n        \"dtype\": \"number\",\n        \"std\": 0.21892176039943798,\n        \"min\": 0.5056666666666667,\n        \"max\": 0.8152687893221451,\n        \"num_unique_values\": 2,\n        \"samples\": [\n          0.8152687893221451,\n          0.5056666666666667\n        ],\n        \"semantic_type\": \"\",\n        \"description\": \"\"\n      }\n    },\n    {\n      \"column\": \"roc_auc_score\",\n      \"properties\": {\n        \"dtype\": \"number\",\n        \"std\": 0.24599931962104402,\n        \"min\": 0.5,\n        \"max\": 0.8478955741426343,\n        \"num_unique_values\": 2,\n        \"samples\": [\n          0.8478955741426343,\n          0.5\n        ],\n        \"semantic_type\": \"\",\n        \"description\": \"\"\n      }\n    },\n    {\n      \"column\": \"reg_const\",\n      \"properties\": {\n        \"dtype\": \"number\",\n        \"std\": 0.07071067811865477,\n        \"min\": 0.0,\n        \"max\": 0.1,\n        \"num_unique_values\": 2,\n        \"samples\": [\n          0.1,\n          0.0\n        ],\n        \"semantic_type\": \"\",\n        \"description\": \"\"\n      }\n    }\n  ]\n}"
            }
          },
          "metadata": {},
          "execution_count": 19
        }
      ],
      "source": [
        "precision, recall, _ = precision_recall_curve(y_test, svc_y_pred)\n",
        "\n",
        "df_metrics.loc['SVC'] = [\n",
        "      average_precision_score(y_test, svc_y_pred),\n",
        "      roc_auc_score(y_test, svc_y_pred),\n",
        "      SVC_best.best_params_[\"C\"],\n",
        "]\n",
        "\n",
        "df_metrics"
      ]
    },
    {
      "cell_type": "markdown",
      "metadata": {
        "id": "8tgxCTGPRD0t"
      },
      "source": [
        "Результаты значительно улучшились"
      ]
    },
    {
      "cell_type": "markdown",
      "metadata": {
        "id": "Ln5VaZE_P75S"
      },
      "source": [
        "__Logistic Regression__\n",
        "\n",
        "\n",
        "Аналогичное задание для логистической регрессии с L2 регуляризатором:\n",
        "\n",
        "\n",
        "*   подберите гиперпараметр C, используя метрику AUC-PR\n",
        "*   нарисуйте ROC, PR кривые для тестовой части\n",
        "*   выведите метрики для тестовых данных и сравните их с результатами случайного классификатора\n",
        "\n"
      ]
    },
    {
      "cell_type": "code",
      "execution_count": 20,
      "metadata": {
        "colab": {
          "base_uri": "https://localhost:8080/"
        },
        "id": "r1TlamoBP75S",
        "outputId": "3d3ed134-822f-4047-9362-c1aa6b0ccef9"
      },
      "outputs": [
        {
          "output_type": "stream",
          "name": "stdout",
          "text": [
            "Optimal C value: 0.01\n",
            "Best average precision score: 0.7161454045466704\n"
          ]
        }
      ],
      "source": [
        "from sklearn.linear_model import LogisticRegression\n",
        "\n",
        "c_grid = {'C': np.logspace(-3, 1, 5)}\n",
        "\n",
        "LR_best = GridSearchCV(\n",
        "    LogisticRegression(penalty='l2', random_state=42),\n",
        "    param_grid=c_grid,\n",
        "    scoring=make_scorer(average_precision_score),\n",
        "    cv=3,\n",
        "    n_jobs=-1)\n",
        "\n",
        "LR_best.fit(X_train, y_train)\n",
        "\n",
        "print(f\"Optimal C value: {LR_best.best_params_['C']}\")\n",
        "print(f\"Best average precision score: {LR_best.best_score_}\")"
      ]
    },
    {
      "cell_type": "code",
      "execution_count": 21,
      "metadata": {
        "colab": {
          "base_uri": "https://localhost:8080/",
          "height": 564
        },
        "id": "KLA7HZzcRTFS",
        "outputId": "6830bdf1-7f7c-424b-b4c3-26a9c87b1cf8"
      },
      "outputs": [
        {
          "output_type": "stream",
          "name": "stdout",
          "text": [
            "LR Classifier metrics\n",
            "AUC-PR: 0.8299\n",
            "AUC-ROC: 0.8476\n"
          ]
        },
        {
          "output_type": "display_data",
          "data": {
            "text/plain": [
              "<Figure size 1100x500 with 2 Axes>"
            ],
            "image/png": "[encoded data removed]"
          },
          "metadata": {}
        }
      ],
      "source": [
        "lr_y_pred = LR_best.decision_function(X_test)\n",
        "depict_pr_roc(y_test, lr_y_pred, 'LR Classifier')"
      ]
    },
    {
      "cell_type": "code",
      "execution_count": 22,
      "metadata": {
        "colab": {
          "base_uri": "https://localhost:8080/",
          "height": 143
        },
        "id": "zgy44yeNRkue",
        "outputId": "8af344c0-e3e9-4fba-a8b1-b97d2979bd35"
      },
      "outputs": [
        {
          "output_type": "execute_result",
          "data": {
            "text/plain": [
              "                     auc_pr  roc_auc_score  reg_const\n",
              "Random Classifier  0.505667       0.500000       0.00\n",
              "SVC                0.815269       0.847896       0.10\n",
              "LR Classifier      0.829930       0.847580       0.01"
            ],
            "text/html": [
              "\n",
              "  <div id=\"df-39ee9044-7c91-4d1a-b06e-8bc9fff75161\" class=\"colab-df-container\">\n",
              "    <div>\n",
              "<style scoped>\n",
              "    .dataframe tbody tr th:only-of-type {\n",
              "        vertical-align: middle;\n",
              "    }\n",
              "\n",
              "    .dataframe tbody tr th {\n",
              "        vertical-align: top;\n",
              "    }\n",
              "\n",
              "    .dataframe thead th {\n",
              "        text-align: right;\n",
              "    }\n",
              "</style>\n",
              "<table border=\"1\" class=\"dataframe\">\n",
              "  <thead>\n",
              "    <tr style=\"text-align: right;\">\n",
              "      <th></th>\n",
              "      <th>auc_pr</th>\n",
              "      <th>roc_auc_score</th>\n",
              "      <th>reg_const</th>\n",
              "    </tr>\n",
              "  </thead>\n",
              "  <tbody>\n",
              "    <tr>\n",
              "      <th>Random Classifier</th>\n",
              "      <td>0.505667</td>\n",
              "      <td>0.500000</td>\n",
              "      <td>0.00</td>\n",
              "    </tr>\n",
              "    <tr>\n",
              "      <th>SVC</th>\n",
              "      <td>0.815269</td>\n",
              "      <td>0.847896</td>\n",
              "      <td>0.10</td>\n",
              "    </tr>\n",
              "    <tr>\n",
              "      <th>LR Classifier</th>\n",
              "      <td>0.829930</td>\n",
              "      <td>0.847580</td>\n",
              "      <td>0.01</td>\n",
              "    </tr>\n",
              "  </tbody>\n",
              "</table>\n",
              "</div>\n",
              "    <div class=\"colab-df-buttons\">\n",
              "\n",
              "  <div class=\"colab-df-container\">\n",
              "    <button class=\"colab-df-convert\" onclick=\"convertToInteractive('df-39ee9044-7c91-4d1a-b06e-8bc9fff75161')\"\n",
              "            title=\"Convert this dataframe to an interactive table.\"\n",
              "            style=\"display:none;\">\n",
              "\n",
              "  <svg xmlns=\"http://www.w3.org/2000/svg\" height=\"24px\" viewBox=\"0 -960 960 960\">\n",
              "    <path d=\"M120-120v-720h720v720H120Zm60-500h600v-160H180v160Zm220 220h160v-160H400v160Zm0 220h160v-160H400v160ZM180-400h160v-160H180v160Zm440 0h160v-160H620v160ZM180-180h160v-160H180v160Zm440 0h160v-160H620v160Z\"/>\n",
              "  </svg>\n",
              "    </button>\n",
              "\n",
              "  <style>\n",
              "    .colab-df-container {\n",
              "      display:flex;\n",
              "      gap: 12px;\n",
              "    }\n",
              "\n",
              "    .colab-df-convert {\n",
              "      background-color: #E8F0FE;\n",
              "      border: none;\n",
              "      border-radius: 50%;\n",
              "      cursor: pointer;\n",
              "      display: none;\n",
              "      fill: #1967D2;\n",
              "      height: 32px;\n",
              "      padding: 0 0 0 0;\n",
              "      width: 32px;\n",
              "    }\n",
              "\n",
              "    .colab-df-convert:hover {\n",
              "      background-color: #E2EBFA;\n",
              "      box-shadow: 0px 1px 2px rgba(60, 64, 67, 0.3), 0px 1px 3px 1px rgba(60, 64, 67, 0.15);\n",
              "      fill: #174EA6;\n",
              "    }\n",
              "\n",
              "    .colab-df-buttons div {\n",
              "      margin-bottom: 4px;\n",
              "    }\n",
              "\n",
              "    [theme=dark] .colab-df-convert {\n",
              "      background-color: #3B4455;\n",
              "      fill: #D2E3FC;\n",
              "    }\n",
              "\n",
              "    [theme=dark] .colab-df-convert:hover {\n",
              "      background-color: #434B5C;\n",
              "      box-shadow: 0px 1px 3px 1px rgba(0, 0, 0, 0.15);\n",
              "      filter: drop-shadow(0px 1px 2px rgba(0, 0, 0, 0.3));\n",
              "      fill: #FFFFFF;\n",
              "    }\n",
              "  </style>\n",
              "\n",
              "    <script>\n",
              "      const buttonEl =\n",
              "        document.querySelector('#df-39ee9044-7c91-4d1a-b06e-8bc9fff75161 button.colab-df-convert');\n",
              "      buttonEl.style.display =\n",
              "        google.colab.kernel.accessAllowed ? 'block' : 'none';\n",
              "\n",
              "      async function convertToInteractive(key) {\n",
              "        const element = document.querySelector('#df-39ee9044-7c91-4d1a-b06e-8bc9fff75161');\n",
              "        const dataTable =\n",
              "          await google.colab.kernel.invokeFunction('convertToInteractive',\n",
              "                                                    [key], {});\n",
              "        if (!dataTable) return;\n",
              "\n",
              "        const docLinkHtml = 'Like what you see? Visit the ' +\n",
              "          '<a target=\"_blank\" href=https://colab.research.google.com/notebooks/data_table.ipynb>data table notebook</a>'\n",
              "          + ' to learn more about interactive tables.';\n",
              "        element.innerHTML = '';\n",
              "        dataTable['output_type'] = 'display_data';\n",
              "        await google.colab.output.renderOutput(dataTable, element);\n",
              "        const docLink = document.createElement('div');\n",
              "        docLink.innerHTML = docLinkHtml;\n",
              "        element.appendChild(docLink);\n",
              "      }\n",
              "    </script>\n",
              "  </div>\n",
              "\n",
              "\n",
              "<div id=\"df-533422d0-80f6-4632-a88f-ccbe6eeda3ba\">\n",
              "  <button class=\"colab-df-quickchart\" onclick=\"quickchart('df-533422d0-80f6-4632-a88f-ccbe6eeda3ba')\"\n",
              "            title=\"Suggest charts\"\n",
              "            style=\"display:none;\">\n",
              "\n",
              "<svg xmlns=\"http://www.w3.org/2000/svg\" height=\"24px\"viewBox=\"0 0 24 24\"\n",
              "     width=\"24px\">\n",
              "    <g>\n",
              "        <path d=\"M19 3H5c-1.1 0-2 .9-2 2v14c0 1.1.9 2 2 2h14c1.1 0 2-.9 2-2V5c0-1.1-.9-2-2-2zM9 17H7v-7h2v7zm4 0h-2V7h2v10zm4 0h-2v-4h2v4z\"/>\n",
              "    </g>\n",
              "</svg>\n",
              "  </button>\n",
              "\n",
              "<style>\n",
              "  .colab-df-quickchart {\n",
              "      --bg-color: #E8F0FE;\n",
              "      --fill-color: #1967D2;\n",
              "      --hover-bg-color: #E2EBFA;\n",
              "      --hover-fill-color: #174EA6;\n",
              "      --disabled-fill-color: #AAA;\n",
              "      --disabled-bg-color: #DDD;\n",
              "  }\n",
              "\n",
              "  [theme=dark] .colab-df-quickchart {\n",
              "      --bg-color: #3B4455;\n",
              "      --fill-color: #D2E3FC;\n",
              "      --hover-bg-color: #434B5C;\n",
              "      --hover-fill-color: #FFFFFF;\n",
              "      --disabled-bg-color: #3B4455;\n",
              "      --disabled-fill-color: #666;\n",
              "  }\n",
              "\n",
              "  .colab-df-quickchart {\n",
              "    background-color: var(--bg-color);\n",
              "    border: none;\n",
              "    border-radius: 50%;\n",
              "    cursor: pointer;\n",
              "    display: none;\n",
              "    fill: var(--fill-color);\n",
              "    height: 32px;\n",
              "    padding: 0;\n",
              "    width: 32px;\n",
              "  }\n",
              "\n",
              "  .colab-df-quickchart:hover {\n",
              "    background-color: var(--hover-bg-color);\n",
              "    box-shadow: 0 1px 2px rgba(60, 64, 67, 0.3), 0 1px 3px 1px rgba(60, 64, 67, 0.15);\n",
              "    fill: var(--button-hover-fill-color);\n",
              "  }\n",
              "\n",
              "  .colab-df-quickchart-complete:disabled,\n",
              "  .colab-df-quickchart-complete:disabled:hover {\n",
              "    background-color: var(--disabled-bg-color);\n",
              "    fill: var(--disabled-fill-color);\n",
              "    box-shadow: none;\n",
              "  }\n",
              "\n",
              "  .colab-df-spinner {\n",
              "    border: 2px solid var(--fill-color);\n",
              "    border-color: transparent;\n",
              "    border-bottom-color: var(--fill-color);\n",
              "    animation:\n",
              "      spin 1s steps(1) infinite;\n",
              "  }\n",
              "\n",
              "  @keyframes spin {\n",
              "    0% {\n",
              "      border-color: transparent;\n",
              "      border-bottom-color: var(--fill-color);\n",
              "      border-left-color: var(--fill-color);\n",
              "    }\n",
              "    20% {\n",
              "      border-color: transparent;\n",
              "      border-left-color: var(--fill-color);\n",
              "      border-top-color: var(--fill-color);\n",
              "    }\n",
              "    30% {\n",
              "      border-color: transparent;\n",
              "      border-left-color: var(--fill-color);\n",
              "      border-top-color: var(--fill-color);\n",
              "      border-right-color: var(--fill-color);\n",
              "    }\n",
              "    40% {\n",
              "      border-color: transparent;\n",
              "      border-right-color: var(--fill-color);\n",
              "      border-top-color: var(--fill-color);\n",
              "    }\n",
              "    60% {\n",
              "      border-color: transparent;\n",
              "      border-right-color: var(--fill-color);\n",
              "    }\n",
              "    80% {\n",
              "      border-color: transparent;\n",
              "      border-right-color: var(--fill-color);\n",
              "      border-bottom-color: var(--fill-color);\n",
              "    }\n",
              "    90% {\n",
              "      border-color: transparent;\n",
              "      border-bottom-color: var(--fill-color);\n",
              "    }\n",
              "  }\n",
              "</style>\n",
              "\n",
              "  <script>\n",
              "    async function quickchart(key) {\n",
              "      const quickchartButtonEl =\n",
              "        document.querySelector('#' + key + ' button');\n",
              "      quickchartButtonEl.disabled = true;  // To prevent multiple clicks.\n",
              "      quickchartButtonEl.classList.add('colab-df-spinner');\n",
              "      try {\n",
              "        const charts = await google.colab.kernel.invokeFunction(\n",
              "            'suggestCharts', [key], {});\n",
              "      } catch (error) {\n",
              "        console.error('Error during call to suggestCharts:', error);\n",
              "      }\n",
              "      quickchartButtonEl.classList.remove('colab-df-spinner');\n",
              "      quickchartButtonEl.classList.add('colab-df-quickchart-complete');\n",
              "    }\n",
              "    (() => {\n",
              "      let quickchartButtonEl =\n",
              "        document.querySelector('#df-533422d0-80f6-4632-a88f-ccbe6eeda3ba button');\n",
              "      quickchartButtonEl.style.display =\n",
              "        google.colab.kernel.accessAllowed ? 'block' : 'none';\n",
              "    })();\n",
              "  </script>\n",
              "</div>\n",
              "    </div>\n",
              "  </div>\n"
            ],
            "application/vnd.google.colaboratory.intrinsic+json": {
              "type": "dataframe",
              "variable_name": "df_metrics",
              "summary": "{\n  \"name\": \"df_metrics\",\n  \"rows\": 3,\n  \"fields\": [\n    {\n      \"column\": \"auc_pr\",\n      \"properties\": {\n        \"dtype\": \"number\",\n        \"std\": 0.18312798349667941,\n        \"min\": 0.5056666666666667,\n        \"max\": 0.8299300224852361,\n        \"num_unique_values\": 3,\n        \"samples\": [\n          0.5056666666666667,\n          0.8152687893221451,\n          0.8299300224852361\n        ],\n        \"semantic_type\": \"\",\n        \"description\": \"\"\n      }\n    },\n    {\n      \"column\": \"roc_auc_score\",\n      \"properties\": {\n        \"dtype\": \"number\",\n        \"std\": 0.20076643250794923,\n        \"min\": 0.5,\n        \"max\": 0.8478955741426343,\n        \"num_unique_values\": 3,\n        \"samples\": [\n          0.5,\n          0.8478955741426343,\n          0.8475795335489759\n        ],\n        \"semantic_type\": \"\",\n        \"description\": \"\"\n      }\n    },\n    {\n      \"column\": \"reg_const\",\n      \"properties\": {\n        \"dtype\": \"number\",\n        \"std\": 0.055075705472861024,\n        \"min\": 0.0,\n        \"max\": 0.1,\n        \"num_unique_values\": 3,\n        \"samples\": [\n          0.0,\n          0.1,\n          0.01\n        ],\n        \"semantic_type\": \"\",\n        \"description\": \"\"\n      }\n    }\n  ]\n}"
            }
          },
          "metadata": {},
          "execution_count": 22
        }
      ],
      "source": [
        "precision, recall, _ = precision_recall_curve(y_test, lr_y_pred)\n",
        "\n",
        "df_metrics.loc['LR Classifier'] = [\n",
        "      average_precision_score(y_test, lr_y_pred),\n",
        "      roc_auc_score(y_test, lr_y_pred),\n",
        "      LR_best.best_params_[\"C\"],\n",
        "]\n",
        "\n",
        "df_metrics"
      ]
    },
    {
      "cell_type": "markdown",
      "metadata": {
        "id": "j5weYTSwR0zd"
      },
      "source": [
        "AUC-PR значительно улучшилась по сравнению с рандомным классификатором, также улучшилась (но не настолько сильно) по сравнению с методом опорных векторов.\n",
        "\n",
        "AUC-ROC значительно улучшилась по сравнению с рандомным классификатором. Практически не изменилась по сравнению с методом опорных векторов."
      ]
    },
    {
      "cell_type": "markdown",
      "metadata": {
        "id": "Gnj5PG1Rm5qX"
      },
      "source": [
        "Нарисуйте ROC, PR кривые для тестовой части для всех 3 классификаторов на одном графике"
      ]
    },
    {
      "cell_type": "code",
      "execution_count": 23,
      "metadata": {
        "id": "X3BaXTRBnAwK"
      },
      "outputs": [],
      "source": [
        "def depict_pr_roc_many(y_true, y_pred, classifier_names, ax=None):\n",
        "    if ax is None:\n",
        "        fig, ax = plt.subplots(1, 2, figsize=(14, 6))\n",
        "\n",
        "    for classifier_name, y_pred in zip(classifiers, y_preds):\n",
        "      print(classifier_name, 'metrics')\n",
        "      PrecisionRecallDisplay.from_predictions(y_true, y_pred, ax=ax[0], name=classifier_name)\n",
        "\n",
        "      RocCurveDisplay.from_predictions(y_true, y_pred, ax=ax[1], name=classifier_name)\n",
        "\n",
        "    ax[0].set_title(\"PRC\")\n",
        "    ax[0].set_ylim(0, 1.1)\n",
        "    ax[1].set_title(\"ROC\")\n",
        "    ax[1].set_ylim(0, 1.1)\n",
        "    plt.tight_layout()\n",
        "    plt.legend()"
      ]
    },
    {
      "cell_type": "code",
      "execution_count": 24,
      "metadata": {
        "colab": {
          "base_uri": "https://localhost:8080/",
          "height": 664
        },
        "id": "hZy4W7tATKwD",
        "outputId": "28b913b6-eb94-405b-d582-b0f3cbf6f5e3"
      },
      "outputs": [
        {
          "output_type": "stream",
          "name": "stdout",
          "text": [
            "Random Classifier metrics\n",
            "SVC metrics\n",
            "LR Classifier metrics\n"
          ]
        },
        {
          "output_type": "display_data",
          "data": {
            "text/plain": [
              "<Figure size 1400x600 with 2 Axes>"
            ],
            "image/png": "[encoded data removed]"
          },
          "metadata": {}
        }
      ],
      "source": [
        "classifiers = ['Random Classifier', 'SVC', 'LR Classifier']\n",
        "y_preds = [y_random, svc_y_pred, lr_y_pred]\n",
        "depict_pr_roc_many(y_test, y_preds, classifiers)"
      ]
    },
    {
      "cell_type": "markdown",
      "metadata": {
        "id": "khlorKXtr1Sy"
      },
      "source": [
        "**Вопрос:** Сравните результаты LR и SVM с точки зрения всех вычисленных критериев качества, объясните различия (если они есть).\n",
        "\n"
      ]
    },
    {
      "cell_type": "markdown",
      "metadata": {
        "id": "Un_w7BMZIAf2"
      },
      "source": [
        "**Ответ:** С точки зрения AUC-ROC и AUC-PR методы LR и SVM очень похожи - это видно и на графиках, и по значениям в таблице. Как я уже отметила, AUC-PR на 0.015 выше для LR по сравнению с SVC - на первом графике видно, что зеленая линия чуть выше оранжевой"
      ]
    },
    {
      "cell_type": "markdown",
      "metadata": {
        "id": "RvWzOe4wP75T"
      },
      "source": [
        "#### __Задание 1.2. Визуализация в подходах SVM, LR__ (0.5 балла)\n",
        "\n"
      ]
    },
    {
      "cell_type": "markdown",
      "metadata": {
        "id": "kWS1NfYwBbQ_"
      },
      "source": [
        "В названии метода опорных векторов присутствуют некоторые \"опорные векторы\". По сути, это объекты из обучающей выборки, которые задали положение разделяющей гиперплоскости.\n",
        "\n",
        "* Сгенерируйте синтетические данные с помощью `make_classification` __с 2 признаками__, обучите на нём метод опорных векторов. Не забудьте зафиксировать seed для воспроизводимости\n",
        "\n",
        "* Визуализируйте разделяющую прямую, все объекты и выделите опорные векторы. Ниже есть шаблоны, можете воспользоваться ими, либо написать своё"
      ]
    },
    {
      "cell_type": "code",
      "execution_count": 25,
      "metadata": {
        "id": "qIS-aGxi-Nr0"
      },
      "outputs": [],
      "source": [
        "X, y = make_classification(\n",
        "    n_samples=1000, n_features=2, n_informative=2, n_redundant=0, random_state=42\n",
        ")\n",
        "\n",
        "X_train, X_test, y_train, y_test = train_test_split(X, y, test_size=0.3, random_state=42)\n",
        "\n",
        "model = SVC(kernel='linear').fit(X_train, y_train)"
      ]
    },
    {
      "cell_type": "code",
      "execution_count": 26,
      "metadata": {
        "colab": {
          "base_uri": "https://localhost:8080/",
          "height": 434
        },
        "id": "9jA3GbO9-wcU",
        "outputId": "a5bb2bf5-e2e6-44e4-81d2-1f2ac8e7a488"
      },
      "outputs": [
        {
          "output_type": "display_data",
          "data": {
            "text/plain": [
              "<Figure size 640x480 with 1 Axes>"
            ],
            "image/png": "[encoded data removed]"
          },
          "metadata": {}
        }
      ],
      "source": [
        "def plot_svm_2D(X, y, model,  plot_support=True):\n",
        "\n",
        "    # создали сетку\n",
        "    xx = np.linspace(X[:,0].min(), X[:,0].max(), 30)\n",
        "    yy = np.linspace(X[:,1].min(), X[:,1].max(), 30)\n",
        "    YY, XX = np.meshgrid(yy, xx)\n",
        "    xy = np.vstack([XX.ravel(), YY.ravel()]).T\n",
        "\n",
        "    # Ответы модели для сетки для отрисовки разделяющей прямой\n",
        "    Z = model.decision_function(xy).reshape(YY.shape)\n",
        "\n",
        "    plt.contour(XX, YY, Z, colors='k', levels=[-1, 0, 1], alpha=0.5, linestyles=['--', '-', '--'])\n",
        "\n",
        "    # Отрисовали выборку\n",
        "    plt.scatter(\n",
        "        x=X[:, 0],\n",
        "        y=X[:, 1],\n",
        "        c=y\n",
        "    )\n",
        "\n",
        "    # Отрисовали опорные векторы\n",
        "    if plot_support:\n",
        "        plt.scatter(\n",
        "            x=model.support_vectors_[:, 0],\n",
        "            y=model.support_vectors_[:, 1],\n",
        "            label='support vectors',\n",
        "            s=100,\n",
        "            linewidth=1,\n",
        "            edgecolor=\"blue\",\n",
        "            facecolors='none'\n",
        "        )\n",
        "\n",
        "    plt.legend()\n",
        "\n",
        "plot_svm_2D(X, y, model)"
      ]
    },
    {
      "cell_type": "markdown",
      "metadata": {
        "id": "gdMs4iQAIYpu"
      },
      "source": [
        "**Вопрос:** какие объекты выделяются как \"опорные\"?\n",
        "\n"
      ]
    },
    {
      "cell_type": "markdown",
      "metadata": {
        "id": "dplr4chfIXnm"
      },
      "source": [
        "**Ответ:** которые находятся на границе или близки к разделяющей гиперплоскости (синие кружочки на графике). Они оказывают влияние на позицию гиперплоскости и являются ключевыми для построения модели SVC"
      ]
    },
    {
      "cell_type": "markdown",
      "metadata": {
        "id": "gfpVN70PP75U"
      },
      "source": [
        "В отличие от метода опорных векторов, логистическая регрессия не пытается построить разделяющую гиперплоскость с максимальным отступом, а приближает в каждой точке пространства объектов вероятность положительных ответов $p(y=+1|x)$. Попробуйте нарисовать это распределение на плоскости, не забудьте отметить на ней все объекты."
      ]
    },
    {
      "cell_type": "code",
      "execution_count": 27,
      "metadata": {
        "id": "3jbxZ7KgZwSc"
      },
      "outputs": [],
      "source": [
        "model = LogisticRegression().fit(X_train, y_train)"
      ]
    },
    {
      "cell_type": "code",
      "execution_count": 28,
      "metadata": {
        "colab": {
          "base_uri": "https://localhost:8080/",
          "height": 434
        },
        "id": "k5D2jq87f3MC",
        "outputId": "a363785d-1eaf-45a3-94a2-e712dd925f77"
      },
      "outputs": [
        {
          "output_type": "display_data",
          "data": {
            "text/plain": [
              "<Figure size 640x480 with 2 Axes>"
            ],
            "image/png": "[encoded data removed]"
          },
          "metadata": {}
        }
      ],
      "source": [
        "def plot_logreg_2D(X, y, model):\n",
        "\n",
        "    # создали сетку\n",
        "    xx = np.linspace(X[:,0].min(), X[:,0].max(), 100)\n",
        "    yy = np.linspace(X[:,1].min(), X[:,1].max(), 100)\n",
        "    YY, XX = np.meshgrid(yy, xx)\n",
        "    xy = np.vstack([XX.ravel(), YY.ravel()]).T\n",
        "\n",
        "    # Ответы модели для сетки для отрисовки распределения\n",
        "    Z = model.predict_proba(xy)[:, 1]\n",
        "    Z = Z.reshape((xx.shape[0], -1)).T\n",
        "\n",
        "    image = plt.imshow(\n",
        "        Z,\n",
        "        interpolation='nearest',\n",
        "        extent=(xx.min(), xx.max(), yy.min(), yy.max()),\n",
        "        aspect='auto',\n",
        "        origin='lower',\n",
        "        cmap=plt.cm.PuOr_r\n",
        "    )\n",
        "\n",
        "    #Отрисовали выборку\n",
        "    plt.scatter(\n",
        "        x=X[:, 0],\n",
        "        y=X[:, 1],\n",
        "        c=y,\n",
        "        cmap=plt.cm.Paired\n",
        "    )\n",
        "\n",
        "    plt.colorbar(image)\n",
        "\n",
        "plot_logreg_2D(X, y, model)"
      ]
    },
    {
      "cell_type": "markdown",
      "metadata": {
        "id": "AQ-Um7-6JnAp"
      },
      "source": [
        "**Вопрос:** Как на картинке визуализирована область, где модель не уверена ($p(y=+1|x) = 0.5$)? Как это обосновать теоритечески?\n",
        "\n"
      ]
    },
    {
      "cell_type": "markdown",
      "metadata": {
        "id": "SAAF0HiaIh9Z"
      },
      "source": [
        "**Ответ:** граница, где цвет меняется от одного класса к другому, а вероятность принадлежности к положительному классу равна 0.5"
      ]
    },
    {
      "cell_type": "markdown",
      "metadata": {
        "id": "4VbJR0e3P75U"
      },
      "source": [
        "#### __Задание 2. Калибровка вероятностей__ (1 балл)\n",
        "\n"
      ]
    },
    {
      "cell_type": "markdown",
      "metadata": {
        "id": "I8taLYSgBd9u"
      },
      "source": [
        "Перейдём к оценке качества выдаваемых алгоритмами вероятностей. Начнём с калибровочных кривых.\n",
        "\n",
        "Допустим, алгоритм возвращает некоторые числа от нуля до единицы. Хорошо ли они оценивают вероятность?\n",
        "\n",
        "Хорошо откалиброванный  классификатор должен выдавать значения так, чтобы среди образцов, для которых он дал значение, близкое к $\\alpha$, примерно $\\alpha * 100 \\%$ фактически принадлежали к положительному классу. (Например, если классификатор выдает 0.3 для некоторых, то 30% из них должны принадлежать классу 1)"
      ]
    },
    {
      "cell_type": "markdown",
      "metadata": {
        "id": "TRBGtMArIxMc"
      },
      "source": [
        "Для построения калибровочной криовой используем следующий алгоритм:\n",
        "\n",
        "Разобьем отрезок $[0, 1]$ на несколько маленьких отрезков одинаковой длины.\n",
        "\n",
        "Рассмотрим $i$-й отрезок с границами $[a_i, b_i]$ и предсказания $p_1, p_2, \\dots, p_k$, которые попали в него. Пусть им соответствуют истинные ответы $y_1, y_2, \\dots, y_k$. Если алгоритм выдает корректные вероятности, то среди этих истинных ответов должно быть примерно $(a_i + b_i) / 2$ единиц. Иными словами, если нарисовать кривую, у которой по оси X отложены центры отрезков, а по оси Y — доли единичных ответов этих в отрезках, то она должна оказаться диагональной.\n",
        "\n",
        "Ниже приведена функция, которая должна рисовать такие кривые. В ней допущено две ошибки — найдите и исправьте их."
      ]
    },
    {
      "cell_type": "code",
      "execution_count": 29,
      "metadata": {
        "id": "R75uefZuP75V"
      },
      "outputs": [],
      "source": [
        "def plot_calibration_curve(y_test, preds, label, color):\n",
        "    bin_middle_points = []\n",
        "    bin_real_ratios = []\n",
        "    n_bins = 10\n",
        "    for i in range(n_bins):\n",
        "        l = 1.0 / n_bins * i\n",
        "        r = 1.0 / n_bins * (i + 1)\n",
        "        bin_middle_points.append((l + r) / 2)\n",
        "        bin_real_ratios.append(np.mean(y_test[(preds >= l) & (preds < r)] == 1))\n",
        "    # plt.figure(figsize=(6,6))\n",
        "    plt.plot(bin_middle_points, bin_real_ratios, label=label, color=color)\n",
        "    plt.ylim([-0.05, 1.05])\n",
        "    plt.grid()"
      ]
    },
    {
      "cell_type": "markdown",
      "metadata": {
        "id": "R13YCkxMO_R4"
      },
      "source": [
        "Сгенерируйте синтетические данные аналогично использованным в самом первом задании. Постройте калибровочные кривые на тестовой части для логистической регрессии и метода опорных векторов (не забудьте перевести его предсказания в $[0;1]$).\n",
        "\n",
        "Отрисуйте калибровочную кривую идеально откалиброванной модели (диагональ)"
      ]
    },
    {
      "cell_type": "code",
      "execution_count": 30,
      "metadata": {
        "id": "Jk6pz90lQYST"
      },
      "outputs": [],
      "source": [
        "X, y = make_classification(\n",
        "    n_samples=10000, n_features=10, n_informative=5, n_redundant=5, random_state=42\n",
        ")\n",
        "\n",
        "X_train, X_test, y_train, y_test = train_test_split(X, y, test_size=0.3, random_state=42)\n",
        "\n",
        "model_lr = LogisticRegression(penalty='l2', random_state=42, C=LR_best.best_params_['C']).fit(X_train, y_train)\n",
        "y_lr = model_lr.predict_proba(X_test)[:,1]\n",
        "\n",
        "model_svc = SVC(kernel='linear', C=SVC_best.best_params_['C']).fit(X_train, y_train)\n",
        "y_svc = model_svc.decision_function(X_test)\n",
        "y_svc = (y_svc - y_svc.min()) / (y_svc.max() - y_svc.min())"
      ]
    },
    {
      "cell_type": "code",
      "execution_count": 31,
      "metadata": {
        "colab": {
          "base_uri": "https://localhost:8080/",
          "height": 607
        },
        "id": "oJWX88V0wwoz",
        "outputId": "acc49706-41c1-4a69-c49c-b1e9c3ceca9e"
      },
      "outputs": [
        {
          "output_type": "display_data",
          "data": {
            "text/plain": [
              "<Figure size 600x600 with 1 Axes>"
            ],
            "image/png": "[encoded data removed]"
          },
          "metadata": {}
        }
      ],
      "source": [
        "plt.figure(figsize = (6, 6))\n",
        "\n",
        "plot_calibration_curve(y_test, y_lr, \"LR\", \"#92D1C3\")\n",
        "plot_calibration_curve(y_test, y_svc, \"SVC\", \"#F0A6CA\")\n",
        "plt.plot([0, 1], [0, 1], label='Perfect', color='yellowgreen')\n",
        "plt.xlabel('Mean predicted probability')\n",
        "plt.ylabel('Fraction of positives')\n",
        "plt.title('Calibration Curve')\n",
        "plt.legend()\n",
        "\n",
        "plt.tight_layout()\n",
        "plt.show()"
      ]
    },
    {
      "cell_type": "markdown",
      "metadata": {
        "id": "t15IAX7GPJjF"
      },
      "source": [
        "**Вопрос**: хорошо ли откалиброваны кривые для SVM, логистической регрессии? Подумайте, как это следует из вида кривой\n",
        "\n",
        "**Ответ:** Для SVM плохо (большие скачки, кривая далеко от идеальной), поскольку метод изначально не предназначен для предсказания вероятностей. А вот для логистической регрессии хорошо (близка к идеальной), поскольку модель обучалась так, чтобы значение сигмоиды приближало вероятности.\n",
        "\n",
        "Из формальных способов в этом убедиться есть знакомый вам LogLoss, который напрямую оценивает вероятности,\n",
        "$$\\text{LogLoss} = -\\frac{1}{N}\\sum_{i} \\sum_{k \\in {0. 1}}\\log p_k[y_i = k]$$\n",
        "а так же BrierScore, который подсчитывает отклонение между получившейся вероятностью и реальным значением таргета.\n",
        "$$\\text{BrierScore} = \\frac{1}{N}\\sum_{i} (p_i - y_i)^2$$\n",
        "Посмотрите на них тоже и сделайте вывод"
      ]
    },
    {
      "cell_type": "code",
      "execution_count": 32,
      "metadata": {
        "colab": {
          "base_uri": "https://localhost:8080/"
        },
        "id": "tQ8d-pl26rQU",
        "outputId": "023f7a7d-a041-4e46-c580-f4e560167067"
      },
      "outputs": [
        {
          "output_type": "stream",
          "name": "stdout",
          "text": [
            "LogLoss for Logistic Regression: 0.4860186134797559\n",
            "LogLoss for SVC: 0.5562223725646223\n",
            "Brier Score for Logistic Regression: 0.15879997989011738\n",
            "Brier Score for SVC: 0.18478971577529318\n"
          ]
        }
      ],
      "source": [
        "from sklearn.metrics import log_loss, brier_score_loss\n",
        "\n",
        "log_loss_lr = log_loss(y_test, y_lr)\n",
        "log_loss_svc = log_loss(y_test, y_svc)\n",
        "\n",
        "brier_score_lr = brier_score_loss(y_test, y_lr)\n",
        "brier_score_svc = brier_score_loss(y_test, y_svc)\n",
        "\n",
        "print(\"LogLoss for Logistic Regression:\", log_loss_lr)\n",
        "print(\"LogLoss for SVC:\", log_loss_svc)\n",
        "\n",
        "print(\"Brier Score for Logistic Regression:\", brier_score_lr)\n",
        "print(\"Brier Score for SVC:\", brier_score_svc)"
      ]
    },
    {
      "cell_type": "markdown",
      "metadata": {
        "id": "Zv7P4LCS81rP"
      },
      "source": [
        "Логистическая регрессия показывает лучшие результаты по обеим метрикам: LogLoss и Brier Score ниже, что подтверждает её лучшую откалиброванность по сравнению с SVC"
      ]
    },
    {
      "cell_type": "markdown",
      "metadata": {
        "id": "cgANQZyhPHIX"
      },
      "source": [
        "Изучите распределение ответов классификаторов при помощи гистограмм"
      ]
    },
    {
      "cell_type": "code",
      "execution_count": 33,
      "metadata": {
        "colab": {
          "base_uri": "https://localhost:8080/",
          "height": 602
        },
        "id": "GAP1X3NObCXp",
        "outputId": "02c2a642-9211-44eb-8b43-eb14d0f3c9c6"
      },
      "outputs": [
        {
          "output_type": "display_data",
          "data": {
            "text/plain": [
              "<Figure size 1300x600 with 2 Axes>"
            ],
            "image/png": "[encoded data removed]"
          },
          "metadata": {}
        }
      ],
      "source": [
        "plt.figure(figsize=(13, 6))\n",
        "\n",
        "plt.subplot(1, 2, 1)\n",
        "plt.hist(y_svc, bins=20, color='lightgreen', density='True', edgecolor='green')\n",
        "plt.xlabel(\"Probability\")\n",
        "plt.ylabel(\"Probability Density\")\n",
        "plt.title('SVC')\n",
        "\n",
        "plt.subplot(1, 2, 2)\n",
        "plt.hist(y_lr, bins=20, color='plum', density='True', edgecolor='purple')\n",
        "plt.xlabel(\"Probability\")\n",
        "plt.ylabel(\"Probability Density\")\n",
        "plt.title('Logistic regression')\n",
        "\n",
        "plt.suptitle('Outputs distribution')\n",
        "plt.show()"
      ]
    },
    {
      "cell_type": "markdown",
      "metadata": {
        "id": "S7ga-L4CPK_O"
      },
      "source": [
        "**Вопрос:** Чем они различаются? Чем вы можете объяснить это?"
      ]
    },
    {
      "cell_type": "markdown",
      "metadata": {
        "id": "LOmrLYqdPP_0"
      },
      "source": [
        "**Ответ:** SVC выдает оценки, которые нужно преобразовать в вероятности с помощью дополнительной процедуры => гистограмма имеет более узкое распределение, сосредоточенное вокруг 0.5; гистограмма для логистической регрессии более равномерно распределена по диапазону от 0 до 1, что означает, что логистическая регрессия выдает вероятности с большим разнообразием"
      ]
    },
    {
      "cell_type": "markdown",
      "metadata": {
        "id": "M9-6ClfaP75W"
      },
      "source": [
        "Воспользуйтесь `CalibratedClassifierCV` из `sklearn` для калибровки вероятностей метода опорных векторов на обучении и постройте с его помощью  предсказания для тестовой выборки."
      ]
    },
    {
      "cell_type": "code",
      "execution_count": 34,
      "metadata": {
        "colab": {
          "base_uri": "https://localhost:8080/",
          "height": 607
        },
        "id": "RR3pVlSNP75W",
        "outputId": "c0205bac-02cf-47de-f4ee-1982d367e01a"
      },
      "outputs": [
        {
          "output_type": "display_data",
          "data": {
            "text/plain": [
              "<Figure size 600x600 with 1 Axes>"
            ],
            "image/png": "[encoded data removed]"
          },
          "metadata": {}
        }
      ],
      "source": [
        "from sklearn.calibration import CalibratedClassifierCV\n",
        "\n",
        "sigmoid_svc = CalibratedClassifierCV(model_svc, cv='prefit', method='sigmoid').fit(X_train, y_train)\n",
        "y_sigmoid_svc = sigmoid_svc.predict_proba(X_test)[:,1]\n",
        "\n",
        "plt.figure(figsize=(6, 6))\n",
        "plot_calibration_curve(y_test, y_sigmoid_svc, 'Sigmoid Calibration', color='#92D1C3')\n",
        "plot_calibration_curve(y_test, y_svc, 'Basic Calibration', color='#F0A6CA')\n",
        "\n",
        "plt.plot([0, 1], [0, 1], label='Perfect', color='yellowgreen')\n",
        "plt.xlabel('Mean predicted probability')\n",
        "plt.ylabel('Fraction of positives')\n",
        "plt.title('Calibration for SVC')\n",
        "plt.legend()\n",
        "plt.tight_layout()\n",
        "plt.show()"
      ]
    },
    {
      "cell_type": "markdown",
      "metadata": {
        "id": "PnwOFuW6XyPc"
      },
      "source": [
        "**Вопрос:** Улучшились ли калибровочная кривая и качество калибровки?\n",
        "\n",
        "**Ответ:** Да, качество значительно улучшилось, и кривая приблизилась к идеальной"
      ]
    },
    {
      "cell_type": "markdown",
      "metadata": {
        "id": "p2dpbXgoP75X"
      },
      "source": [
        "##### __Бонус: Авторское решение__ (0.5 балла)\n",
        "\n",
        "Реализуйте свою функцию для калибровки вероятностей, используя любой из известных подходов. Кратко опишите ваш подход и продемонстрируйте результаты. Ключевые слова для вдохновения: `Platt`, `Isotonic`."
      ]
    },
    {
      "cell_type": "code",
      "execution_count": null,
      "metadata": {
        "id": "R8mtQgBJP75X"
      },
      "outputs": [],
      "source": [
        "# your code here"
      ]
    },
    {
      "cell_type": "markdown",
      "metadata": {
        "id": "FaOVU4vJP75X"
      },
      "source": [
        "# Часть 2. Обработка категориальных переменных (4 балла + 1.5 бонус)"
      ]
    },
    {
      "cell_type": "markdown",
      "metadata": {
        "id": "8KQ9ywUEP75X"
      },
      "source": [
        "Как мы знаем, перекодировать категориальную переменную в список чисел (к примеру 1, 2, 3, ..., n) плохо, поскольку это бы задало на множестве ее значений некоторый порядок, не имеющий смысла.\n",
        "\n",
        "В этой части мы рассмотрим два основных способа обработки категориальных значений:\n",
        "- One-hot-кодирование\n",
        "- Счётчики (CTR, mean-target кодирование, ...) — каждый категориальный признак заменяется на среднее значение целевой переменной по всем объектам, имеющим одинаковое значение в этом признаке.\n",
        "\n",
        "Начнём с one-hot-кодирования. Допустим наш категориальный признак $f_j(x)$ принимает значения из множества $C=\\{c_1, \\dots, c_m\\}$. Заменим его на $m$ бинарных признаков $b_1(x), \\dots, b_m(x)$, каждый из которых является индикатором одного из возможных категориальных значений:\n",
        "$$\n",
        "b_i(x) = [f_j(x) = c_i]\n",
        "$$"
      ]
    },
    {
      "cell_type": "markdown",
      "metadata": {
        "id": "pPsScraBP75Y"
      },
      "source": [
        "#### __Подготовка данных__\n",
        "\n",
        "*(бесценный шаг)*\n",
        "\n",
        "Разберем датасет [покупок велосипедов](https://www.kaggle.com/datasets/heeraldedhia/bike-buyers/): даны признаки покупателя, требуется предсказать, купит ли он/она велосипед\n",
        "\n"
      ]
    },
    {
      "cell_type": "markdown",
      "metadata": {
        "id": "BPuDzNoCo2nk"
      },
      "source": [
        "Замените пропуски в категориальных переменных на новую категорию (`'undefined'`)\n",
        "\n",
        "Разделите признаки на 2 таблицы: категориальные и числовые признаки"
      ]
    },
    {
      "cell_type": "code",
      "execution_count": 35,
      "metadata": {
        "colab": {
          "base_uri": "https://localhost:8080/"
        },
        "id": "5MTr7gi1PMqv",
        "outputId": "d35e1a09-5142-4c4d-ada4-364a0fded4ec"
      },
      "outputs": [
        {
          "output_type": "stream",
          "name": "stdout",
          "text": [
            "Downloading from https://www.kaggle.com/api/v1/datasets/download/heeraldedhia/bike-buyers?dataset_version_number=2...\n"
          ]
        },
        {
          "output_type": "stream",
          "name": "stderr",
          "text": [
            "100%|██████████| 22.2k/22.2k [00:00<00:00, 17.7MB/s]"
          ]
        },
        {
          "output_type": "stream",
          "name": "stdout",
          "text": [
            "Extracting files...\n"
          ]
        },
        {
          "output_type": "stream",
          "name": "stderr",
          "text": [
            "\n"
          ]
        }
      ],
      "source": [
        "import kagglehub\n",
        "\n",
        "path = kagglehub.dataset_download(\"heeraldedhia/bike-buyers\") +  \"/bike_buyers.csv\""
      ]
    },
    {
      "cell_type": "code",
      "execution_count": 36,
      "metadata": {
        "colab": {
          "base_uri": "https://localhost:8080/",
          "height": 206
        },
        "id": "rGWlojJwOEjL",
        "outputId": "b4c2fce6-91b8-43d3-b79a-84f17aecc730"
      },
      "outputs": [
        {
          "output_type": "execute_result",
          "data": {
            "text/plain": [
              "      ID Marital Status     Gender   Income  Children        Education  \\\n",
              "0  12496        Married     Female  40000.0       1.0        Bachelors   \n",
              "1  24107        Married       Male  30000.0       3.0  Partial College   \n",
              "2  14177        Married       Male  80000.0       5.0  Partial College   \n",
              "3  24381         Single  undefined  70000.0       0.0        Bachelors   \n",
              "4  25597         Single       Male  30000.0       0.0        Bachelors   \n",
              "\n",
              "       Occupation Home Owner  Cars Commute Distance   Region   Age  \\\n",
              "0  Skilled Manual        Yes   0.0        0-1 Miles   Europe  42.0   \n",
              "1        Clerical        Yes   1.0        0-1 Miles   Europe  43.0   \n",
              "2    Professional         No   2.0        2-5 Miles   Europe  60.0   \n",
              "3    Professional        Yes   1.0       5-10 Miles  Pacific  41.0   \n",
              "4        Clerical         No   0.0        0-1 Miles   Europe  36.0   \n",
              "\n",
              "  Purchased Bike  \n",
              "0             No  \n",
              "1             No  \n",
              "2             No  \n",
              "3            Yes  \n",
              "4            Yes  "
            ],
            "text/html": [
              "\n",
              "  <div id=\"df-39bf2fbb-40d9-466d-869b-d2a26536e560\" class=\"colab-df-container\">\n",
              "    <div>\n",
              "<style scoped>\n",
              "    .dataframe tbody tr th:only-of-type {\n",
              "        vertical-align: middle;\n",
              "    }\n",
              "\n",
              "    .dataframe tbody tr th {\n",
              "        vertical-align: top;\n",
              "    }\n",
              "\n",
              "    .dataframe thead th {\n",
              "        text-align: right;\n",
              "    }\n",
              "</style>\n",
              "<table border=\"1\" class=\"dataframe\">\n",
              "  <thead>\n",
              "    <tr style=\"text-align: right;\">\n",
              "      <th></th>\n",
              "      <th>ID</th>\n",
              "      <th>Marital Status</th>\n",
              "      <th>Gender</th>\n",
              "      <th>Income</th>\n",
              "      <th>Children</th>\n",
              "      <th>Education</th>\n",
              "      <th>Occupation</th>\n",
              "      <th>Home Owner</th>\n",
              "      <th>Cars</th>\n",
              "      <th>Commute Distance</th>\n",
              "      <th>Region</th>\n",
              "      <th>Age</th>\n",
              "      <th>Purchased Bike</th>\n",
              "    </tr>\n",
              "  </thead>\n",
              "  <tbody>\n",
              "    <tr>\n",
              "      <th>0</th>\n",
              "      <td>12496</td>\n",
              "      <td>Married</td>\n",
              "      <td>Female</td>\n",
              "      <td>40000.0</td>\n",
              "      <td>1.0</td>\n",
              "      <td>Bachelors</td>\n",
              "      <td>Skilled Manual</td>\n",
              "      <td>Yes</td>\n",
              "      <td>0.0</td>\n",
              "      <td>0-1 Miles</td>\n",
              "      <td>Europe</td>\n",
              "      <td>42.0</td>\n",
              "      <td>No</td>\n",
              "    </tr>\n",
              "    <tr>\n",
              "      <th>1</th>\n",
              "      <td>24107</td>\n",
              "      <td>Married</td>\n",
              "      <td>Male</td>\n",
              "      <td>30000.0</td>\n",
              "      <td>3.0</td>\n",
              "      <td>Partial College</td>\n",
              "      <td>Clerical</td>\n",
              "      <td>Yes</td>\n",
              "      <td>1.0</td>\n",
              "      <td>0-1 Miles</td>\n",
              "      <td>Europe</td>\n",
              "      <td>43.0</td>\n",
              "      <td>No</td>\n",
              "    </tr>\n",
              "    <tr>\n",
              "      <th>2</th>\n",
              "      <td>14177</td>\n",
              "      <td>Married</td>\n",
              "      <td>Male</td>\n",
              "      <td>80000.0</td>\n",
              "      <td>5.0</td>\n",
              "      <td>Partial College</td>\n",
              "      <td>Professional</td>\n",
              "      <td>No</td>\n",
              "      <td>2.0</td>\n",
              "      <td>2-5 Miles</td>\n",
              "      <td>Europe</td>\n",
              "      <td>60.0</td>\n",
              "      <td>No</td>\n",
              "    </tr>\n",
              "    <tr>\n",
              "      <th>3</th>\n",
              "      <td>24381</td>\n",
              "      <td>Single</td>\n",
              "      <td>undefined</td>\n",
              "      <td>70000.0</td>\n",
              "      <td>0.0</td>\n",
              "      <td>Bachelors</td>\n",
              "      <td>Professional</td>\n",
              "      <td>Yes</td>\n",
              "      <td>1.0</td>\n",
              "      <td>5-10 Miles</td>\n",
              "      <td>Pacific</td>\n",
              "      <td>41.0</td>\n",
              "      <td>Yes</td>\n",
              "    </tr>\n",
              "    <tr>\n",
              "      <th>4</th>\n",
              "      <td>25597</td>\n",
              "      <td>Single</td>\n",
              "      <td>Male</td>\n",
              "      <td>30000.0</td>\n",
              "      <td>0.0</td>\n",
              "      <td>Bachelors</td>\n",
              "      <td>Clerical</td>\n",
              "      <td>No</td>\n",
              "      <td>0.0</td>\n",
              "      <td>0-1 Miles</td>\n",
              "      <td>Europe</td>\n",
              "      <td>36.0</td>\n",
              "      <td>Yes</td>\n",
              "    </tr>\n",
              "  </tbody>\n",
              "</table>\n",
              "</div>\n",
              "    <div class=\"colab-df-buttons\">\n",
              "\n",
              "  <div class=\"colab-df-container\">\n",
              "    <button class=\"colab-df-convert\" onclick=\"convertToInteractive('df-39bf2fbb-40d9-466d-869b-d2a26536e560')\"\n",
              "            title=\"Convert this dataframe to an interactive table.\"\n",
              "            style=\"display:none;\">\n",
              "\n",
              "  <svg xmlns=\"http://www.w3.org/2000/svg\" height=\"24px\" viewBox=\"0 -960 960 960\">\n",
              "    <path d=\"M120-120v-720h720v720H120Zm60-500h600v-160H180v160Zm220 220h160v-160H400v160Zm0 220h160v-160H400v160ZM180-400h160v-160H180v160Zm440 0h160v-160H620v160ZM180-180h160v-160H180v160Zm440 0h160v-160H620v160Z\"/>\n",
              "  </svg>\n",
              "    </button>\n",
              "\n",
              "  <style>\n",
              "    .colab-df-container {\n",
              "      display:flex;\n",
              "      gap: 12px;\n",
              "    }\n",
              "\n",
              "    .colab-df-convert {\n",
              "      background-color: #E8F0FE;\n",
              "      border: none;\n",
              "      border-radius: 50%;\n",
              "      cursor: pointer;\n",
              "      display: none;\n",
              "      fill: #1967D2;\n",
              "      height: 32px;\n",
              "      padding: 0 0 0 0;\n",
              "      width: 32px;\n",
              "    }\n",
              "\n",
              "    .colab-df-convert:hover {\n",
              "      background-color: #E2EBFA;\n",
              "      box-shadow: 0px 1px 2px rgba(60, 64, 67, 0.3), 0px 1px 3px 1px rgba(60, 64, 67, 0.15);\n",
              "      fill: #174EA6;\n",
              "    }\n",
              "\n",
              "    .colab-df-buttons div {\n",
              "      margin-bottom: 4px;\n",
              "    }\n",
              "\n",
              "    [theme=dark] .colab-df-convert {\n",
              "      background-color: #3B4455;\n",
              "      fill: #D2E3FC;\n",
              "    }\n",
              "\n",
              "    [theme=dark] .colab-df-convert:hover {\n",
              "      background-color: #434B5C;\n",
              "      box-shadow: 0px 1px 3px 1px rgba(0, 0, 0, 0.15);\n",
              "      filter: drop-shadow(0px 1px 2px rgba(0, 0, 0, 0.3));\n",
              "      fill: #FFFFFF;\n",
              "    }\n",
              "  </style>\n",
              "\n",
              "    <script>\n",
              "      const buttonEl =\n",
              "        document.querySelector('#df-39bf2fbb-40d9-466d-869b-d2a26536e560 button.colab-df-convert');\n",
              "      buttonEl.style.display =\n",
              "        google.colab.kernel.accessAllowed ? 'block' : 'none';\n",
              "\n",
              "      async function convertToInteractive(key) {\n",
              "        const element = document.querySelector('#df-39bf2fbb-40d9-466d-869b-d2a26536e560');\n",
              "        const dataTable =\n",
              "          await google.colab.kernel.invokeFunction('convertToInteractive',\n",
              "                                                    [key], {});\n",
              "        if (!dataTable) return;\n",
              "\n",
              "        const docLinkHtml = 'Like what you see? Visit the ' +\n",
              "          '<a target=\"_blank\" href=https://colab.research.google.com/notebooks/data_table.ipynb>data table notebook</a>'\n",
              "          + ' to learn more about interactive tables.';\n",
              "        element.innerHTML = '';\n",
              "        dataTable['output_type'] = 'display_data';\n",
              "        await google.colab.output.renderOutput(dataTable, element);\n",
              "        const docLink = document.createElement('div');\n",
              "        docLink.innerHTML = docLinkHtml;\n",
              "        element.appendChild(docLink);\n",
              "      }\n",
              "    </script>\n",
              "  </div>\n",
              "\n",
              "\n",
              "<div id=\"df-c7d6b5db-46e6-4490-826f-4eec84d6f53c\">\n",
              "  <button class=\"colab-df-quickchart\" onclick=\"quickchart('df-c7d6b5db-46e6-4490-826f-4eec84d6f53c')\"\n",
              "            title=\"Suggest charts\"\n",
              "            style=\"display:none;\">\n",
              "\n",
              "<svg xmlns=\"http://www.w3.org/2000/svg\" height=\"24px\"viewBox=\"0 0 24 24\"\n",
              "     width=\"24px\">\n",
              "    <g>\n",
              "        <path d=\"M19 3H5c-1.1 0-2 .9-2 2v14c0 1.1.9 2 2 2h14c1.1 0 2-.9 2-2V5c0-1.1-.9-2-2-2zM9 17H7v-7h2v7zm4 0h-2V7h2v10zm4 0h-2v-4h2v4z\"/>\n",
              "    </g>\n",
              "</svg>\n",
              "  </button>\n",
              "\n",
              "<style>\n",
              "  .colab-df-quickchart {\n",
              "      --bg-color: #E8F0FE;\n",
              "      --fill-color: #1967D2;\n",
              "      --hover-bg-color: #E2EBFA;\n",
              "      --hover-fill-color: #174EA6;\n",
              "      --disabled-fill-color: #AAA;\n",
              "      --disabled-bg-color: #DDD;\n",
              "  }\n",
              "\n",
              "  [theme=dark] .colab-df-quickchart {\n",
              "      --bg-color: #3B4455;\n",
              "      --fill-color: #D2E3FC;\n",
              "      --hover-bg-color: #434B5C;\n",
              "      --hover-fill-color: #FFFFFF;\n",
              "      --disabled-bg-color: #3B4455;\n",
              "      --disabled-fill-color: #666;\n",
              "  }\n",
              "\n",
              "  .colab-df-quickchart {\n",
              "    background-color: var(--bg-color);\n",
              "    border: none;\n",
              "    border-radius: 50%;\n",
              "    cursor: pointer;\n",
              "    display: none;\n",
              "    fill: var(--fill-color);\n",
              "    height: 32px;\n",
              "    padding: 0;\n",
              "    width: 32px;\n",
              "  }\n",
              "\n",
              "  .colab-df-quickchart:hover {\n",
              "    background-color: var(--hover-bg-color);\n",
              "    box-shadow: 0 1px 2px rgba(60, 64, 67, 0.3), 0 1px 3px 1px rgba(60, 64, 67, 0.15);\n",
              "    fill: var(--button-hover-fill-color);\n",
              "  }\n",
              "\n",
              "  .colab-df-quickchart-complete:disabled,\n",
              "  .colab-df-quickchart-complete:disabled:hover {\n",
              "    background-color: var(--disabled-bg-color);\n",
              "    fill: var(--disabled-fill-color);\n",
              "    box-shadow: none;\n",
              "  }\n",
              "\n",
              "  .colab-df-spinner {\n",
              "    border: 2px solid var(--fill-color);\n",
              "    border-color: transparent;\n",
              "    border-bottom-color: var(--fill-color);\n",
              "    animation:\n",
              "      spin 1s steps(1) infinite;\n",
              "  }\n",
              "\n",
              "  @keyframes spin {\n",
              "    0% {\n",
              "      border-color: transparent;\n",
              "      border-bottom-color: var(--fill-color);\n",
              "      border-left-color: var(--fill-color);\n",
              "    }\n",
              "    20% {\n",
              "      border-color: transparent;\n",
              "      border-left-color: var(--fill-color);\n",
              "      border-top-color: var(--fill-color);\n",
              "    }\n",
              "    30% {\n",
              "      border-color: transparent;\n",
              "      border-left-color: var(--fill-color);\n",
              "      border-top-color: var(--fill-color);\n",
              "      border-right-color: var(--fill-color);\n",
              "    }\n",
              "    40% {\n",
              "      border-color: transparent;\n",
              "      border-right-color: var(--fill-color);\n",
              "      border-top-color: var(--fill-color);\n",
              "    }\n",
              "    60% {\n",
              "      border-color: transparent;\n",
              "      border-right-color: var(--fill-color);\n",
              "    }\n",
              "    80% {\n",
              "      border-color: transparent;\n",
              "      border-right-color: var(--fill-color);\n",
              "      border-bottom-color: var(--fill-color);\n",
              "    }\n",
              "    90% {\n",
              "      border-color: transparent;\n",
              "      border-bottom-color: var(--fill-color);\n",
              "    }\n",
              "  }\n",
              "</style>\n",
              "\n",
              "  <script>\n",
              "    async function quickchart(key) {\n",
              "      const quickchartButtonEl =\n",
              "        document.querySelector('#' + key + ' button');\n",
              "      quickchartButtonEl.disabled = true;  // To prevent multiple clicks.\n",
              "      quickchartButtonEl.classList.add('colab-df-spinner');\n",
              "      try {\n",
              "        const charts = await google.colab.kernel.invokeFunction(\n",
              "            'suggestCharts', [key], {});\n",
              "      } catch (error) {\n",
              "        console.error('Error during call to suggestCharts:', error);\n",
              "      }\n",
              "      quickchartButtonEl.classList.remove('colab-df-spinner');\n",
              "      quickchartButtonEl.classList.add('colab-df-quickchart-complete');\n",
              "    }\n",
              "    (() => {\n",
              "      let quickchartButtonEl =\n",
              "        document.querySelector('#df-c7d6b5db-46e6-4490-826f-4eec84d6f53c button');\n",
              "      quickchartButtonEl.style.display =\n",
              "        google.colab.kernel.accessAllowed ? 'block' : 'none';\n",
              "    })();\n",
              "  </script>\n",
              "</div>\n",
              "    </div>\n",
              "  </div>\n"
            ],
            "application/vnd.google.colaboratory.intrinsic+json": {
              "type": "dataframe",
              "variable_name": "df",
              "summary": "{\n  \"name\": \"df\",\n  \"rows\": 1000,\n  \"fields\": [\n    {\n      \"column\": \"ID\",\n      \"properties\": {\n        \"dtype\": \"number\",\n        \"std\": 5347,\n        \"min\": 11000,\n        \"max\": 29447,\n        \"num_unique_values\": 1000,\n        \"samples\": [\n          18976,\n          18504,\n          17657\n        ],\n        \"semantic_type\": \"\",\n        \"description\": \"\"\n      }\n    },\n    {\n      \"column\": \"Marital Status\",\n      \"properties\": {\n        \"dtype\": \"category\",\n        \"num_unique_values\": 3,\n        \"samples\": [\n          \"Married\",\n          \"Single\",\n          \"undefined\"\n        ],\n        \"semantic_type\": \"\",\n        \"description\": \"\"\n      }\n    },\n    {\n      \"column\": \"Gender\",\n      \"properties\": {\n        \"dtype\": \"category\",\n        \"num_unique_values\": 3,\n        \"samples\": [\n          \"Female\",\n          \"Male\",\n          \"undefined\"\n        ],\n        \"semantic_type\": \"\",\n        \"description\": \"\"\n      }\n    },\n    {\n      \"column\": \"Income\",\n      \"properties\": {\n        \"dtype\": \"number\",\n        \"std\": 31067.817462360166,\n        \"min\": 10000.0,\n        \"max\": 170000.0,\n        \"num_unique_values\": 16,\n        \"samples\": [\n          40000.0,\n          30000.0,\n          160000.0\n        ],\n        \"semantic_type\": \"\",\n        \"description\": \"\"\n      }\n    },\n    {\n      \"column\": \"Children\",\n      \"properties\": {\n        \"dtype\": \"number\",\n        \"std\": 1.6269101545030549,\n        \"min\": 0.0,\n        \"max\": 5.0,\n        \"num_unique_values\": 6,\n        \"samples\": [\n          1.0,\n          3.0,\n          4.0\n        ],\n        \"semantic_type\": \"\",\n        \"description\": \"\"\n      }\n    },\n    {\n      \"column\": \"Education\",\n      \"properties\": {\n        \"dtype\": \"category\",\n        \"num_unique_values\": 5,\n        \"samples\": [\n          \"Partial College\",\n          \"Graduate Degree\",\n          \"High School\"\n        ],\n        \"semantic_type\": \"\",\n        \"description\": \"\"\n      }\n    },\n    {\n      \"column\": \"Occupation\",\n      \"properties\": {\n        \"dtype\": \"category\",\n        \"num_unique_values\": 5,\n        \"samples\": [\n          \"Clerical\",\n          \"Management\",\n          \"Professional\"\n        ],\n        \"semantic_type\": \"\",\n        \"description\": \"\"\n      }\n    },\n    {\n      \"column\": \"Home Owner\",\n      \"properties\": {\n        \"dtype\": \"category\",\n        \"num_unique_values\": 3,\n        \"samples\": [\n          \"Yes\",\n          \"No\",\n          \"undefined\"\n        ],\n        \"semantic_type\": \"\",\n        \"description\": \"\"\n      }\n    },\n    {\n      \"column\": \"Cars\",\n      \"properties\": {\n        \"dtype\": \"number\",\n        \"std\": 1.1217553730932948,\n        \"min\": 0.0,\n        \"max\": 4.0,\n        \"num_unique_values\": 5,\n        \"samples\": [\n          1.0,\n          3.0,\n          2.0\n        ],\n        \"semantic_type\": \"\",\n        \"description\": \"\"\n      }\n    },\n    {\n      \"column\": \"Commute Distance\",\n      \"properties\": {\n        \"dtype\": \"category\",\n        \"num_unique_values\": 5,\n        \"samples\": [\n          \"2-5 Miles\",\n          \"10+ Miles\",\n          \"5-10 Miles\"\n        ],\n        \"semantic_type\": \"\",\n        \"description\": \"\"\n      }\n    },\n    {\n      \"column\": \"Region\",\n      \"properties\": {\n        \"dtype\": \"category\",\n        \"num_unique_values\": 3,\n        \"samples\": [\n          \"Europe\",\n          \"Pacific\",\n          \"North America\"\n        ],\n        \"semantic_type\": \"\",\n        \"description\": \"\"\n      }\n    },\n    {\n      \"column\": \"Age\",\n      \"properties\": {\n        \"dtype\": \"number\",\n        \"std\": 11.362006665589375,\n        \"min\": 25.0,\n        \"max\": 89.0,\n        \"num_unique_values\": 53,\n        \"samples\": [\n          40.0,\n          67.0,\n          89.0\n        ],\n        \"semantic_type\": \"\",\n        \"description\": \"\"\n      }\n    },\n    {\n      \"column\": \"Purchased Bike\",\n      \"properties\": {\n        \"dtype\": \"category\",\n        \"num_unique_values\": 2,\n        \"samples\": [\n          \"Yes\",\n          \"No\"\n        ],\n        \"semantic_type\": \"\",\n        \"description\": \"\"\n      }\n    }\n  ]\n}"
            }
          },
          "metadata": {},
          "execution_count": 36
        }
      ],
      "source": [
        "# Прочитаем датасет\n",
        "df = pd.read_csv(path)\n",
        "\n",
        "# Заменим пропуски категориальных переменных\n",
        "df.update(df.select_dtypes(include=['object']).fillna('undefined'))\n",
        "\n",
        "# Отделим X и y\n",
        "X = df.drop(columns=['Purchased Bike'])\n",
        "y = (df['Purchased Bike'] == 'Yes').astype('int64')\n",
        "\n",
        "# Разделим на категориальные признаки и числовые\n",
        "numerical = ['Income', 'Children', 'Cars', 'Age']\n",
        "categorical = ['Marital Status', 'Gender', 'Education', 'Occupation', 'Home Owner', 'Commute Distance', 'Region']\n",
        "X_numerical = X[numerical]\n",
        "X_categorical = X[categorical]\n",
        "\n",
        "df.head()"
      ]
    },
    {
      "cell_type": "markdown",
      "metadata": {
        "id": "ch0M2v8Akirw"
      },
      "source": [
        "В начале поработаем только с категориальными признаками"
      ]
    },
    {
      "cell_type": "code",
      "execution_count": 37,
      "metadata": {
        "id": "QIYErZMnP75Z"
      },
      "outputs": [],
      "source": [
        "from sklearn.model_selection import train_test_split\n",
        "\n",
        "X_train, X_test, y_train, y_test = train_test_split(X_categorical, y, test_size=0.25, random_state=777, stratify=y)"
      ]
    },
    {
      "cell_type": "markdown",
      "metadata": {
        "id": "m5LjHkuCP75Z"
      },
      "source": [
        "#### __Задание 3. OrdinalEncoder__  (0.5 балла)\n",
        "\n",
        "Закодируйте категориальные признаки с помощью `OrdinalEncoder`. Посчитайте качество (в этом задании будем работать c __`AUC-PR`__) при применении логистической регрессии. Замерьте время, потребовавшееся на обучение модели, с учетом кодирования признаков."
      ]
    },
    {
      "cell_type": "code",
      "execution_count": 38,
      "metadata": {
        "id": "MRfUXKdjEveZ"
      },
      "outputs": [],
      "source": [
        "from sklearn.preprocessing import OrdinalEncoder, OneHotEncoder\n",
        "from sklearn.compose import ColumnTransformer\n",
        "from sklearn.pipeline import Pipeline\n",
        "from time import time"
      ]
    },
    {
      "cell_type": "code",
      "execution_count": 39,
      "metadata": {
        "colab": {
          "base_uri": "https://localhost:8080/"
        },
        "id": "bdZT2tXXP75a",
        "outputId": "fa113df1-6309-4c3a-8c8f-7b47e1528dc8"
      },
      "outputs": [
        {
          "output_type": "stream",
          "name": "stdout",
          "text": [
            "Качество (AUC-PR) = 0.5886533539773633\n",
            "Время = 13.73 мс\n"
          ]
        }
      ],
      "source": [
        "oe_transformer = ColumnTransformer([\n",
        "    ('oe_categorical', OrdinalEncoder(), categorical)\n",
        "])\n",
        "\n",
        "pipeline = Pipeline([\n",
        "    ('oe_transformer', oe_transformer),\n",
        "    ('lr_classifier', LogisticRegression())\n",
        "])\n",
        "\n",
        "start_time = time()\n",
        "pipeline.fit(X_train, y_train)\n",
        "training_time = time() - start_time\n",
        "y_pred = pipeline.predict_proba(X_test)[:,1]\n",
        "\n",
        "print(f'Качество (AUC-PR) = {average_precision_score(y_test, y_pred)}')\n",
        "print(f'Время = {training_time * 1000:.2f} мс')"
      ]
    },
    {
      "cell_type": "markdown",
      "metadata": {
        "id": "ScIo7NthP75a"
      },
      "source": [
        "#### __Задание 4. One-Hot Encoding__ (0.5 балла)\n",
        "\n"
      ]
    },
    {
      "cell_type": "markdown",
      "metadata": {
        "id": "p3sFuKAtLwOx"
      },
      "source": [
        "Закодируйте все категориальные признаки с помощью one-hot-кодирования. Обучите логистическую регрессию и посмотрите, как изменилось качество модели (в сравнении с тем, что было до кодирования). Измерьте время, потребовавшееся на кодирование категориальных признаков и обучение модели."
      ]
    },
    {
      "cell_type": "code",
      "execution_count": 40,
      "metadata": {
        "colab": {
          "base_uri": "https://localhost:8080/"
        },
        "id": "t4PbjLIHP75a",
        "outputId": "4156aeb0-32ce-4975-c0d9-e5fcbdb31d5b"
      },
      "outputs": [
        {
          "output_type": "stream",
          "name": "stdout",
          "text": [
            "Качество (AUC-PR) = 0.6662544177340515\n",
            "Время = 29.12 мс\n"
          ]
        }
      ],
      "source": [
        "ohe_transformer = ColumnTransformer(transformers=[\n",
        "    ('ohe_categorical', OneHotEncoder(), categorical)\n",
        "])\n",
        "\n",
        "pipeline = Pipeline([\n",
        "    ('ohe_transformer', ohe_transformer),\n",
        "    ('lr_classifier', LogisticRegression())\n",
        "])\n",
        "\n",
        "start_time = time()\n",
        "pipeline.fit(X_train, y_train)\n",
        "training_time = time() - start_time\n",
        "y_pred = pipeline.predict_proba(X_test)[:,1]\n",
        "\n",
        "precision, recall, _ = precision_recall_curve(y_test, y_pred)\n",
        "print(f'Качество (AUC-PR) = {average_precision_score(y_test, y_pred)}')\n",
        "print(f'Время = {training_time * 1000:.2f} мс')"
      ]
    },
    {
      "cell_type": "markdown",
      "metadata": {
        "id": "9p-qOs6lP75b"
      },
      "source": [
        "Как можно заметить, one-hot-кодирование может сильно увеличивать количество признаков. Это сказывается на объеме необходимой памяти, особенно, если некоторый признак имеет большое количество значений.\n"
      ]
    },
    {
      "cell_type": "markdown",
      "metadata": {
        "id": "l1q3k3yaLF8Y"
      },
      "source": [
        "#### __Задание 5. Mean-target Encoding__ (1 балл)"
      ]
    },
    {
      "cell_type": "markdown",
      "metadata": {
        "id": "tanu5Hm5Lr7R"
      },
      "source": [
        "> Проблемы разрастания числа признаков можно избежать в другом способе кодирования категориальных признаков — mean-target encoding (для простоты будем называть это __счётчиками__). Сравним эффективность методов в рамках нашей маркетинговой задачи.\n",
        "\n",
        "> Основная идея в том, что важны не сами категории, а значения целевой переменной, которые имеют объекты этой категории. Каждый категориальный признак мы заменим средним значением целевой переменной по всем объектам этой же категории:\n",
        "\n",
        "$$\n",
        "g_j(x, X) = \\frac{\\sum_{i=1}^{\\ell} [f_j(x) = f_j(x_i)][y_i = +1]}{\\sum_{i=1}^{\\ell} [f_j(x) = f_j(x_i)]}\n",
        "$$\n",
        "\n",
        "Закодируйте категориальные переменные с помощью счётчиков (ровно так, как описано выше, без каких-либо хитростей). Обучите логистическую регрессию и посмотрите на качество модели на тестовом множестве.\n",
        "\n",
        "Сравните время обучения с предыдущими экспериментами (с учетом кодирования признаков)."
      ]
    },
    {
      "cell_type": "code",
      "execution_count": 41,
      "metadata": {
        "colab": {
          "base_uri": "https://localhost:8080/"
        },
        "id": "LIbsOJ1BLwiA",
        "outputId": "7b6c149e-304e-430b-9c07-8786765c98a0"
      },
      "outputs": [
        {
          "output_type": "stream",
          "name": "stdout",
          "text": [
            "Качество (AUC-PR) = 0.6575110261581697\n",
            "Время = 46.01 мс\n"
          ]
        }
      ],
      "source": [
        "from sklearn.base import BaseEstimator, TransformerMixin\n",
        "\n",
        "class MeanTargetEncoding(BaseEstimator, TransformerMixin):\n",
        "    def __init__(self, categorical_columns):\n",
        "        self.categorical_columns = categorical_columns\n",
        "        self.mean_target_encoders = {}\n",
        "\n",
        "    def calculate_counter(self, value, f_x, y):\n",
        "        f_x_matches = f_x == value\n",
        "        y_matches = y == 1\n",
        "        return (f_x_matches & y_matches).sum() / f_x_matches.sum()\n",
        "\n",
        "    def fit(self, X, y):\n",
        "        self.X = X.copy()\n",
        "        self.y = y.copy()\n",
        "        for column in self.categorical_columns:\n",
        "            encoder = {}\n",
        "            for val in X[column].unique():\n",
        "                encoder[val] = self.calculate_counter(val, X[column], y)\n",
        "            self.mean_target_encoders[column] = encoder\n",
        "        return self\n",
        "\n",
        "    def transform(self, X):\n",
        "        X_transformed = X.copy()\n",
        "        for column in self.categorical_columns:\n",
        "            encoding = self.mean_target_encoders[column]\n",
        "            X_transformed[column] = X_transformed[column].map(encoding)\n",
        "        return X_transformed\n",
        "\n",
        "\n",
        "mte_transformer = ColumnTransformer(\n",
        "    transformers=[\n",
        "        ('mte_categorical', MeanTargetEncoding(categorical), categorical)\n",
        "    ]\n",
        ")\n",
        "\n",
        "pipeline = Pipeline([\n",
        "    ('mte_transformer', mte_transformer),\n",
        "    ('lr_classifier', LogisticRegression())\n",
        "])\n",
        "\n",
        "start_time = time()\n",
        "pipeline.fit(X_train, y_train)\n",
        "training_time = time() - start_time\n",
        "\n",
        "y_pred = pipeline.predict_proba(X_test)[:, 1]\n",
        "\n",
        "precision, recall, _ = precision_recall_curve(y_test, y_pred)\n",
        "print(f'Качество (AUC-PR) = {average_precision_score(y_test, y_pred)}')\n",
        "print(f'Время = {training_time * 1000:.2f} мс')"
      ]
    },
    {
      "cell_type": "markdown",
      "metadata": {
        "id": "1W5ZWDibApv4"
      },
      "source": [
        "Время увеличилось, при этом нельзя сказать, что наблюдаются значительные улучшения качества"
      ]
    },
    {
      "cell_type": "markdown",
      "metadata": {
        "id": "ABXherJ3LGBj"
      },
      "source": [
        "##### __Бонус: Эффективная реализация (1 балл)__\n",
        "\n",
        "Здесь и далее реализуйте вычисление счетчиков с помощью трансформера (наследуйтесь от классов `BaseEstimator, TransformerMixin` из `sklearn.base`). Обратите внимание, что все вычисления должны быть векторизованными, трансформер не должен модифицировать передаваемую ему выборку inplace, а все необходимые статистики нужно считать только по обучающей выборке в методе `fit`. Ваш трансформер должен принимать при инициализации список из категориальных признаков и изменять только их."
      ]
    },
    {
      "cell_type": "code",
      "execution_count": 42,
      "metadata": {
        "colab": {
          "base_uri": "https://localhost:8080/"
        },
        "id": "Kk8D4dDuP75b",
        "outputId": "d09c189b-e823-4f9b-f17c-590647823ff1"
      },
      "outputs": [
        {
          "output_type": "stream",
          "name": "stdout",
          "text": [
            "Качество (AUC-PR) = 0.6575110261581697\n",
            "Время = 23.80 мс\n"
          ]
        }
      ],
      "source": [
        "class EffectiveMeanTargetEncoding(BaseEstimator, TransformerMixin):\n",
        "    def __init__(self, categorical_columns):\n",
        "        self.categorical_columns = categorical_columns\n",
        "        self.mean_target_encoders = {}\n",
        "\n",
        "    def fit(self, X, y):\n",
        "        self.X = X.copy()\n",
        "        self.y = y.copy()\n",
        "        self.X['target'] = y\n",
        "        self.mean_target_encoders = {\n",
        "            column: self.X.groupby(column)['target'].mean() for column in self.categorical_columns\n",
        "            }\n",
        "        return self\n",
        "\n",
        "    def transform(self, X):\n",
        "        X_transformed = X.copy()\n",
        "        for column, val in self.mean_target_encoders.items():\n",
        "            X_transformed[column] = X_transformed[column].map(val)\n",
        "        return X_transformed\n",
        "\n",
        "\n",
        "emte_transformer = ColumnTransformer(\n",
        "    transformers=[\n",
        "        ('emte_categorical', EffectiveMeanTargetEncoding(categorical), categorical)\n",
        "    ]\n",
        ")\n",
        "\n",
        "pipeline = Pipeline([\n",
        "    ('emte_transformer', emte_transformer),\n",
        "    ('lr_classifier', LogisticRegression())\n",
        "])\n",
        "\n",
        "start_time = time()\n",
        "pipeline.fit(X_train, y_train)\n",
        "training_time = time() - start_time\n",
        "\n",
        "y_pred = pipeline.predict_proba(X_test)[:, 1]\n",
        "\n",
        "precision, recall, _ = precision_recall_curve(y_test, y_pred)\n",
        "print(f'Качество (AUC-PR) = {average_precision_score(y_test, y_pred)}')\n",
        "print(f'Время = {training_time * 1000:.2f} мс')"
      ]
    },
    {
      "cell_type": "markdown",
      "metadata": {
        "id": "wKNsZtqDCHtE"
      },
      "source": [
        "Стало значительно быстрее, качество не изменилось (так как идею метода не меняли)"
      ]
    },
    {
      "cell_type": "markdown",
      "metadata": {
        "id": "bH-JPoINqJ62"
      },
      "source": [
        "_______\n",
        "\n",
        "__Методы борьбы с переобучением счетчиков__\n",
        "\n",
        "\n",
        "Отметим, что mean-target encoding признаки сами по себе являются классификаторами и, обучаясь на них, мы допускаем \"утечку\" целевой переменной в признаки. Это ведёт к __переобучению__, поэтому считать такие признаки необходимо таким образом, чтобы при вычислении для конкретного объекта его __целевая метка не использовалась__.\n",
        "\n",
        "Это можно делать следующими способами:\n",
        "1. Вычислять значение счётчика по всем объектам расположенным выше в датасете (например, если у нас выборка отсортирована по времени).\n",
        "2. Вычислять по фолдам, то есть делить выборку на некоторое количество частей и подсчитывать значение признаков по всем фолдам кроме текущего (как делается в кросс-валидации).\n",
        "3. Внесение некоторого шума в посчитанные признаки.\n",
        "\n",
        "#### __Задание 6. Пошумим__  (0.5 балла)\n",
        "\n",
        "Реализуйте корректное вычисление счётчиков самым простым способом — добавление шума к значениям.  При этом постарайтесь найти баланс между борьбой с переобучением и сохранением полезности признаков. Снова обучите логистическую регрессию, оцените качество."
      ]
    },
    {
      "cell_type": "code",
      "execution_count": 43,
      "metadata": {
        "colab": {
          "base_uri": "https://localhost:8080/"
        },
        "id": "HiqJBxrAP75c",
        "outputId": "86f9d959-2345-454e-8764-870d497d288a"
      },
      "outputs": [
        {
          "output_type": "stream",
          "name": "stdout",
          "text": [
            "Качество (AUC-PR) = 0.6783542566445906\n",
            "Время = 21.77 мс\n"
          ]
        }
      ],
      "source": [
        "from sklearn.base import BaseEstimator, TransformerMixin\n",
        "\n",
        "class NoiseMeanTargetEncoding(BaseEstimator, TransformerMixin):\n",
        "    def __init__(self, categorical_columns):\n",
        "        self.categorical_columns = categorical_columns\n",
        "        self.mean_target_encoders = {}\n",
        "\n",
        "    def fit(self, X, y):\n",
        "        self.X = X.copy()\n",
        "        self.y = y.copy()\n",
        "        self.X['target'] = y\n",
        "        self.mean_target_encoders = {\n",
        "            column: self.X.groupby(column)['target'].mean() + np.random.normal(0, 0.01, len(self.X.groupby(column)['target'].mean())) for column in self.categorical_columns\n",
        "            }\n",
        "        return self\n",
        "\n",
        "    def transform(self, X):\n",
        "        X_transformed = X.copy()\n",
        "        for column, val in self.mean_target_encoders.items():\n",
        "            X_transformed[column] = X_transformed[column].map(val)\n",
        "        return X_transformed\n",
        "\n",
        "\n",
        "nmte_transformer = ColumnTransformer(\n",
        "    transformers=[\n",
        "        ('nmte_categorical', NoiseMeanTargetEncoding(categorical), categorical)\n",
        "    ]\n",
        ")\n",
        "\n",
        "pipeline = Pipeline([\n",
        "    ('nmte_transformer', nmte_transformer),\n",
        "    ('lr_classifier', LogisticRegression())\n",
        "])\n",
        "\n",
        "start_time = time()\n",
        "pipeline.fit(X_train, y_train)\n",
        "training_time = time() - start_time\n",
        "\n",
        "y_pred = pipeline.predict_proba(X_test)[:, 1]\n",
        "\n",
        "precision, recall, _ = precision_recall_curve(y_test, y_pred)\n",
        "print(f'Качество (AUC-PR) = {average_precision_score(y_test, y_pred)}')\n",
        "print(f'Время = {training_time * 1000:.2f} мс')"
      ]
    },
    {
      "cell_type": "markdown",
      "metadata": {
        "id": "UOxwE8rGLSzH"
      },
      "source": [
        "**Вопрос:** Сделайте выводы. Помогло ли добавление шума? Почему?\n",
        "\n",
        "**Ответ:** Качество модели немного улучшилось => снижение эффекта переобучения (как и хотели); однако и время выполнения тоже увеличилось. Но тут конечно все зависит от рандома"
      ]
    },
    {
      "cell_type": "markdown",
      "metadata": {
        "id": "1GtUtPCjP75c"
      },
      "source": [
        "##### __Бонус: другой подход__ (0.5 балла)\n",
        "\n",
        "Посчитайте корректные счётчики первым или вторым способов из описанных выше (не забудьте добавить и шум).\n",
        "\n",
        "\n"
      ]
    },
    {
      "cell_type": "code",
      "execution_count": null,
      "metadata": {
        "id": "AjqsSTd6P75c"
      },
      "outputs": [],
      "source": [
        "# your code here"
      ]
    },
    {
      "cell_type": "markdown",
      "metadata": {
        "id": "aMe2b5i6P75d"
      },
      "source": [
        "#### __Задание 7. Сглаживание счетчиков__  (1 балл)"
      ]
    },
    {
      "cell_type": "markdown",
      "metadata": {
        "id": "4gnmTaJqP75d"
      },
      "source": [
        "> Теперь ответим на следующий вопрос: что будет, если некоторая категория встречается в выборке всего несколько раз? По этой причине производится сглаживание счётчиков. Например, на практике хорошие результаты показывает использование сглаживания средним по всей выборке:\n",
        "$$\n",
        "g_j(x, X) = \\frac{\\sum_{i=1}^{\\ell} [f_j(x) = f_j(x_i)][y_i = +1] + C \\times \\text{global_mean}}{\\sum_{i=1}^{\\ell} [f_j(x) = f_j(x_i)] + C}\n",
        "$$\n",
        "где $\\text{global_mean}$ — доля объектов положительного класса в выборке, $C$ — параметр, определяющий степень сглаживания (можно использовать 10 или подобрать для каждого признака свой). Идея в том, что мы \"разбавляем\" среднее значение по категории глобальным средним значением. И тем меньше, чем большее количество объектов этой категории встречается в выборке.\n",
        "\n",
        "> Вместо среднего значения целевой переменной для сглаживания можно использовать любое другое значение от 0 до 1 (этот параметр иногда называют $prior$). Можно сделать несколько признаков с разными значениями параметра. На практике в задачах бинарной классификации полезными бывают даже отрицательные значения!\n",
        "\n",
        "Добавьте сглаживание, описанное выше и повторите эксперименты. Подберите $C$, чтобы качество было лучше, чем при использовании One-Hot-Encoding\n"
      ]
    },
    {
      "cell_type": "code",
      "execution_count": 44,
      "metadata": {
        "id": "4xRMlYQlP75d"
      },
      "outputs": [],
      "source": [
        "class SmoothedMeanTargetEncoding(BaseEstimator, TransformerMixin):\n",
        "    def __init__(self, categorical_columns, c=10):\n",
        "        self.categorical_columns = categorical_columns\n",
        "        self.mean_target_encoders = {}\n",
        "        self.c = c\n",
        "\n",
        "    def fit(self, X, y):\n",
        "        self.X = X.copy()\n",
        "        self.y = y.copy()\n",
        "        self.X['target'] = y\n",
        "        self.global_mean = self.y.mean()\n",
        "        for column in self.categorical_columns:\n",
        "            sum_target = self.X.groupby(column)['target'].sum()\n",
        "            count_target = self.X.groupby(column).size()\n",
        "            smoothed_mean = (sum_target + self.c * self.global_mean) / (count_target + self.c)\n",
        "            self.mean_target_encoders[column] = smoothed_mean\n",
        "        return self\n",
        "\n",
        "    def transform(self, X):\n",
        "        X_transformed = X.copy()\n",
        "        for column, val in self.mean_target_encoders.items():\n",
        "            X_transformed[column] = X_transformed[column].map(val)\n",
        "        return X_transformed"
      ]
    },
    {
      "cell_type": "code",
      "execution_count": 45,
      "metadata": {
        "colab": {
          "base_uri": "https://localhost:8080/"
        },
        "id": "iGNBYBVRINZ6",
        "outputId": "2e90ec4a-86ba-4af8-bfd0-a8939066ae9e"
      },
      "outputs": [
        {
          "output_type": "stream",
          "name": "stdout",
          "text": [
            "Лучшее c = 9\n",
            "Качество (AUC-PR) = 0.67256590814385\n",
            "Время = 21.83 мс\n"
          ]
        }
      ],
      "source": [
        "best_average_precision_score = 0\n",
        "best_c = 0\n",
        "best_training_time = 0\n",
        "for c in range(1, 50):\n",
        "    smte_transformer = ColumnTransformer(\n",
        "        transformers=[\n",
        "            ('smte_categorical', SmoothedMeanTargetEncoding(categorical, c), categorical)\n",
        "        ]\n",
        "    )\n",
        "\n",
        "    pipeline = Pipeline([\n",
        "        ('smte_transformer', smte_transformer),\n",
        "        ('lr_classifier', LogisticRegression())\n",
        "    ])\n",
        "\n",
        "    start_time = time()\n",
        "    pipeline.fit(X_train, y_train)\n",
        "    training_time = time() - start_time\n",
        "\n",
        "    y_pred = pipeline.predict_proba(X_test)[:, 1]\n",
        "    precision, recall, _ = precision_recall_curve(y_test, y_pred)\n",
        "    if average_precision_score(y_test, y_pred) > best_average_precision_score:\n",
        "        best_average_precision_score = average_precision_score(y_test, y_pred)\n",
        "        best_c = c\n",
        "        best_training_time = training_time\n",
        "\n",
        "print(f'Лучшее c = {best_c}')\n",
        "print(f'Качество (AUC-PR) = {best_average_precision_score}')\n",
        "print(f'Время = {best_training_time * 1000:.2f} мс')"
      ]
    },
    {
      "cell_type": "markdown",
      "metadata": {
        "id": "d0j4EiYiRfE9"
      },
      "source": [
        "При использовании One-Hot Encoding были зафиксированы следующие показатели:\n",
        "\n",
        "Качество (AUC-PR) = 0.6662544177340515\n",
        "\n",
        "Время = 34.35 мс\n",
        "\n",
        "То есть удалось улучшить качество и сократить время выполнения"
      ]
    },
    {
      "cell_type": "markdown",
      "metadata": {
        "id": "TksKMbr_P75d"
      },
      "source": [
        "#### **Задание 8. Числовые или категориальные?**  (0.5 балла)\n",
        "\n",
        "Теперь добавим числовые признаки к счётчикам (тем, которые дали наибольший прирост качества).\n",
        "\n",
        "\n",
        "Проверьте их на наличие выбросов и заполните пропуски средним или медианой, подумайте, что лучше в условиях наших данных\n",
        "\n"
      ]
    },
    {
      "cell_type": "code",
      "execution_count": 46,
      "metadata": {
        "id": "NGE4O-alP75e"
      },
      "outputs": [],
      "source": [
        "X_numerical = X_numerical.fillna(X_numerical.mean())"
      ]
    },
    {
      "cell_type": "markdown",
      "metadata": {
        "id": "JfqXdaqblnZo"
      },
      "source": [
        " Сейчас для числовых признаков мы ищем линейную зависимость, что в общем случае  может быть неверной гипотезой. Тем не менее, у этих признаков есть довольно много уникальных значений (сколько?), поэтому применять к ним one-hot кодирование может оказаться излишним. Попробуйте закодировать эти признаки с помощью счетчиков. Стало ли лучше?"
      ]
    },
    {
      "cell_type": "code",
      "execution_count": 47,
      "metadata": {
        "id": "3p_jGTg-h3MG",
        "colab": {
          "base_uri": "https://localhost:8080/",
          "height": 175
        },
        "outputId": "9f0d1027-d9aa-40bc-ad23-d4c9db2fcd52"
      },
      "outputs": [
        {
          "output_type": "execute_result",
          "data": {
            "text/plain": [
              "     Column  Number of Unique Values\n",
              "0    Income                       17\n",
              "1  Children                        7\n",
              "2      Cars                        6\n",
              "3       Age                       54"
            ],
            "text/html": [
              "\n",
              "  <div id=\"df-847801c8-7364-407e-9ff6-b8fd8d82b018\" class=\"colab-df-container\">\n",
              "    <div>\n",
              "<style scoped>\n",
              "    .dataframe tbody tr th:only-of-type {\n",
              "        vertical-align: middle;\n",
              "    }\n",
              "\n",
              "    .dataframe tbody tr th {\n",
              "        vertical-align: top;\n",
              "    }\n",
              "\n",
              "    .dataframe thead th {\n",
              "        text-align: right;\n",
              "    }\n",
              "</style>\n",
              "<table border=\"1\" class=\"dataframe\">\n",
              "  <thead>\n",
              "    <tr style=\"text-align: right;\">\n",
              "      <th></th>\n",
              "      <th>Column</th>\n",
              "      <th>Number of Unique Values</th>\n",
              "    </tr>\n",
              "  </thead>\n",
              "  <tbody>\n",
              "    <tr>\n",
              "      <th>0</th>\n",
              "      <td>Income</td>\n",
              "      <td>17</td>\n",
              "    </tr>\n",
              "    <tr>\n",
              "      <th>1</th>\n",
              "      <td>Children</td>\n",
              "      <td>7</td>\n",
              "    </tr>\n",
              "    <tr>\n",
              "      <th>2</th>\n",
              "      <td>Cars</td>\n",
              "      <td>6</td>\n",
              "    </tr>\n",
              "    <tr>\n",
              "      <th>3</th>\n",
              "      <td>Age</td>\n",
              "      <td>54</td>\n",
              "    </tr>\n",
              "  </tbody>\n",
              "</table>\n",
              "</div>\n",
              "    <div class=\"colab-df-buttons\">\n",
              "\n",
              "  <div class=\"colab-df-container\">\n",
              "    <button class=\"colab-df-convert\" onclick=\"convertToInteractive('df-847801c8-7364-407e-9ff6-b8fd8d82b018')\"\n",
              "            title=\"Convert this dataframe to an interactive table.\"\n",
              "            style=\"display:none;\">\n",
              "\n",
              "  <svg xmlns=\"http://www.w3.org/2000/svg\" height=\"24px\" viewBox=\"0 -960 960 960\">\n",
              "    <path d=\"M120-120v-720h720v720H120Zm60-500h600v-160H180v160Zm220 220h160v-160H400v160Zm0 220h160v-160H400v160ZM180-400h160v-160H180v160Zm440 0h160v-160H620v160ZM180-180h160v-160H180v160Zm440 0h160v-160H620v160Z\"/>\n",
              "  </svg>\n",
              "    </button>\n",
              "\n",
              "  <style>\n",
              "    .colab-df-container {\n",
              "      display:flex;\n",
              "      gap: 12px;\n",
              "    }\n",
              "\n",
              "    .colab-df-convert {\n",
              "      background-color: #E8F0FE;\n",
              "      border: none;\n",
              "      border-radius: 50%;\n",
              "      cursor: pointer;\n",
              "      display: none;\n",
              "      fill: #1967D2;\n",
              "      height: 32px;\n",
              "      padding: 0 0 0 0;\n",
              "      width: 32px;\n",
              "    }\n",
              "\n",
              "    .colab-df-convert:hover {\n",
              "      background-color: #E2EBFA;\n",
              "      box-shadow: 0px 1px 2px rgba(60, 64, 67, 0.3), 0px 1px 3px 1px rgba(60, 64, 67, 0.15);\n",
              "      fill: #174EA6;\n",
              "    }\n",
              "\n",
              "    .colab-df-buttons div {\n",
              "      margin-bottom: 4px;\n",
              "    }\n",
              "\n",
              "    [theme=dark] .colab-df-convert {\n",
              "      background-color: #3B4455;\n",
              "      fill: #D2E3FC;\n",
              "    }\n",
              "\n",
              "    [theme=dark] .colab-df-convert:hover {\n",
              "      background-color: #434B5C;\n",
              "      box-shadow: 0px 1px 3px 1px rgba(0, 0, 0, 0.15);\n",
              "      filter: drop-shadow(0px 1px 2px rgba(0, 0, 0, 0.3));\n",
              "      fill: #FFFFFF;\n",
              "    }\n",
              "  </style>\n",
              "\n",
              "    <script>\n",
              "      const buttonEl =\n",
              "        document.querySelector('#df-847801c8-7364-407e-9ff6-b8fd8d82b018 button.colab-df-convert');\n",
              "      buttonEl.style.display =\n",
              "        google.colab.kernel.accessAllowed ? 'block' : 'none';\n",
              "\n",
              "      async function convertToInteractive(key) {\n",
              "        const element = document.querySelector('#df-847801c8-7364-407e-9ff6-b8fd8d82b018');\n",
              "        const dataTable =\n",
              "          await google.colab.kernel.invokeFunction('convertToInteractive',\n",
              "                                                    [key], {});\n",
              "        if (!dataTable) return;\n",
              "\n",
              "        const docLinkHtml = 'Like what you see? Visit the ' +\n",
              "          '<a target=\"_blank\" href=https://colab.research.google.com/notebooks/data_table.ipynb>data table notebook</a>'\n",
              "          + ' to learn more about interactive tables.';\n",
              "        element.innerHTML = '';\n",
              "        dataTable['output_type'] = 'display_data';\n",
              "        await google.colab.output.renderOutput(dataTable, element);\n",
              "        const docLink = document.createElement('div');\n",
              "        docLink.innerHTML = docLinkHtml;\n",
              "        element.appendChild(docLink);\n",
              "      }\n",
              "    </script>\n",
              "  </div>\n",
              "\n",
              "\n",
              "<div id=\"df-fae02e7a-3bf4-4640-8551-72d62d13d118\">\n",
              "  <button class=\"colab-df-quickchart\" onclick=\"quickchart('df-fae02e7a-3bf4-4640-8551-72d62d13d118')\"\n",
              "            title=\"Suggest charts\"\n",
              "            style=\"display:none;\">\n",
              "\n",
              "<svg xmlns=\"http://www.w3.org/2000/svg\" height=\"24px\"viewBox=\"0 0 24 24\"\n",
              "     width=\"24px\">\n",
              "    <g>\n",
              "        <path d=\"M19 3H5c-1.1 0-2 .9-2 2v14c0 1.1.9 2 2 2h14c1.1 0 2-.9 2-2V5c0-1.1-.9-2-2-2zM9 17H7v-7h2v7zm4 0h-2V7h2v10zm4 0h-2v-4h2v4z\"/>\n",
              "    </g>\n",
              "</svg>\n",
              "  </button>\n",
              "\n",
              "<style>\n",
              "  .colab-df-quickchart {\n",
              "      --bg-color: #E8F0FE;\n",
              "      --fill-color: #1967D2;\n",
              "      --hover-bg-color: #E2EBFA;\n",
              "      --hover-fill-color: #174EA6;\n",
              "      --disabled-fill-color: #AAA;\n",
              "      --disabled-bg-color: #DDD;\n",
              "  }\n",
              "\n",
              "  [theme=dark] .colab-df-quickchart {\n",
              "      --bg-color: #3B4455;\n",
              "      --fill-color: #D2E3FC;\n",
              "      --hover-bg-color: #434B5C;\n",
              "      --hover-fill-color: #FFFFFF;\n",
              "      --disabled-bg-color: #3B4455;\n",
              "      --disabled-fill-color: #666;\n",
              "  }\n",
              "\n",
              "  .colab-df-quickchart {\n",
              "    background-color: var(--bg-color);\n",
              "    border: none;\n",
              "    border-radius: 50%;\n",
              "    cursor: pointer;\n",
              "    display: none;\n",
              "    fill: var(--fill-color);\n",
              "    height: 32px;\n",
              "    padding: 0;\n",
              "    width: 32px;\n",
              "  }\n",
              "\n",
              "  .colab-df-quickchart:hover {\n",
              "    background-color: var(--hover-bg-color);\n",
              "    box-shadow: 0 1px 2px rgba(60, 64, 67, 0.3), 0 1px 3px 1px rgba(60, 64, 67, 0.15);\n",
              "    fill: var(--button-hover-fill-color);\n",
              "  }\n",
              "\n",
              "  .colab-df-quickchart-complete:disabled,\n",
              "  .colab-df-quickchart-complete:disabled:hover {\n",
              "    background-color: var(--disabled-bg-color);\n",
              "    fill: var(--disabled-fill-color);\n",
              "    box-shadow: none;\n",
              "  }\n",
              "\n",
              "  .colab-df-spinner {\n",
              "    border: 2px solid var(--fill-color);\n",
              "    border-color: transparent;\n",
              "    border-bottom-color: var(--fill-color);\n",
              "    animation:\n",
              "      spin 1s steps(1) infinite;\n",
              "  }\n",
              "\n",
              "  @keyframes spin {\n",
              "    0% {\n",
              "      border-color: transparent;\n",
              "      border-bottom-color: var(--fill-color);\n",
              "      border-left-color: var(--fill-color);\n",
              "    }\n",
              "    20% {\n",
              "      border-color: transparent;\n",
              "      border-left-color: var(--fill-color);\n",
              "      border-top-color: var(--fill-color);\n",
              "    }\n",
              "    30% {\n",
              "      border-color: transparent;\n",
              "      border-left-color: var(--fill-color);\n",
              "      border-top-color: var(--fill-color);\n",
              "      border-right-color: var(--fill-color);\n",
              "    }\n",
              "    40% {\n",
              "      border-color: transparent;\n",
              "      border-right-color: var(--fill-color);\n",
              "      border-top-color: var(--fill-color);\n",
              "    }\n",
              "    60% {\n",
              "      border-color: transparent;\n",
              "      border-right-color: var(--fill-color);\n",
              "    }\n",
              "    80% {\n",
              "      border-color: transparent;\n",
              "      border-right-color: var(--fill-color);\n",
              "      border-bottom-color: var(--fill-color);\n",
              "    }\n",
              "    90% {\n",
              "      border-color: transparent;\n",
              "      border-bottom-color: var(--fill-color);\n",
              "    }\n",
              "  }\n",
              "</style>\n",
              "\n",
              "  <script>\n",
              "    async function quickchart(key) {\n",
              "      const quickchartButtonEl =\n",
              "        document.querySelector('#' + key + ' button');\n",
              "      quickchartButtonEl.disabled = true;  // To prevent multiple clicks.\n",
              "      quickchartButtonEl.classList.add('colab-df-spinner');\n",
              "      try {\n",
              "        const charts = await google.colab.kernel.invokeFunction(\n",
              "            'suggestCharts', [key], {});\n",
              "      } catch (error) {\n",
              "        console.error('Error during call to suggestCharts:', error);\n",
              "      }\n",
              "      quickchartButtonEl.classList.remove('colab-df-spinner');\n",
              "      quickchartButtonEl.classList.add('colab-df-quickchart-complete');\n",
              "    }\n",
              "    (() => {\n",
              "      let quickchartButtonEl =\n",
              "        document.querySelector('#df-fae02e7a-3bf4-4640-8551-72d62d13d118 button');\n",
              "      quickchartButtonEl.style.display =\n",
              "        google.colab.kernel.accessAllowed ? 'block' : 'none';\n",
              "    })();\n",
              "  </script>\n",
              "</div>\n",
              "    </div>\n",
              "  </div>\n"
            ],
            "application/vnd.google.colaboratory.intrinsic+json": {
              "type": "dataframe",
              "variable_name": "tmp",
              "summary": "{\n  \"name\": \"tmp\",\n  \"rows\": 4,\n  \"fields\": [\n    {\n      \"column\": \"Column\",\n      \"properties\": {\n        \"dtype\": \"string\",\n        \"num_unique_values\": 4,\n        \"samples\": [\n          \"Children\",\n          \"Age\",\n          \"Income\"\n        ],\n        \"semantic_type\": \"\",\n        \"description\": \"\"\n      }\n    },\n    {\n      \"column\": \"Number of Unique Values\",\n      \"properties\": {\n        \"dtype\": \"number\",\n        \"std\": 22,\n        \"min\": 6,\n        \"max\": 54,\n        \"num_unique_values\": 4,\n        \"samples\": [\n          7,\n          54,\n          17\n        ],\n        \"semantic_type\": \"\",\n        \"description\": \"\"\n      }\n    }\n  ]\n}"
            }
          },
          "metadata": {},
          "execution_count": 47
        }
      ],
      "source": [
        "tmp = X_numerical.nunique().to_frame().reset_index()\n",
        "tmp.columns = ['Column', 'Number of Unique Values']\n",
        "tmp"
      ]
    },
    {
      "cell_type": "code",
      "source": [
        "def smooth_mte(X_train, X_test, categorical, c):\n",
        "    smte_transformer = ColumnTransformer([('smte_categorical', SmoothedMeanTargetEncoding(categorical, c), categorical)])\n",
        "    pipeline = Pipeline([('smte_transformer', smte_transformer),\n",
        "        ('logreg_classifier', LogisticRegression())])\n",
        "    pipeline.fit(X_train, y_train)\n",
        "    y_pred = pipeline.predict_proba(X_test)[:,1]\n",
        "    return average_precision_score(y_test, y_pred)"
      ],
      "metadata": {
        "id": "7hYEILwVckjl"
      },
      "execution_count": 50,
      "outputs": []
    },
    {
      "cell_type": "code",
      "source": [
        "best_auc_pr = 0\n",
        "best_c = 0\n",
        "for c in range(1, 100):\n",
        "    current_auc_pr = smooth_mte(X_train, X_test, X_train.columns, c)\n",
        "    if current_auc_pr > best_auc_pr:\n",
        "        best_auc_pr = current_auc_pr\n",
        "        best_c = c\n",
        "print(f'Лучшее c = {best_c}')\n",
        "print(f'Качество (AUC-PR) = {best_average_precision_score}')"
      ],
      "metadata": {
        "id": "D4_4l0iZctYu",
        "colab": {
          "base_uri": "https://localhost:8080/"
        },
        "outputId": "f5208b19-0a9d-434b-8853-e0e8ce5582b2"
      },
      "execution_count": 51,
      "outputs": [
        {
          "output_type": "stream",
          "name": "stdout",
          "text": [
            "Лучшее c = 9\n",
            "Качество (AUC-PR) = 0.67256590814385\n"
          ]
        }
      ]
    },
    {
      "cell_type": "markdown",
      "source": [
        "По сравнению с OHE качество улучшилось (но незначительно)"
      ],
      "metadata": {
        "id": "iwjEG2RFfnS5"
      }
    },
    {
      "cell_type": "markdown",
      "metadata": {
        "id": "ia0qk__0iNCS"
      },
      "source": [
        "> __Замечание.__ Усложнение методов вычисления счётчиков не делают результаты модели гарантированно лучше. Особенно с учётом того, что логистическая регрессия не такая сложная модель, чтобы переобучаться. Поэтому вы необязательно должны были получать на каждом шаге всё лучшие и лучшие результаты (но необходимые результаты у вас должны были получиться)."
      ]
    },
    {
      "cell_type": "markdown",
      "metadata": {
        "id": "2mwXyUnOP75e"
      },
      "source": [
        "\n",
        "\n",
        "Как мы могли пронаблюдать, счётчики являются конкурентной альтернативой one-hot-кодированию. Опишите, какие плюсы и минусы использования счётчиков по сравнению с one-hot-кодированием вы заметили.\n",
        "\n",
        "__Ответ:__ Плюсы в том, что качество вроде как улучшается, не нужно много памяти. Минусы: время обучения увеличивается"
      ]
    },
    {
      "cell_type": "markdown",
      "metadata": {
        "id": "_oU4I7HjP75f"
      },
      "source": [
        "# Часть 3. Отбор признаков (2 балла)"
      ]
    },
    {
      "cell_type": "markdown",
      "metadata": {
        "id": "EsmcHDoZNu5l"
      },
      "source": [
        "Загрузим данные [UCI Adult Dataset](https://archive.ics.uci.edu/ml/datasets/Adult). Этот набор данных содержит информацию о годовых доходах отдельных людей. В качестве признакового описания используется различная информация о человеке (образование, профессия, брачный статус и т.д.). Целевая переменная является бинарной: больше ли годовой доход 50K долларов или нет."
      ]
    },
    {
      "cell_type": "code",
      "execution_count": 52,
      "metadata": {
        "id": "hk7jX8EsNrz2",
        "colab": {
          "base_uri": "https://localhost:8080/"
        },
        "outputId": "8e7f2782-14b7-4af8-bd4b-576eb79df9a3"
      },
      "outputs": [
        {
          "output_type": "stream",
          "name": "stdout",
          "text": [
            "--2024-11-28 20:39:16--  https://archive.ics.uci.edu/ml/machine-learning-databases/adult/adult.data\n",
            "Resolving archive.ics.uci.edu (archive.ics.uci.edu)... 128.195.10.252\n",
            "Connecting to archive.ics.uci.edu (archive.ics.uci.edu)|128.195.10.252|:443... connected.\n",
            "HTTP request sent, awaiting response... 200 OK\n",
            "Length: unspecified\n",
            "Saving to: ‘adult.data’\n",
            "\n",
            "\radult.data              [<=>                 ]       0  --.-KB/s               \radult.data              [ <=>                ]   3.79M  --.-KB/s    in 0.1s    \n",
            "\n",
            "2024-11-28 20:39:16 (38.8 MB/s) - ‘adult.data’ saved [3974305]\n",
            "\n"
          ]
        }
      ],
      "source": [
        "!wget https://archive.ics.uci.edu/ml/machine-learning-databases/adult/adult.data"
      ]
    },
    {
      "cell_type": "code",
      "execution_count": 53,
      "metadata": {
        "id": "XVqw4RQ5iXRC",
        "colab": {
          "base_uri": "https://localhost:8080/",
          "height": 115
        },
        "outputId": "0673ba13-5103-4805-a793-297353fd97dd"
      },
      "outputs": [
        {
          "output_type": "execute_result",
          "data": {
            "text/plain": [
              "       age   workclass  fnlwgt   education  education-num  \\\n",
              "14768   32   Local-gov  198211   Assoc-voc             11   \n",
              "\n",
              "               marital-status     occupation    relationship    race    sex  \\\n",
              "14768   Married-spouse-absent   Craft-repair   Not-in-family   White   Male   \n",
              "\n",
              "       capital-gain  capital-loss  hours-per-week  native-country  income  \n",
              "14768             0             0              40   United-States       0  "
            ],
            "text/html": [
              "\n",
              "  <div id=\"df-b3fb7cf6-1630-438e-a9bb-a3ed4fe5ffb1\" class=\"colab-df-container\">\n",
              "    <div>\n",
              "<style scoped>\n",
              "    .dataframe tbody tr th:only-of-type {\n",
              "        vertical-align: middle;\n",
              "    }\n",
              "\n",
              "    .dataframe tbody tr th {\n",
              "        vertical-align: top;\n",
              "    }\n",
              "\n",
              "    .dataframe thead th {\n",
              "        text-align: right;\n",
              "    }\n",
              "</style>\n",
              "<table border=\"1\" class=\"dataframe\">\n",
              "  <thead>\n",
              "    <tr style=\"text-align: right;\">\n",
              "      <th></th>\n",
              "      <th>age</th>\n",
              "      <th>workclass</th>\n",
              "      <th>fnlwgt</th>\n",
              "      <th>education</th>\n",
              "      <th>education-num</th>\n",
              "      <th>marital-status</th>\n",
              "      <th>occupation</th>\n",
              "      <th>relationship</th>\n",
              "      <th>race</th>\n",
              "      <th>sex</th>\n",
              "      <th>capital-gain</th>\n",
              "      <th>capital-loss</th>\n",
              "      <th>hours-per-week</th>\n",
              "      <th>native-country</th>\n",
              "      <th>income</th>\n",
              "    </tr>\n",
              "  </thead>\n",
              "  <tbody>\n",
              "    <tr>\n",
              "      <th>14768</th>\n",
              "      <td>32</td>\n",
              "      <td>Local-gov</td>\n",
              "      <td>198211</td>\n",
              "      <td>Assoc-voc</td>\n",
              "      <td>11</td>\n",
              "      <td>Married-spouse-absent</td>\n",
              "      <td>Craft-repair</td>\n",
              "      <td>Not-in-family</td>\n",
              "      <td>White</td>\n",
              "      <td>Male</td>\n",
              "      <td>0</td>\n",
              "      <td>0</td>\n",
              "      <td>40</td>\n",
              "      <td>United-States</td>\n",
              "      <td>0</td>\n",
              "    </tr>\n",
              "  </tbody>\n",
              "</table>\n",
              "</div>\n",
              "    <div class=\"colab-df-buttons\">\n",
              "\n",
              "  <div class=\"colab-df-container\">\n",
              "    <button class=\"colab-df-convert\" onclick=\"convertToInteractive('df-b3fb7cf6-1630-438e-a9bb-a3ed4fe5ffb1')\"\n",
              "            title=\"Convert this dataframe to an interactive table.\"\n",
              "            style=\"display:none;\">\n",
              "\n",
              "  <svg xmlns=\"http://www.w3.org/2000/svg\" height=\"24px\" viewBox=\"0 -960 960 960\">\n",
              "    <path d=\"M120-120v-720h720v720H120Zm60-500h600v-160H180v160Zm220 220h160v-160H400v160Zm0 220h160v-160H400v160ZM180-400h160v-160H180v160Zm440 0h160v-160H620v160ZM180-180h160v-160H180v160Zm440 0h160v-160H620v160Z\"/>\n",
              "  </svg>\n",
              "    </button>\n",
              "\n",
              "  <style>\n",
              "    .colab-df-container {\n",
              "      display:flex;\n",
              "      gap: 12px;\n",
              "    }\n",
              "\n",
              "    .colab-df-convert {\n",
              "      background-color: #E8F0FE;\n",
              "      border: none;\n",
              "      border-radius: 50%;\n",
              "      cursor: pointer;\n",
              "      display: none;\n",
              "      fill: #1967D2;\n",
              "      height: 32px;\n",
              "      padding: 0 0 0 0;\n",
              "      width: 32px;\n",
              "    }\n",
              "\n",
              "    .colab-df-convert:hover {\n",
              "      background-color: #E2EBFA;\n",
              "      box-shadow: 0px 1px 2px rgba(60, 64, 67, 0.3), 0px 1px 3px 1px rgba(60, 64, 67, 0.15);\n",
              "      fill: #174EA6;\n",
              "    }\n",
              "\n",
              "    .colab-df-buttons div {\n",
              "      margin-bottom: 4px;\n",
              "    }\n",
              "\n",
              "    [theme=dark] .colab-df-convert {\n",
              "      background-color: #3B4455;\n",
              "      fill: #D2E3FC;\n",
              "    }\n",
              "\n",
              "    [theme=dark] .colab-df-convert:hover {\n",
              "      background-color: #434B5C;\n",
              "      box-shadow: 0px 1px 3px 1px rgba(0, 0, 0, 0.15);\n",
              "      filter: drop-shadow(0px 1px 2px rgba(0, 0, 0, 0.3));\n",
              "      fill: #FFFFFF;\n",
              "    }\n",
              "  </style>\n",
              "\n",
              "    <script>\n",
              "      const buttonEl =\n",
              "        document.querySelector('#df-b3fb7cf6-1630-438e-a9bb-a3ed4fe5ffb1 button.colab-df-convert');\n",
              "      buttonEl.style.display =\n",
              "        google.colab.kernel.accessAllowed ? 'block' : 'none';\n",
              "\n",
              "      async function convertToInteractive(key) {\n",
              "        const element = document.querySelector('#df-b3fb7cf6-1630-438e-a9bb-a3ed4fe5ffb1');\n",
              "        const dataTable =\n",
              "          await google.colab.kernel.invokeFunction('convertToInteractive',\n",
              "                                                    [key], {});\n",
              "        if (!dataTable) return;\n",
              "\n",
              "        const docLinkHtml = 'Like what you see? Visit the ' +\n",
              "          '<a target=\"_blank\" href=https://colab.research.google.com/notebooks/data_table.ipynb>data table notebook</a>'\n",
              "          + ' to learn more about interactive tables.';\n",
              "        element.innerHTML = '';\n",
              "        dataTable['output_type'] = 'display_data';\n",
              "        await google.colab.output.renderOutput(dataTable, element);\n",
              "        const docLink = document.createElement('div');\n",
              "        docLink.innerHTML = docLinkHtml;\n",
              "        element.appendChild(docLink);\n",
              "      }\n",
              "    </script>\n",
              "  </div>\n",
              "\n",
              "    </div>\n",
              "  </div>\n"
            ],
            "application/vnd.google.colaboratory.intrinsic+json": {
              "type": "dataframe",
              "summary": "{\n  \"name\": \"df\",\n  \"rows\": 1,\n  \"fields\": [\n    {\n      \"column\": \"age\",\n      \"properties\": {\n        \"dtype\": \"number\",\n        \"std\": null,\n        \"min\": 32,\n        \"max\": 32,\n        \"num_unique_values\": 1,\n        \"samples\": [\n          32\n        ],\n        \"semantic_type\": \"\",\n        \"description\": \"\"\n      }\n    },\n    {\n      \"column\": \"workclass\",\n      \"properties\": {\n        \"dtype\": \"string\",\n        \"num_unique_values\": 1,\n        \"samples\": [\n          \" Local-gov\"\n        ],\n        \"semantic_type\": \"\",\n        \"description\": \"\"\n      }\n    },\n    {\n      \"column\": \"fnlwgt\",\n      \"properties\": {\n        \"dtype\": \"number\",\n        \"std\": null,\n        \"min\": 198211,\n        \"max\": 198211,\n        \"num_unique_values\": 1,\n        \"samples\": [\n          198211\n        ],\n        \"semantic_type\": \"\",\n        \"description\": \"\"\n      }\n    },\n    {\n      \"column\": \"education\",\n      \"properties\": {\n        \"dtype\": \"string\",\n        \"num_unique_values\": 1,\n        \"samples\": [\n          \" Assoc-voc\"\n        ],\n        \"semantic_type\": \"\",\n        \"description\": \"\"\n      }\n    },\n    {\n      \"column\": \"education-num\",\n      \"properties\": {\n        \"dtype\": \"number\",\n        \"std\": null,\n        \"min\": 11,\n        \"max\": 11,\n        \"num_unique_values\": 1,\n        \"samples\": [\n          11\n        ],\n        \"semantic_type\": \"\",\n        \"description\": \"\"\n      }\n    },\n    {\n      \"column\": \"marital-status\",\n      \"properties\": {\n        \"dtype\": \"string\",\n        \"num_unique_values\": 1,\n        \"samples\": [\n          \" Married-spouse-absent\"\n        ],\n        \"semantic_type\": \"\",\n        \"description\": \"\"\n      }\n    },\n    {\n      \"column\": \"occupation\",\n      \"properties\": {\n        \"dtype\": \"string\",\n        \"num_unique_values\": 1,\n        \"samples\": [\n          \" Craft-repair\"\n        ],\n        \"semantic_type\": \"\",\n        \"description\": \"\"\n      }\n    },\n    {\n      \"column\": \"relationship\",\n      \"properties\": {\n        \"dtype\": \"string\",\n        \"num_unique_values\": 1,\n        \"samples\": [\n          \" Not-in-family\"\n        ],\n        \"semantic_type\": \"\",\n        \"description\": \"\"\n      }\n    },\n    {\n      \"column\": \"race\",\n      \"properties\": {\n        \"dtype\": \"string\",\n        \"num_unique_values\": 1,\n        \"samples\": [\n          \" White\"\n        ],\n        \"semantic_type\": \"\",\n        \"description\": \"\"\n      }\n    },\n    {\n      \"column\": \"sex\",\n      \"properties\": {\n        \"dtype\": \"string\",\n        \"num_unique_values\": 1,\n        \"samples\": [\n          \" Male\"\n        ],\n        \"semantic_type\": \"\",\n        \"description\": \"\"\n      }\n    },\n    {\n      \"column\": \"capital-gain\",\n      \"properties\": {\n        \"dtype\": \"number\",\n        \"std\": null,\n        \"min\": 0,\n        \"max\": 0,\n        \"num_unique_values\": 1,\n        \"samples\": [\n          0\n        ],\n        \"semantic_type\": \"\",\n        \"description\": \"\"\n      }\n    },\n    {\n      \"column\": \"capital-loss\",\n      \"properties\": {\n        \"dtype\": \"number\",\n        \"std\": null,\n        \"min\": 0,\n        \"max\": 0,\n        \"num_unique_values\": 1,\n        \"samples\": [\n          0\n        ],\n        \"semantic_type\": \"\",\n        \"description\": \"\"\n      }\n    },\n    {\n      \"column\": \"hours-per-week\",\n      \"properties\": {\n        \"dtype\": \"number\",\n        \"std\": null,\n        \"min\": 40,\n        \"max\": 40,\n        \"num_unique_values\": 1,\n        \"samples\": [\n          40\n        ],\n        \"semantic_type\": \"\",\n        \"description\": \"\"\n      }\n    },\n    {\n      \"column\": \"native-country\",\n      \"properties\": {\n        \"dtype\": \"string\",\n        \"num_unique_values\": 1,\n        \"samples\": [\n          \" United-States\"\n        ],\n        \"semantic_type\": \"\",\n        \"description\": \"\"\n      }\n    },\n    {\n      \"column\": \"income\",\n      \"properties\": {\n        \"dtype\": \"int32\",\n        \"num_unique_values\": 1,\n        \"samples\": [\n          0\n        ],\n        \"semantic_type\": \"\",\n        \"description\": \"\"\n      }\n    }\n  ]\n}"
            }
          },
          "metadata": {},
          "execution_count": 53
        }
      ],
      "source": [
        "columns = [\n",
        "    'age', 'workclass', 'fnlwgt', 'education', 'education-num',\n",
        "    'marital-status', 'occupation', 'relationship', 'race', 'sex',\n",
        "    'capital-gain', 'capital-loss', 'hours-per-week', 'native-country',\n",
        "    'income'\n",
        "]\n",
        "\n",
        "df = pd.read_csv('adult.data', header=None, names=columns)\n",
        "df['income'] = (df['income'] != \" <=50K\").astype('int32')\n",
        "df.sample()"
      ]
    },
    {
      "cell_type": "markdown",
      "metadata": {
        "id": "JKb6BsQMP75f"
      },
      "source": [
        "Важной частью процесса построения модели является отбор признаков. На практике многие признаки оказывают малое влияние на модель (при этом их расчёт занимает время) или даже негативно сказываются на качестве модели. Попробуем несколько подходов отбора признаков, оценим, как они влияют на качество модели и сколько времени занимают.\n",
        "\n"
      ]
    },
    {
      "cell_type": "markdown",
      "metadata": {
        "id": "iGqys4ZpiXjr"
      },
      "source": [
        "Разделите выборку на обучающую и тестовую в соотношении 3:1. Зафиксируйте `random_state=777`, также используйте `stratify=True`."
      ]
    },
    {
      "cell_type": "code",
      "execution_count": 54,
      "metadata": {
        "id": "M2TT35c_iYc-"
      },
      "outputs": [],
      "source": [
        "X = df.drop(columns=['income'])\n",
        "y = df['income']\n",
        "X_train, X_test, y_train, y_test = train_test_split(X, y, test_size=0.25, random_state=777, stratify=y)"
      ]
    },
    {
      "cell_type": "markdown",
      "metadata": {
        "id": "-uAlw2X-P75f"
      },
      "source": [
        "Давайте закодируем все категориальные признаки с помощью One-hot Encoding. Сколько новых признаков мы получим?"
      ]
    },
    {
      "cell_type": "code",
      "execution_count": 55,
      "metadata": {
        "id": "ILg-JGugP75f"
      },
      "outputs": [],
      "source": [
        "categorical = df.select_dtypes(include='object')\n",
        "df.update(categorical.fillna(value='undefined'))\n",
        "numerical = df.select_dtypes(include='number')\n",
        "numerical = numerical.drop('income', axis=1)"
      ]
    },
    {
      "cell_type": "code",
      "source": [
        "categorical = list(categorical.columns)\n",
        "numerical = list(numerical.columns)"
      ],
      "metadata": {
        "id": "M1vskz4bfuYB"
      },
      "execution_count": 56,
      "outputs": []
    },
    {
      "cell_type": "code",
      "source": [
        "encoder = OneHotEncoder()\n",
        "print('Изначальное количество категориальных признаков:', X_train[categorical].shape[1])\n",
        "print('Количество категориальных после One-hot Encoding: ', encoder.fit_transform(X_train[categorical]).shape[1])"
      ],
      "metadata": {
        "colab": {
          "base_uri": "https://localhost:8080/"
        },
        "id": "jReQ34w3fFEa",
        "outputId": "bb683fc9-60ed-4e57-a398-93b1390103fb"
      },
      "execution_count": 57,
      "outputs": [
        {
          "output_type": "stream",
          "name": "stdout",
          "text": [
            "Изначальное количество категориальных признаков: 8\n",
            "Количество категориальных после One-hot Encoding:  102\n"
          ]
        }
      ]
    },
    {
      "cell_type": "markdown",
      "metadata": {
        "id": "kq-XZwf3P75g"
      },
      "source": [
        "В качестве основной модели будем использовать логистическую регрессию, а целевой метрики — `AUC-PR`. Обучите модель и посчитайте качество на тестовой выборке. Давайте запомним полученное значение."
      ]
    },
    {
      "cell_type": "code",
      "execution_count": 58,
      "metadata": {
        "id": "XMH5D_6OP75g",
        "colab": {
          "base_uri": "https://localhost:8080/"
        },
        "outputId": "a0c6067c-a9f8-4ef5-ca66-c6f32e9c8023"
      },
      "outputs": [
        {
          "output_type": "stream",
          "name": "stdout",
          "text": [
            "AUC-PR: 0.6854\n"
          ]
        }
      ],
      "source": [
        "ohe_transformer = ColumnTransformer([\n",
        "    ('ohe', OneHotEncoder(), categorical)\n",
        "])\n",
        "\n",
        "pipeline = Pipeline(steps=[\n",
        "    ('ohe', ohe_transformer),\n",
        "    ('lr_classifier', LogisticRegression(max_iter=500))\n",
        "])\n",
        "\n",
        "model = pipeline.fit(X_train, y_train)\n",
        "y_pred = model.predict_proba(X_test)[:, 1]\n",
        "\n",
        "auc_pr = average_precision_score(y_test, y_pred)\n",
        "print('AUC-PR: %.4f' % auc_pr)"
      ]
    },
    {
      "cell_type": "markdown",
      "metadata": {
        "id": "hrbIEFGUIQ6I"
      },
      "source": [
        "Допустим, мы хотим оставить только 40 лучших признаков.\n",
        "\n",
        "Заметим, что нельзя оценивать качество по тестовой выборке, иначе мы можем переобучиться, как, например, при настройке гиперпараметров. Разделите обучающую выборку на 2 части, одну из которых, используйте для валидации. Исходную тестовую выборку стоит использовать только для финальной оценки качества после процедуры фильтрации"
      ]
    },
    {
      "cell_type": "code",
      "execution_count": 67,
      "metadata": {
        "id": "DuHUvh0UwsxZ"
      },
      "outputs": [],
      "source": [
        "X_train_split, X_val, y_train_split, y_val = train_test_split(X_train, y_train, test_size=0.2, random_state=777, stratify=y_train)"
      ]
    },
    {
      "cell_type": "markdown",
      "metadata": {
        "id": "hymygH5YwveY"
      },
      "source": [
        "Попробуем сделать это следующими способами:"
      ]
    },
    {
      "cell_type": "markdown",
      "metadata": {
        "id": "QD7jIiDeP75g"
      },
      "source": [
        "#### __Задание 9. Встроенные методы (0.5 балла)__"
      ]
    },
    {
      "cell_type": "markdown",
      "metadata": {
        "id": "bf2T9xtUP75g"
      },
      "source": [
        "Начнём с отбора признаков с помощью модели. У разных алгоритмов есть разные встроенные способы оценки вклада признаков в предсказание. Как известно, у линейной модели за это отвечают веса, а значит, их модуль можно интерпретировать как важность. Такой метод отбора называются встроенным или embedded method, так как он заложен в особенности модели.\n",
        "\n",
        "Оставьте 40 признаков с наибольшим модулем соответствующего параметра линейной модели. Обучите модели заново и оцените её качество. Замерьте скорость такого отбора признаков.\n",
        "\n"
      ]
    },
    {
      "cell_type": "code",
      "execution_count": 60,
      "metadata": {
        "id": "wqOH9EunP75g",
        "colab": {
          "base_uri": "https://localhost:8080/"
        },
        "outputId": "207e50ad-7236-44e2-cee6-8f613bdcb256"
      },
      "outputs": [
        {
          "output_type": "stream",
          "name": "stdout",
          "text": [
            "Качество (AUC-PR) = 0.6524760170154487\n",
            "Время, потраченное на отбор признаков = 112.17 мс\n",
            "Время, потраченное на обучение (с учетом отбора) = 307.11 мс\n"
          ]
        }
      ],
      "source": [
        "from sklearn.feature_selection import SelectFromModel\n",
        "\n",
        "start_time = time()\n",
        "\n",
        "threshold = np.sort(np.abs(pipeline.named_steps['lr_classifier'].coef_[0]))[-40]\n",
        "selector = SelectFromModel(pipeline.named_steps['lr_classifier'], threshold=threshold).fit(ohe_transformer.transform(X_train_split), y_train_split)\n",
        "\n",
        "pipeline = Pipeline([\n",
        "    ('ohe', ohe_transformer),\n",
        "    ('selector', selector),\n",
        "    ('lr_classifier', LogisticRegression(max_iter=500))\n",
        "])\n",
        "\n",
        "time_feature_selection = time() - start_time\n",
        "\n",
        "model = pipeline.fit(X_train_split, y_train_split)\n",
        "y_pred = model.predict_proba(X_val)[:, 1]\n",
        "\n",
        "training_time = time() - start_time\n",
        "\n",
        "precision, recall, _ = precision_recall_curve(y_val, y_pred)\n",
        "print(f'Качество (AUC-PR) = {average_precision_score(y_val, y_pred)}')\n",
        "print(f'Время, потраченное на отбор признаков = {time_feature_selection * 1000:.2f} мс')\n",
        "print(f'Время, потраченное на обучение (с учетом отбора) = {training_time * 1000:.2f} мс')"
      ]
    },
    {
      "cell_type": "markdown",
      "metadata": {
        "id": "CCmtS99eVVrC"
      },
      "source": [
        "Изменилось ли качество? Как?"
      ]
    },
    {
      "cell_type": "markdown",
      "source": [
        "Качество совсем немного улучшилось, но время на отбор признаков довольно большое"
      ],
      "metadata": {
        "id": "1N--bOty2M4u"
      }
    },
    {
      "cell_type": "code",
      "source": [
        "ohe_transformer.named_transformers_['ohe'].get_feature_names_out(categorical)[selector.get_support()]"
      ],
      "metadata": {
        "colab": {
          "base_uri": "https://localhost:8080/"
        },
        "id": "Lmm6Ymd96L7t",
        "outputId": "823f70fa-fb7d-4e26-b84a-3446cd4f691b"
      },
      "execution_count": 61,
      "outputs": [
        {
          "output_type": "execute_result",
          "data": {
            "text/plain": [
              "array(['education_ 10th', 'education_ 11th', 'education_ 1st-4th',\n",
              "       'education_ 5th-6th', 'education_ 7th-8th', 'education_ 9th',\n",
              "       'education_ Bachelors', 'education_ Doctorate',\n",
              "       'education_ Masters', 'education_ Preschool',\n",
              "       'education_ Prof-school', 'marital-status_ Married-AF-spouse',\n",
              "       'marital-status_ Married-civ-spouse',\n",
              "       'marital-status_ Married-spouse-absent',\n",
              "       'marital-status_ Never-married', 'marital-status_ Separated',\n",
              "       'occupation_ Exec-managerial', 'occupation_ Farming-fishing',\n",
              "       'occupation_ Handlers-cleaners', 'occupation_ Other-service',\n",
              "       'occupation_ Priv-house-serv', 'occupation_ Protective-serv',\n",
              "       'occupation_ Tech-support', 'relationship_ Other-relative',\n",
              "       'relationship_ Own-child', 'relationship_ Wife', 'sex_ Female',\n",
              "       'native-country_ Cambodia', 'native-country_ Canada',\n",
              "       'native-country_ Columbia', 'native-country_ Cuba',\n",
              "       'native-country_ Germany', 'native-country_ Italy',\n",
              "       'native-country_ Japan', 'native-country_ Philippines',\n",
              "       'native-country_ Puerto-Rico'], dtype=object)"
            ]
          },
          "metadata": {},
          "execution_count": 61
        }
      ]
    },
    {
      "cell_type": "markdown",
      "metadata": {
        "id": "E5y5hVyYP75h"
      },
      "source": [
        "Подумаем, что мы не учли. Мы действовали в предположении, что признаки вносят вклад равномерно, и не учитывали их масштаб. Если мы умножим один из признаков в 100 раз, то без учёта регуляризации его вес уменьшится в эти же 100 раз. А мы на основе этого отбираем признаки! Давайте сначала отмасштабируем признаки одним из способов, а только потом будем удалять признаки.\n",
        "\n",
        "Помните, что не все способы одинаково хороши, особенно в условиях наличия выбросов\n",
        "\n",
        "Кстати, в таком случае надо пересчитать качество на всех признаках (сделайте это ниже). Если вы сделали нормирование признаков в самом начале, то попробуйте отобрать признаки на неотмасштабированных данных.\n",
        "\n",
        "Что получилось?"
      ]
    },
    {
      "cell_type": "code",
      "execution_count": 62,
      "metadata": {
        "id": "qXytEuBgP75h",
        "colab": {
          "base_uri": "https://localhost:8080/"
        },
        "outputId": "fb9eedbe-f2bf-4e49-ad72-a5c99fcf07c3"
      },
      "outputs": [
        {
          "output_type": "stream",
          "name": "stdout",
          "text": [
            "Качество (AUC-PR) = 0.7734016389020811\n",
            "Время, потраченное на обучение (с учетом отбора) = 204.74 мс\n"
          ]
        }
      ],
      "source": [
        "from sklearn.preprocessing import StandardScaler, OneHotEncoder\n",
        "\n",
        "start_time = time()\n",
        "ohe_scaling_transformer = ColumnTransformer([\n",
        "    ('ohe', OneHotEncoder(), categorical),\n",
        "    ('scaling', StandardScaler(), numerical)\n",
        "])\n",
        "\n",
        "pipeline = Pipeline(steps=[\n",
        "    ('ohe_and_scaling', ohe_scaling_transformer),\n",
        "    ('lr_classifier', LogisticRegression(max_iter=500))\n",
        "])\n",
        "model = pipeline.fit(X_train_split, y_train_split)\n",
        "y_pred = model.predict_proba(X_val)[:, 1]\n",
        "training_time = time() - start_time\n",
        "print(f'Качество (AUC-PR) = {average_precision_score(y_val, y_pred)}')\n",
        "print(f'Время, потраченное на обучение (с учетом отбора) = {training_time * 1000:.2f} мс')"
      ]
    },
    {
      "cell_type": "markdown",
      "source": [
        "Качество сильно улучишилось, круто\n",
        "\n",
        "Время тоже уменьшилось"
      ],
      "metadata": {
        "id": "yvhG9KCg332B"
      }
    },
    {
      "cell_type": "markdown",
      "metadata": {
        "id": "OLZJRpxjP75h"
      },
      "source": [
        "Вопрос на засыпку: one-hot кодирование возвращает нам единичные признаки-индикаторы. Попробуйте также отскалировать их, как и обычные числовые, и снова выбрать 40 главных по вкладу признаков. Изменился ли их список? Изменится ли качество?"
      ]
    },
    {
      "cell_type": "code",
      "execution_count": 63,
      "metadata": {
        "id": "VpGE8ll5P75h",
        "colab": {
          "base_uri": "https://localhost:8080/"
        },
        "outputId": "ea4a832b-e38f-4ea6-9d6c-8c813f0c5277"
      },
      "outputs": [
        {
          "output_type": "stream",
          "name": "stdout",
          "text": [
            "Качество (AUC-PR) = 0.7686473065974596\n"
          ]
        }
      ],
      "source": [
        "transformer = ColumnTransformer(\n",
        "    transformers=[\n",
        "        ('categorical', Pipeline([\n",
        "            ('ohe', OneHotEncoder(sparse_output=False)),\n",
        "            ('scaler', StandardScaler())\n",
        "        ]), categorical),\n",
        "        ('numerical', StandardScaler(), numerical)\n",
        "    ])\n",
        "\n",
        "X_train_scaled = pd.DataFrame(transformer.fit_transform(X_train_split), columns=list(transformer.get_feature_names_out()))\n",
        "X_val_scaled = pd.DataFrame(transformer.transform(X_val), columns=list(transformer.get_feature_names_out()))\n",
        "\n",
        "model = LogisticRegression(max_iter=500)\n",
        "model.fit(X_train_scaled, y_train_split)\n",
        "\n",
        "threshold = np.sort(np.abs(model.coef_[0]))[-40]\n",
        "selector = SelectFromModel(model, threshold=threshold).fit(X_train_scaled, y_train_split)\n",
        "\n",
        "pipeline = Pipeline([\n",
        "    ('selector', selector),\n",
        "    ('lr_classifier', LogisticRegression(max_iter=500))\n",
        "])\n",
        "\n",
        "model = pipeline.fit(X_train_scaled, y_train_split)\n",
        "y_pred = model.predict_proba(X_val_scaled)[:, 1]\n",
        "precision, recall, _ = precision_recall_curve(y_val, y_pred)\n",
        "print(f'Качество (AUC-PR) = {average_precision_score(y_val, y_pred)}')"
      ]
    },
    {
      "cell_type": "markdown",
      "source": [
        "Качесто ухудшилось по сравнению с предыдущим шагом => это было лишним"
      ],
      "metadata": {
        "id": "2dw2pa8I49gB"
      }
    },
    {
      "cell_type": "code",
      "source": [
        "np.array(list(transformer.get_feature_names_out()))[selector.get_support()]"
      ],
      "metadata": {
        "colab": {
          "base_uri": "https://localhost:8080/"
        },
        "id": "d7fmn-Lo5pF0",
        "outputId": "99ab0eaa-b27c-432d-f569-aa88ecf29c96"
      },
      "execution_count": 64,
      "outputs": [
        {
          "output_type": "execute_result",
          "data": {
            "text/plain": [
              "array(['categorical__workclass_ Federal-gov',\n",
              "       'categorical__workclass_ Self-emp-not-inc',\n",
              "       'categorical__workclass_ Without-pay',\n",
              "       'categorical__education_ 11th', 'categorical__education_ 7th-8th',\n",
              "       'categorical__education_ Bachelors',\n",
              "       'categorical__education_ Doctorate',\n",
              "       'categorical__education_ HS-grad',\n",
              "       'categorical__education_ Masters',\n",
              "       'categorical__education_ Preschool',\n",
              "       'categorical__education_ Prof-school',\n",
              "       'categorical__marital-status_ Divorced',\n",
              "       'categorical__marital-status_ Married-civ-spouse',\n",
              "       'categorical__marital-status_ Married-spouse-absent',\n",
              "       'categorical__marital-status_ Never-married',\n",
              "       'categorical__marital-status_ Separated',\n",
              "       'categorical__marital-status_ Widowed',\n",
              "       'categorical__occupation_ Exec-managerial',\n",
              "       'categorical__occupation_ Farming-fishing',\n",
              "       'categorical__occupation_ Handlers-cleaners',\n",
              "       'categorical__occupation_ Other-service',\n",
              "       'categorical__occupation_ Priv-house-serv',\n",
              "       'categorical__occupation_ Prof-specialty',\n",
              "       'categorical__occupation_ Protective-serv',\n",
              "       'categorical__occupation_ Tech-support',\n",
              "       'categorical__relationship_ Husband',\n",
              "       'categorical__relationship_ Not-in-family',\n",
              "       'categorical__relationship_ Other-relative',\n",
              "       'categorical__relationship_ Own-child',\n",
              "       'categorical__relationship_ Unmarried',\n",
              "       'categorical__relationship_ Wife', 'categorical__sex_ Female',\n",
              "       'categorical__sex_ Male', 'categorical__native-country_ Columbia',\n",
              "       'categorical__native-country_ Outlying-US(Guam-USVI-etc)',\n",
              "       'numerical__age', 'numerical__education-num',\n",
              "       'numerical__capital-gain', 'numerical__capital-loss',\n",
              "       'numerical__hours-per-week'], dtype='<U55')"
            ]
          },
          "metadata": {},
          "execution_count": 64
        }
      ]
    },
    {
      "cell_type": "markdown",
      "source": [
        "Список выбранных признаков изменился"
      ],
      "metadata": {
        "id": "zyVehhhs6u9w"
      }
    },
    {
      "cell_type": "markdown",
      "metadata": {
        "id": "3nK78Ag2P75i"
      },
      "source": [
        "#### __Задание 10. Методы фильтрации (0.5 балла)__\n",
        "\n",
        "\n",
        "Давайте отбирать признаки умнее, а именно через подсчёт некоторой функции для каждого признака. На основании значений этой функции будем оставлять наиболее важные признаки. Методы этого семейства называют фильтрующими или  filter methods.\n",
        "\n",
        "Одна из самых простых функция - корреляция между признаком и целевой переменной. Подумайте, какая взаимосвязь между корреляцией и предсказательной способностью модели, и как бы вы использовали информацию о корреляции для отбора признаков\n",
        "\n",
        "**Ответ:** Корреляция между признаком и целевой переменной указывает на линейную зависимость, которая может быть полезной для предсказания целевой переменной. Признаки с высокой корреляцией могут содержать больше информации для классификации, так как их значения более сильно влияют на предсказания\n",
        "\n",
        "Посчитайте корреляцию каждого признака с таргетом и отфильтруйте 40 признаков исходя из того, что вы описали, после чего замерьте качество и время отбора\n",
        "\n"
      ]
    },
    {
      "cell_type": "code",
      "execution_count": 79,
      "metadata": {
        "id": "0snv1D-hP75i",
        "colab": {
          "base_uri": "https://localhost:8080/"
        },
        "outputId": "71fd5ba5-5f40-4a59-afac-da9546852c47"
      },
      "outputs": [
        {
          "output_type": "stream",
          "name": "stdout",
          "text": [
            "Качество (AUC-PR) = 0.23938746963779817\n",
            "Время, потраченное на обучение (с учетом отбора признаков) = 107.06 мс\n"
          ]
        }
      ],
      "source": [
        "X_train_df = pd.DataFrame(X_train_scaled)\n",
        "\n",
        "correlation = X_train_df.corrwith(pd.Series(y_train)).abs()\n",
        "\n",
        "top_40_features = correlation.sort_values(ascending=False).head(40).index\n",
        "X_train_selected = X_train_df[top_40_features]\n",
        "\n",
        "y_train_selected = y_train.iloc[X_train_selected.index]\n",
        "\n",
        "\n",
        "X_train_split_selected, X_val_selected, y_train_split_selected, y_val_selected = train_test_split(\n",
        "    X_train_selected, y_train_selected, test_size=0.2, random_state=777, stratify=y_train_selected\n",
        ")\n",
        "\n",
        "scaler = StandardScaler()\n",
        "\n",
        "pipeline = Pipeline([\n",
        "    ('scaler', scaler),\n",
        "    ('lr_classifier', LogisticRegression(max_iter=500))\n",
        "])\n",
        "\n",
        "start_time = time()\n",
        "model = pipeline.fit(X_train_split_selected, y_train_split_selected)\n",
        "y_pred = model.predict_proba(X_val_selected)[:, 1]\n",
        "training_time = time() - start_time\n",
        "\n",
        "print(f'Качество (AUC-PR) = {average_precision_score(y_val_selected, y_pred)}')\n",
        "print(f'Время, потраченное на обучение (с учетом отбора признаков) = {training_time * 1000:.2f} мс')"
      ]
    },
    {
      "cell_type": "markdown",
      "source": [
        "Ужасное качество"
      ],
      "metadata": {
        "id": "rcJr5mH5Nff0"
      }
    },
    {
      "cell_type": "markdown",
      "metadata": {
        "id": "2E6yxKB2KBav"
      },
      "source": [
        "В качестве еще одной функция можно считать t-статистику:\n",
        "\n",
        "$$t(j) = \\frac{|\\mu_+ - \\mu_-|}{\\sqrt{\\frac{n_+ \\sigma^2_+ + n_- \\sigma^2_-}{n_+ + n_-}}},$$\n",
        "\n",
        "где $\\mu$, $\\sigma$, $n$ соответственно среднее, стандартное отклонение и количество объектов каждого из классов.\n",
        "\n",
        "Оставьте 40 признаков с наибольшим значением $t$, замерьте качество и скорость отбора признаков."
      ]
    },
    {
      "cell_type": "code",
      "source": [
        "def t_stat(X, y):\n",
        "    mu_pos = np.mean(X[y == 1], axis=0)\n",
        "    mu_neg =  np.mean(X[y == 0], axis=0)\n",
        "    sigma_pos = np.var(X[y == 0], axis=0)\n",
        "    sigma_neg = np.var(X[y == 0], axis=0)\n",
        "    n_pos = X[y == 1].shape[0]\n",
        "    n_neg = X[y == 0].shape[0]\n",
        "    return np.abs(mu_pos - mu_neg) / np.sqrt((n_pos * sigma_pos + n_neg * sigma_neg) / (n_pos + n_neg))"
      ],
      "metadata": {
        "id": "T-X31MVWJDES"
      },
      "execution_count": 143,
      "outputs": []
    },
    {
      "cell_type": "code",
      "execution_count": 165,
      "metadata": {
        "id": "a-IuzDptKE5J",
        "colab": {
          "base_uri": "https://localhost:8080/"
        },
        "outputId": "b279f984-d249-44b1-b2b1-258d63e54549"
      },
      "outputs": [
        {
          "output_type": "stream",
          "name": "stdout",
          "text": [
            "Качество (AUC-PR) = 0.7692858459600643\n",
            "Время, потраченное на отбор признаков = 183.11 мс\n"
          ]
        }
      ],
      "source": [
        "start = time()\n",
        "X_train_transformed = ohe_scaling_transformer.fit_transform(X_train_split, y_train_split)\n",
        "X_val_transformed = ohe_scaling_transformer.transform(X_val)\n",
        "t_statistics = np.array(t_stat(X_train_transformed.todense(), y_train_split)).flatten()\n",
        "threshold = np.sort(t_statistics)[-40]\n",
        "X_train_transformed = X_train_transformed[:, t_statistics >= threshold]\n",
        "X_val_transformed = X_val_transformed[:, t_statistics >= threshold]\n",
        "training_time = time() - start\n",
        "\n",
        "model = LogisticRegression(max_iter=500).fit(X_train_transformed, y_train_split)\n",
        "y_pred = model.predict_proba(X_val_transformed)[:,1]\n",
        "\n",
        "print(f'Качество (AUC-PR) = {average_precision_score(y_val, y_pred)}')\n",
        "print(f'Время, потраченное на отбор признаков = {training_time * 1000:.2f} мс')"
      ]
    },
    {
      "cell_type": "markdown",
      "source": [
        "Качество чуть пониже по сравнению с корреляцией, время отбора увеличилось"
      ],
      "metadata": {
        "id": "ojgElV-9NjPf"
      }
    },
    {
      "cell_type": "markdown",
      "metadata": {
        "id": "zO63RNCLP75i"
      },
      "source": [
        "#### __Задание 11. Методы-обёртки__ (1 балл)\n",
        "\n",
        "Третий из рассматриваемых нами методов работает следующим образом: мы исключаем признаки по очереди и смотрим, как это влияет на качество. Удаляем признаки таким жадным способом, пока не окажется выполненым некоторое условие (количество признаков или ухудшение качества). Более конкретно, алгоритм выглядит так:\n",
        "\n",
        "- $k$ - число признаков, которых мы хотим оставить\n",
        "- $m$ - число признаков, которых мы выбрасываем на каждой итерации, оно же длина шага\n",
        "\n",
        "Шаг $i$:\n",
        "- $F_i$ - набор признаков (равный всему множеству признаков на i=0)\n",
        "- $M_i$ - их число, в общем случае $\\max(k, M_{i-1} - m)$\n",
        "1. Если признаков осталось ровно $k$, либо метрика стала уменьшаться более, чем на $\\epsilon$ — останавливаемся (не наш случай, но так тоже можно)\n",
        "2. Обучаем модель $a_i$ на наборе $F_i$, после чего оцениваем важность признаков (любым из способов выше или какими-нибудь ещё)\n",
        "3. Отбираем $\\min(M_i - k, m)$ наиболее бесполезных, согласно пункту 2, признаков (берем $m$, если можем, иначе оставляем вплоть до k), удаляем, переходим к следующему шагу\n",
        "\n",
        "Снова оставьте только 40 признаков и оцените качество на тестовой выборке. Подберите длину шага из каких-то соображений (каких, кстати?) и замерьте время работы метода"
      ]
    },
    {
      "cell_type": "code",
      "source": [
        "encoder = OneHotEncoder(sparse_output=False)\n",
        "scaler = StandardScaler()\n",
        "X_train_split_transformed = pd.DataFrame(scaler.fit_transform(encoder.fit_transform(X_train_split[categorical])), columns=encoder.get_feature_names_out(input_features=categorical))\n",
        "X_test_transformed = pd.DataFrame(scaler.transform(encoder.transform(X_test[categorical])), columns=encoder.get_feature_names_out(input_features=categorical))\n",
        "X_val_transformed = pd.DataFrame(scaler.transform(encoder.transform(X_val[categorical])), columns=encoder.get_feature_names_out(input_features=categorical))\n",
        "X_train_split_transformed, X_val_transformed = X_train_split_transformed.reset_index().drop(columns='index'), X_val_transformed.reset_index().drop(columns='index')"
      ],
      "metadata": {
        "id": "tZdK45ubShpT"
      },
      "execution_count": 80,
      "outputs": []
    },
    {
      "cell_type": "code",
      "execution_count": 82,
      "metadata": {
        "id": "ISGdzDQQP75j",
        "colab": {
          "base_uri": "https://localhost:8080/"
        },
        "outputId": "61bd9e75-34a7-4a1a-80b3-5cb4ac6a1028"
      },
      "outputs": [
        {
          "output_type": "stream",
          "name": "stdout",
          "text": [
            "\n"
          ]
        }
      ],
      "source": [
        "X_train_copy, X_val_copy = X_train_split_transformed.copy(), X_val_transformed.copy()\n",
        "\n",
        "start = time()\n",
        "for i in range(X_train_split_transformed.shape[1] - 40):\n",
        "    best_auc_pr = 0\n",
        "    dropped_feature = None\n",
        "    for feature in X_train_copy.columns:\n",
        "        model = LogisticRegression(max_iter=500).fit(X_train_copy.drop(columns=feature), y_train_split)\n",
        "        y_pred = model.predict_proba(X_val_copy.drop(columns=feature))[:, 1]\n",
        "        auc_pr = average_precision_score(y_val, y_pred)\n",
        "        if auc_pr > best_auc_pr:\n",
        "            best_auc_pr = auc_pr\n",
        "            dropped_feature = feature\n",
        "    if dropped_feature is not None:\n",
        "        X_train_copy = X_train_copy.drop(columns=dropped_feature)\n",
        "        X_val_copy = X_val_copy.drop(columns=dropped_feature)\n",
        "\n",
        "model = LogisticRegression(max_iter=500).fit(X_train_copy, y_train_split)\n",
        "y_pred = model.predict_proba(X_test[X_train_copy.columns])[:, 1]\n",
        "training_time = time() - start\n",
        "print(f'Качество (AUC-PR) = {average_precision_score(y_test, y_pred)}')\n",
        "print(f'Время, потраченное на отбор признаков = {training_time * 1000:.2f} мс')"
      ]
    },
    {
      "cell_type": "markdown",
      "source": [
        "Качество хорошее, но считалось очень долго"
      ],
      "metadata": {
        "id": "b1neB4AuioQc"
      }
    },
    {
      "cell_type": "markdown",
      "source": [
        "Я взяла длину шага 1, поскольку она позволяет более точно и постепенно отсекать менее важные признаки, минимизируя риск потери полезной информации, в то время как большие шаги могут привести к более агрессивному удалению признаков и ухудшению качества модели"
      ],
      "metadata": {
        "id": "O5DYEiRBXvZf"
      }
    },
    {
      "cell_type": "markdown",
      "metadata": {
        "id": "1AEL4z61P75j"
      },
      "source": [
        "Стоит отметить, что с помощью такого метода можно пойти и в обратную сторону. Попробуйте _добавлять_ самые полезные признаки в выборку до тех пор, пока не наберется 40 штук. Найдется ли порог, при котором добавление следующих признаков будет только ухудшать качество модели?"
      ]
    },
    {
      "cell_type": "code",
      "execution_count": null,
      "metadata": {
        "id": "ZzF8TzVFP75j"
      },
      "outputs": [],
      "source": [
        "X_train_copy_adding, X_val_copy_adding = X_train_split_transformed.copy(), X_val_transformed.copy()\n",
        "added_features_count = 0\n",
        "while added_features_count < 40:\n",
        "    best_auc_pr = 0\n",
        "    added_feature = None\n",
        "    for feature in X_train_transformed.columns:\n",
        "        if feature not in X_train_copy_adding.columns:\n",
        "            model = LogisticRegression(max_iter=500).fit(X_train_copy_adding.assign(**{feature: X_train_transformed[feature]}), y_train)\n",
        "            y_pred = model.predict_proba(X_val_copy_adding.assign(**{feature: X_val_transformed[feature]}))[:, 1]\n",
        "            auc_pr = average_precision_score(y_val, y_pred)\n",
        "            if auc_pr > best_auc_pr:\n",
        "                best_auc_pr = auc_pr\n",
        "                added_feature = feature\n",
        "    if added_feature is not None:\n",
        "        X_train_copy = X_train_copy_adding.assign(**{added_feature: X_train_transformed[added_feature]})\n",
        "        X_val_copy = X_val_copy_adding.assign(**{added_feature: X_val_transformed[added_feature]})\n",
        "        added_features_count += 1\n",
        "\n",
        "model = LogisticRegression(max_iter=500).fit(X_train_copy_adding, y_train)\n",
        "y_pred = model.predict_proba(X_test_copy_adding[X_train_copy_adding.columns])[:, 1]\n",
        "precision, recall, _ = precision_recall_curve(y_test, y_pred)\n",
        "print(f'Качество (AUC-PR) = {average_precision_score(y_test, y_pred)}')"
      ]
    },
    {
      "cell_type": "markdown",
      "source": [
        "Код выполнялся больше часа - думаю, нецелесообразно было ждать еще. И так понятно, что в сравнении с другими методами это слишком много => добавлять признаки по одному - не лучшая идея"
      ],
      "metadata": {
        "id": "TxWElWUFYOjq"
      }
    },
    {
      "cell_type": "markdown",
      "metadata": {
        "id": "wj6a-BERP75j"
      },
      "source": [
        "Давайте подведём итоги по отбору признаков. Назовите преимущества и недостатки каждого из методов. Какой метод привёл к наилучшему качеству?\n",
        "\n",
        "**Ответ:**\n",
        "\n",
        "\n",
        "*   Встроенные методы\n",
        "\n",
        "    Довольно простой метод, который не учитывает много возможных проблем. Но качество в целом приемлемое, время тоже\n",
        "*   Методы фильтрации\n",
        "\n",
        "    На мой взгляд, метод с корреляцией лучший - быстро и четко (+ лучшее качество). С t-статистикой тоже неплох\n",
        "\n",
        "*   Методы обертки\n",
        "\n",
        "    Очень долго\n"
      ]
    },
    {
      "cell_type": "markdown",
      "metadata": {
        "id": "zrR06pp7P75k"
      },
      "source": [
        "# Часть 4. Оценка экономического эффекта модели (2 балла)\n",
        "\n"
      ]
    },
    {
      "cell_type": "markdown",
      "metadata": {
        "id": "CmgOdf7GT3uh"
      },
      "source": [
        "В данной части мы займемся тем, что от вас скорее всего потребуется на реальной работе (помимо перекладки `json`, разумеется). А именно:\n",
        "- мы соберем несколько специализированных метрик качества,\n",
        "- попытаемся настроить модель на максимизацию _прибыли_,\n",
        "- оценим, сколько вообще получится заработать на этом.\n",
        "\n",
        "Разумеется, здесь будет сделано множество упрощающих жизнь допущений, но обо всем по порядку. Если вы всё прослушали на экономике, то напомним, что выручка — это сколько денег нам принесли клиенты, а прибыль — выручка за вычетом расходов на зарплату и прочее."
      ]
    },
    {
      "cell_type": "markdown",
      "metadata": {
        "id": "NQkW5Xh6yip2"
      },
      "source": [
        "\n",
        "#### __Задание 12. Прогноз по доходам и расходам__ (1 балл)\n",
        "\n",
        "В этой части мы будем работать с данными [UCI Bank Marketing Dataset](https://archive.ics.uci.edu/ml/datasets/bank+marketing). Этот датасет содержит информацию о банковском телефонном маркетинге.\n",
        "\n",
        "__Объектом__ здесь является телефонный звонок потенциальному клиенту с предложением некоторой услуги (утверждается, что это краткосрочный депозит). В качестве признакового описания используются характеристики клиента (образование, брак и т.д.), данные о звонке и различные экономические индикаторы - более подробная информация представлена в файле `bank-additional-names.txt`.\n",
        "__Целевая переменная__ - ответ клиента (согласился ли он открыть депозит?)"
      ]
    },
    {
      "cell_type": "code",
      "execution_count": 85,
      "metadata": {
        "id": "e9WBqQd1aAjp"
      },
      "outputs": [],
      "source": [
        "!wget https://archive.ics.uci.edu/ml/machine-learning-databases/00222/bank-additional.zip\n",
        "!unzip bank-additional.zip\n",
        "df = pd.read_csv('bank-additional/bank-additional-full.csv', sep=';')"
      ]
    },
    {
      "cell_type": "code",
      "execution_count": 86,
      "metadata": {
        "id": "Gbw5k7lMaYT1",
        "colab": {
          "base_uri": "https://localhost:8080/",
          "height": 226
        },
        "outputId": "09c533e6-51b1-446c-face-e71742123f25"
      },
      "outputs": [
        {
          "output_type": "execute_result",
          "data": {
            "text/plain": [
              "   age        job  marital    education  default housing loan    contact  \\\n",
              "0   56  housemaid  married     basic.4y       no      no   no  telephone   \n",
              "1   57   services  married  high.school  unknown      no   no  telephone   \n",
              "2   37   services  married  high.school       no     yes   no  telephone   \n",
              "3   40     admin.  married     basic.6y       no      no   no  telephone   \n",
              "4   56   services  married  high.school       no      no  yes  telephone   \n",
              "\n",
              "  month day_of_week  duration  campaign  pdays  previous     poutcome  \\\n",
              "0   may         mon       261         1    999         0  nonexistent   \n",
              "1   may         mon       149         1    999         0  nonexistent   \n",
              "2   may         mon       226         1    999         0  nonexistent   \n",
              "3   may         mon       151         1    999         0  nonexistent   \n",
              "4   may         mon       307         1    999         0  nonexistent   \n",
              "\n",
              "   emp.var.rate  cons.price.idx  cons.conf.idx  euribor3m  nr.employed   y  \n",
              "0           1.1          93.994          -36.4      4.857       5191.0  no  \n",
              "1           1.1          93.994          -36.4      4.857       5191.0  no  \n",
              "2           1.1          93.994          -36.4      4.857       5191.0  no  \n",
              "3           1.1          93.994          -36.4      4.857       5191.0  no  \n",
              "4           1.1          93.994          -36.4      4.857       5191.0  no  "
            ],
            "text/html": [
              "\n",
              "  <div id=\"df-07fc0fe5-1209-4acd-8600-443d06258537\" class=\"colab-df-container\">\n",
              "    <div>\n",
              "<style scoped>\n",
              "    .dataframe tbody tr th:only-of-type {\n",
              "        vertical-align: middle;\n",
              "    }\n",
              "\n",
              "    .dataframe tbody tr th {\n",
              "        vertical-align: top;\n",
              "    }\n",
              "\n",
              "    .dataframe thead th {\n",
              "        text-align: right;\n",
              "    }\n",
              "</style>\n",
              "<table border=\"1\" class=\"dataframe\">\n",
              "  <thead>\n",
              "    <tr style=\"text-align: right;\">\n",
              "      <th></th>\n",
              "      <th>age</th>\n",
              "      <th>job</th>\n",
              "      <th>marital</th>\n",
              "      <th>education</th>\n",
              "      <th>default</th>\n",
              "      <th>housing</th>\n",
              "      <th>loan</th>\n",
              "      <th>contact</th>\n",
              "      <th>month</th>\n",
              "      <th>day_of_week</th>\n",
              "      <th>duration</th>\n",
              "      <th>campaign</th>\n",
              "      <th>pdays</th>\n",
              "      <th>previous</th>\n",
              "      <th>poutcome</th>\n",
              "      <th>emp.var.rate</th>\n",
              "      <th>cons.price.idx</th>\n",
              "      <th>cons.conf.idx</th>\n",
              "      <th>euribor3m</th>\n",
              "      <th>nr.employed</th>\n",
              "      <th>y</th>\n",
              "    </tr>\n",
              "  </thead>\n",
              "  <tbody>\n",
              "    <tr>\n",
              "      <th>0</th>\n",
              "      <td>56</td>\n",
              "      <td>housemaid</td>\n",
              "      <td>married</td>\n",
              "      <td>basic.4y</td>\n",
              "      <td>no</td>\n",
              "      <td>no</td>\n",
              "      <td>no</td>\n",
              "      <td>telephone</td>\n",
              "      <td>may</td>\n",
              "      <td>mon</td>\n",
              "      <td>261</td>\n",
              "      <td>1</td>\n",
              "      <td>999</td>\n",
              "      <td>0</td>\n",
              "      <td>nonexistent</td>\n",
              "      <td>1.1</td>\n",
              "      <td>93.994</td>\n",
              "      <td>-36.4</td>\n",
              "      <td>4.857</td>\n",
              "      <td>5191.0</td>\n",
              "      <td>no</td>\n",
              "    </tr>\n",
              "    <tr>\n",
              "      <th>1</th>\n",
              "      <td>57</td>\n",
              "      <td>services</td>\n",
              "      <td>married</td>\n",
              "      <td>high.school</td>\n",
              "      <td>unknown</td>\n",
              "      <td>no</td>\n",
              "      <td>no</td>\n",
              "      <td>telephone</td>\n",
              "      <td>may</td>\n",
              "      <td>mon</td>\n",
              "      <td>149</td>\n",
              "      <td>1</td>\n",
              "      <td>999</td>\n",
              "      <td>0</td>\n",
              "      <td>nonexistent</td>\n",
              "      <td>1.1</td>\n",
              "      <td>93.994</td>\n",
              "      <td>-36.4</td>\n",
              "      <td>4.857</td>\n",
              "      <td>5191.0</td>\n",
              "      <td>no</td>\n",
              "    </tr>\n",
              "    <tr>\n",
              "      <th>2</th>\n",
              "      <td>37</td>\n",
              "      <td>services</td>\n",
              "      <td>married</td>\n",
              "      <td>high.school</td>\n",
              "      <td>no</td>\n",
              "      <td>yes</td>\n",
              "      <td>no</td>\n",
              "      <td>telephone</td>\n",
              "      <td>may</td>\n",
              "      <td>mon</td>\n",
              "      <td>226</td>\n",
              "      <td>1</td>\n",
              "      <td>999</td>\n",
              "      <td>0</td>\n",
              "      <td>nonexistent</td>\n",
              "      <td>1.1</td>\n",
              "      <td>93.994</td>\n",
              "      <td>-36.4</td>\n",
              "      <td>4.857</td>\n",
              "      <td>5191.0</td>\n",
              "      <td>no</td>\n",
              "    </tr>\n",
              "    <tr>\n",
              "      <th>3</th>\n",
              "      <td>40</td>\n",
              "      <td>admin.</td>\n",
              "      <td>married</td>\n",
              "      <td>basic.6y</td>\n",
              "      <td>no</td>\n",
              "      <td>no</td>\n",
              "      <td>no</td>\n",
              "      <td>telephone</td>\n",
              "      <td>may</td>\n",
              "      <td>mon</td>\n",
              "      <td>151</td>\n",
              "      <td>1</td>\n",
              "      <td>999</td>\n",
              "      <td>0</td>\n",
              "      <td>nonexistent</td>\n",
              "      <td>1.1</td>\n",
              "      <td>93.994</td>\n",
              "      <td>-36.4</td>\n",
              "      <td>4.857</td>\n",
              "      <td>5191.0</td>\n",
              "      <td>no</td>\n",
              "    </tr>\n",
              "    <tr>\n",
              "      <th>4</th>\n",
              "      <td>56</td>\n",
              "      <td>services</td>\n",
              "      <td>married</td>\n",
              "      <td>high.school</td>\n",
              "      <td>no</td>\n",
              "      <td>no</td>\n",
              "      <td>yes</td>\n",
              "      <td>telephone</td>\n",
              "      <td>may</td>\n",
              "      <td>mon</td>\n",
              "      <td>307</td>\n",
              "      <td>1</td>\n",
              "      <td>999</td>\n",
              "      <td>0</td>\n",
              "      <td>nonexistent</td>\n",
              "      <td>1.1</td>\n",
              "      <td>93.994</td>\n",
              "      <td>-36.4</td>\n",
              "      <td>4.857</td>\n",
              "      <td>5191.0</td>\n",
              "      <td>no</td>\n",
              "    </tr>\n",
              "  </tbody>\n",
              "</table>\n",
              "</div>\n",
              "    <div class=\"colab-df-buttons\">\n",
              "\n",
              "  <div class=\"colab-df-container\">\n",
              "    <button class=\"colab-df-convert\" onclick=\"convertToInteractive('df-07fc0fe5-1209-4acd-8600-443d06258537')\"\n",
              "            title=\"Convert this dataframe to an interactive table.\"\n",
              "            style=\"display:none;\">\n",
              "\n",
              "  <svg xmlns=\"http://www.w3.org/2000/svg\" height=\"24px\" viewBox=\"0 -960 960 960\">\n",
              "    <path d=\"M120-120v-720h720v720H120Zm60-500h600v-160H180v160Zm220 220h160v-160H400v160Zm0 220h160v-160H400v160ZM180-400h160v-160H180v160Zm440 0h160v-160H620v160ZM180-180h160v-160H180v160Zm440 0h160v-160H620v160Z\"/>\n",
              "  </svg>\n",
              "    </button>\n",
              "\n",
              "  <style>\n",
              "    .colab-df-container {\n",
              "      display:flex;\n",
              "      gap: 12px;\n",
              "    }\n",
              "\n",
              "    .colab-df-convert {\n",
              "      background-color: #E8F0FE;\n",
              "      border: none;\n",
              "      border-radius: 50%;\n",
              "      cursor: pointer;\n",
              "      display: none;\n",
              "      fill: #1967D2;\n",
              "      height: 32px;\n",
              "      padding: 0 0 0 0;\n",
              "      width: 32px;\n",
              "    }\n",
              "\n",
              "    .colab-df-convert:hover {\n",
              "      background-color: #E2EBFA;\n",
              "      box-shadow: 0px 1px 2px rgba(60, 64, 67, 0.3), 0px 1px 3px 1px rgba(60, 64, 67, 0.15);\n",
              "      fill: #174EA6;\n",
              "    }\n",
              "\n",
              "    .colab-df-buttons div {\n",
              "      margin-bottom: 4px;\n",
              "    }\n",
              "\n",
              "    [theme=dark] .colab-df-convert {\n",
              "      background-color: #3B4455;\n",
              "      fill: #D2E3FC;\n",
              "    }\n",
              "\n",
              "    [theme=dark] .colab-df-convert:hover {\n",
              "      background-color: #434B5C;\n",
              "      box-shadow: 0px 1px 3px 1px rgba(0, 0, 0, 0.15);\n",
              "      filter: drop-shadow(0px 1px 2px rgba(0, 0, 0, 0.3));\n",
              "      fill: #FFFFFF;\n",
              "    }\n",
              "  </style>\n",
              "\n",
              "    <script>\n",
              "      const buttonEl =\n",
              "        document.querySelector('#df-07fc0fe5-1209-4acd-8600-443d06258537 button.colab-df-convert');\n",
              "      buttonEl.style.display =\n",
              "        google.colab.kernel.accessAllowed ? 'block' : 'none';\n",
              "\n",
              "      async function convertToInteractive(key) {\n",
              "        const element = document.querySelector('#df-07fc0fe5-1209-4acd-8600-443d06258537');\n",
              "        const dataTable =\n",
              "          await google.colab.kernel.invokeFunction('convertToInteractive',\n",
              "                                                    [key], {});\n",
              "        if (!dataTable) return;\n",
              "\n",
              "        const docLinkHtml = 'Like what you see? Visit the ' +\n",
              "          '<a target=\"_blank\" href=https://colab.research.google.com/notebooks/data_table.ipynb>data table notebook</a>'\n",
              "          + ' to learn more about interactive tables.';\n",
              "        element.innerHTML = '';\n",
              "        dataTable['output_type'] = 'display_data';\n",
              "        await google.colab.output.renderOutput(dataTable, element);\n",
              "        const docLink = document.createElement('div');\n",
              "        docLink.innerHTML = docLinkHtml;\n",
              "        element.appendChild(docLink);\n",
              "      }\n",
              "    </script>\n",
              "  </div>\n",
              "\n",
              "\n",
              "<div id=\"df-a1d11ccd-6b44-4e51-a2a7-afd8982a11f7\">\n",
              "  <button class=\"colab-df-quickchart\" onclick=\"quickchart('df-a1d11ccd-6b44-4e51-a2a7-afd8982a11f7')\"\n",
              "            title=\"Suggest charts\"\n",
              "            style=\"display:none;\">\n",
              "\n",
              "<svg xmlns=\"http://www.w3.org/2000/svg\" height=\"24px\"viewBox=\"0 0 24 24\"\n",
              "     width=\"24px\">\n",
              "    <g>\n",
              "        <path d=\"M19 3H5c-1.1 0-2 .9-2 2v14c0 1.1.9 2 2 2h14c1.1 0 2-.9 2-2V5c0-1.1-.9-2-2-2zM9 17H7v-7h2v7zm4 0h-2V7h2v10zm4 0h-2v-4h2v4z\"/>\n",
              "    </g>\n",
              "</svg>\n",
              "  </button>\n",
              "\n",
              "<style>\n",
              "  .colab-df-quickchart {\n",
              "      --bg-color: #E8F0FE;\n",
              "      --fill-color: #1967D2;\n",
              "      --hover-bg-color: #E2EBFA;\n",
              "      --hover-fill-color: #174EA6;\n",
              "      --disabled-fill-color: #AAA;\n",
              "      --disabled-bg-color: #DDD;\n",
              "  }\n",
              "\n",
              "  [theme=dark] .colab-df-quickchart {\n",
              "      --bg-color: #3B4455;\n",
              "      --fill-color: #D2E3FC;\n",
              "      --hover-bg-color: #434B5C;\n",
              "      --hover-fill-color: #FFFFFF;\n",
              "      --disabled-bg-color: #3B4455;\n",
              "      --disabled-fill-color: #666;\n",
              "  }\n",
              "\n",
              "  .colab-df-quickchart {\n",
              "    background-color: var(--bg-color);\n",
              "    border: none;\n",
              "    border-radius: 50%;\n",
              "    cursor: pointer;\n",
              "    display: none;\n",
              "    fill: var(--fill-color);\n",
              "    height: 32px;\n",
              "    padding: 0;\n",
              "    width: 32px;\n",
              "  }\n",
              "\n",
              "  .colab-df-quickchart:hover {\n",
              "    background-color: var(--hover-bg-color);\n",
              "    box-shadow: 0 1px 2px rgba(60, 64, 67, 0.3), 0 1px 3px 1px rgba(60, 64, 67, 0.15);\n",
              "    fill: var(--button-hover-fill-color);\n",
              "  }\n",
              "\n",
              "  .colab-df-quickchart-complete:disabled,\n",
              "  .colab-df-quickchart-complete:disabled:hover {\n",
              "    background-color: var(--disabled-bg-color);\n",
              "    fill: var(--disabled-fill-color);\n",
              "    box-shadow: none;\n",
              "  }\n",
              "\n",
              "  .colab-df-spinner {\n",
              "    border: 2px solid var(--fill-color);\n",
              "    border-color: transparent;\n",
              "    border-bottom-color: var(--fill-color);\n",
              "    animation:\n",
              "      spin 1s steps(1) infinite;\n",
              "  }\n",
              "\n",
              "  @keyframes spin {\n",
              "    0% {\n",
              "      border-color: transparent;\n",
              "      border-bottom-color: var(--fill-color);\n",
              "      border-left-color: var(--fill-color);\n",
              "    }\n",
              "    20% {\n",
              "      border-color: transparent;\n",
              "      border-left-color: var(--fill-color);\n",
              "      border-top-color: var(--fill-color);\n",
              "    }\n",
              "    30% {\n",
              "      border-color: transparent;\n",
              "      border-left-color: var(--fill-color);\n",
              "      border-top-color: var(--fill-color);\n",
              "      border-right-color: var(--fill-color);\n",
              "    }\n",
              "    40% {\n",
              "      border-color: transparent;\n",
              "      border-right-color: var(--fill-color);\n",
              "      border-top-color: var(--fill-color);\n",
              "    }\n",
              "    60% {\n",
              "      border-color: transparent;\n",
              "      border-right-color: var(--fill-color);\n",
              "    }\n",
              "    80% {\n",
              "      border-color: transparent;\n",
              "      border-right-color: var(--fill-color);\n",
              "      border-bottom-color: var(--fill-color);\n",
              "    }\n",
              "    90% {\n",
              "      border-color: transparent;\n",
              "      border-bottom-color: var(--fill-color);\n",
              "    }\n",
              "  }\n",
              "</style>\n",
              "\n",
              "  <script>\n",
              "    async function quickchart(key) {\n",
              "      const quickchartButtonEl =\n",
              "        document.querySelector('#' + key + ' button');\n",
              "      quickchartButtonEl.disabled = true;  // To prevent multiple clicks.\n",
              "      quickchartButtonEl.classList.add('colab-df-spinner');\n",
              "      try {\n",
              "        const charts = await google.colab.kernel.invokeFunction(\n",
              "            'suggestCharts', [key], {});\n",
              "      } catch (error) {\n",
              "        console.error('Error during call to suggestCharts:', error);\n",
              "      }\n",
              "      quickchartButtonEl.classList.remove('colab-df-spinner');\n",
              "      quickchartButtonEl.classList.add('colab-df-quickchart-complete');\n",
              "    }\n",
              "    (() => {\n",
              "      let quickchartButtonEl =\n",
              "        document.querySelector('#df-a1d11ccd-6b44-4e51-a2a7-afd8982a11f7 button');\n",
              "      quickchartButtonEl.style.display =\n",
              "        google.colab.kernel.accessAllowed ? 'block' : 'none';\n",
              "    })();\n",
              "  </script>\n",
              "</div>\n",
              "    </div>\n",
              "  </div>\n"
            ],
            "application/vnd.google.colaboratory.intrinsic+json": {
              "type": "dataframe",
              "variable_name": "df"
            }
          },
          "metadata": {},
          "execution_count": 86
        }
      ],
      "source": [
        "df.head()"
      ]
    },
    {
      "cell_type": "code",
      "execution_count": 88,
      "metadata": {
        "id": "qmxCn_Pz3kJB"
      },
      "outputs": [],
      "source": [
        "X = df.drop(columns=['duration', 'y'])\n",
        "y = (df.y == 'yes')"
      ]
    },
    {
      "cell_type": "markdown",
      "metadata": {
        "id": "lMKgtxfwaBEQ"
      },
      "source": [
        "В этой части не нужно делить выборку - мы будем использовать кросс-валидацию.  Используйте наиболее подходящие с вашей точки зрения параметры и их значения (`shuffle`, `stratify`, число фолдов, ...). По кросс-валидации у вас получится несколько вариантов обучающей и тестовой выборки. Для удобства можно воспользоваться шаблоном ниже, который по ходу выполнения задания будет обрастать функционалом. Как обычно, это необязательно, но сохранять результаты экспериментов очень и очень желательно, в конце мы будем их сравнивать"
      ]
    },
    {
      "cell_type": "code",
      "execution_count": 91,
      "metadata": {
        "id": "DWH-ApMjY4et"
      },
      "outputs": [],
      "source": [
        "from collections import defaultdict\n",
        "from sklearn.model_selection import KFold\n",
        "\n",
        "def cross_validate(\n",
        "    X,\n",
        "    y,\n",
        "    n_splits=5,\n",
        "    random_state=None,\n",
        "    shuffle=False,\n",
        "):\n",
        "    metrics = []\n",
        "    kf = KFold(n_splits=n_splits, random_state=random_state, shuffle=shuffle)\n",
        "\n",
        "    categorical_columns = X.select_dtypes(include=['object']).columns\n",
        "    numerical_columns = X.select_dtypes(exclude=['object']).columns\n",
        "\n",
        "    preprocessor = ColumnTransformer(\n",
        "        transformers=[\n",
        "            ('ohe', OneHotEncoder(), categorical_columns),\n",
        "            ('scaling', StandardScaler(), numerical_columns)\n",
        "        ])\n",
        "\n",
        "    for train_index, test_index in kf.split(X):\n",
        "        X_train, X_test = X.iloc[train_index], X.iloc[test_index]\n",
        "        y_train, y_test = y.iloc[train_index], y.iloc[test_index]\n",
        "\n",
        "        X_train_transformed = preprocessor.fit_transform(X_train)\n",
        "        X_test_transformed = preprocessor.transform(X_test)\n",
        "\n",
        "        model = LogisticRegression(max_iter=500)\n",
        "        model.fit(X_train_transformed, y_train)\n",
        "        y_pred = model.predict_proba(X_test_transformed)[:, 1]\n",
        "\n",
        "        metric_dict = {\n",
        "            \"AUC-PR\": average_precision_score(y_test, y_pred),\n",
        "            \"AUC-ROC\": roc_auc_score(y_test, y_pred)\n",
        "        }\n",
        "        metrics.append(metric_dict)\n",
        "\n",
        "    return pd.DataFrame(metrics)"
      ]
    },
    {
      "cell_type": "markdown",
      "source": [
        "Проверка"
      ],
      "metadata": {
        "id": "6iQjmCJAjR1p"
      }
    },
    {
      "cell_type": "code",
      "source": [
        "results = cross_validate(X, y, n_splits=5, random_state=42, shuffle=True)\n",
        "print(results)"
      ],
      "metadata": {
        "colab": {
          "base_uri": "https://localhost:8080/"
        },
        "id": "vzhFULjfbREb",
        "outputId": "7eef5236-9439-428f-c0d3-ca199c5ac84a"
      },
      "execution_count": 92,
      "outputs": [
        {
          "output_type": "stream",
          "name": "stdout",
          "text": [
            "     AUC-PR   AUC-ROC\n",
            "0  0.430556  0.780228\n",
            "1  0.472721  0.801102\n",
            "2  0.449833  0.781425\n",
            "3  0.454738  0.804808\n",
            "4  0.455881  0.791599\n"
          ]
        }
      ]
    },
    {
      "cell_type": "markdown",
      "metadata": {
        "id": "YIX-omTIyxtU"
      },
      "source": [
        "Выберите метрику классификации, которая вам кажется подходящей, и обучите логистическую регрессию на каждой обучающей выборке (закодируйте категориальные признаки способом, который выше вам понравился больше всех, отнормируйте числовые, гиперпараметры оставьте по умолчанию), сделайте предсказания для соответствующих тестовых выборок, выведите результаты"
      ]
    },
    {
      "cell_type": "markdown",
      "source": [
        "Используем AUC-PR"
      ],
      "metadata": {
        "id": "eEnISZLQbvDe"
      }
    },
    {
      "cell_type": "code",
      "execution_count": 93,
      "metadata": {
        "id": "5V3f4cQryx6c",
        "colab": {
          "base_uri": "https://localhost:8080/"
        },
        "outputId": "b016bdd3-df94-4656-9afe-7a65fd4b6bf2"
      },
      "outputs": [
        {
          "output_type": "stream",
          "name": "stdout",
          "text": [
            "Среднее значение AUC-PR: 0.4527458853945211\n",
            "Время выполнения кросс-валидации: 5866.19 мс\n"
          ]
        }
      ],
      "source": [
        "categorical_columns = X.select_dtypes(include=['object']).columns\n",
        "numerical_columns = X.select_dtypes(exclude=['object']).columns\n",
        "\n",
        "ohe_transformer = ColumnTransformer(\n",
        "    transformers=[\n",
        "        ('ohe', OneHotEncoder(), categorical_columns),\n",
        "        ('scaling', StandardScaler(), numerical_columns)\n",
        "    ])\n",
        "\n",
        "pipeline = Pipeline([\n",
        "    ('ohe_transformer', ohe_transformer),\n",
        "    ('classifier', LogisticRegression(max_iter=500))\n",
        "])\n",
        "\n",
        "start_time = time()\n",
        "results = cross_validate(X, y, n_splits=5, random_state=42, shuffle=True)\n",
        "training_time = time() - start_time\n",
        "\n",
        "print(f'Среднее значение AUC-PR: {results[\"AUC-PR\"].mean()}')\n",
        "print(f'Время выполнения кросс-валидации: {training_time * 1000:.2f} мс')"
      ]
    },
    {
      "cell_type": "markdown",
      "metadata": {
        "id": "CcuHfZjfzmnt"
      },
      "source": [
        "Допустим, работники вашего колл-центра получают за один звонок клиенту 2 доллара. При согласии клиента на предлагаемые условия он принесет в банк 10 долларов. Предположим, что всем положительным прогнозам ваши сотрудники решили позвонить.\n",
        "\n",
        "В качестве бизнес-метрики в нашей задаче мы будем считать прибыль aka `profit`, соответственно лучшую модель будем выбирать исходя из этого.\n",
        "Посчитайте на всех тестовых выборках выручку и сохраните результаты для бизнес-метрики вместе с предыдущей метрикой, которую вы выбрали\n",
        "\n",
        "Ответьте на вопросы:\n",
        "- Сколько денег вы в среднем заработаете?\n",
        "- Какое получилось стандартное отклонение профита?\n",
        "- Сколько из заработанных денег придётся отдать операторам вашего колл-центра?\n",
        "- Пропорциональна ли бизнес-метрика выбранной метрике классификации?"
      ]
    },
    {
      "cell_type": "code",
      "execution_count": 99,
      "metadata": {
        "id": "0okqAh-AzWTX",
        "colab": {
          "base_uri": "https://localhost:8080/"
        },
        "outputId": "0417f26c-7f87-4359-c7e6-f94b07ec4de9"
      },
      "outputs": [
        {
          "output_type": "stream",
          "name": "stdout",
          "text": [
            "Средняя выручка: 1486.00 долларов\n",
            "Стандартное отклонение выручки: 116.40 долларов\n",
            "Из заработанных денег операторам: 1486.00 долларов\n",
            "Корреляция между AUC-PR и прибылью: 0.4940\n"
          ]
        }
      ],
      "source": [
        "def cross_validate_with_profit(X, y, n_splits=5, random_state=42, shuffle=True):\n",
        "    metrics = []\n",
        "    profits = []\n",
        "    kf = KFold(n_splits=n_splits, random_state=random_state, shuffle=shuffle)\n",
        "\n",
        "    for train_index, test_index in kf.split(X):\n",
        "        X_train, X_test = X.iloc[train_index], X.iloc[test_index]\n",
        "        y_train, y_test = y.iloc[train_index], y.iloc[test_index]\n",
        "\n",
        "        pipeline.fit(X_train, y_train)\n",
        "\n",
        "        y_pred = pipeline.predict_proba(X_test)[:, 1]\n",
        "\n",
        "        precision, recall, _ = precision_recall_curve(y_test, y_pred)\n",
        "        auc_pr = auc(recall, precision)\n",
        "\n",
        "        y_pred_binary = (y_pred > 0.5)\n",
        "        true_positive = (y_test == 1) & (y_pred_binary == 1)\n",
        "        total_calls = (y_pred_binary == 1).sum()\n",
        "\n",
        "        profit = 10 * true_positive.sum() - 2 * total_calls\n",
        "\n",
        "        metrics.append({\"AUC-PR\": auc_pr, \"Profit\": profit})\n",
        "\n",
        "    results = pd.DataFrame(metrics)\n",
        "\n",
        "    return results\n",
        "\n",
        "scaler = StandardScaler()\n",
        "pipeline = Pipeline([\n",
        "    ('preprocessor', ColumnTransformer([\n",
        "        ('ohe', OneHotEncoder(), X.select_dtypes(include=['object']).columns),\n",
        "        ('scaling', scaler, X.select_dtypes(exclude=['object']).columns)\n",
        "    ])),\n",
        "    ('classifier', LogisticRegression(max_iter=500))\n",
        "])\n",
        "\n",
        "results = cross_validate_with_profit(X, y, n_splits=5, random_state=42, shuffle=True)\n",
        "\n",
        "avg_profit = results['Profit'].mean()\n",
        "std_profit = results['Profit'].std()\n",
        "calls_payment = results['Profit'].sum() * 2 / 10\n",
        "\n",
        "print(f'Средняя выручка: {avg_profit:.2f} долларов')\n",
        "print(f'Стандартное отклонение выручки: {std_profit:.2f} долларов')\n",
        "print(f'Из заработанных денег операторам: {calls_payment:.2f} долларов')\n",
        "print(f'Корреляция между AUC-PR и прибылью: {results[\"AUC-PR\"].corr(results[\"Profit\"]):.4f}')"
      ]
    },
    {
      "cell_type": "markdown",
      "metadata": {
        "id": "Da1x6u6wP75k"
      },
      "source": [
        "Внесем некоторую долю случайности. Пусть теперь согласный на условия клиент будет приносить не 10 долларов, а случайную величину, равномерно распределенную в интервале $[0;20)$. Проделайте все те же самые действия. Для имитации реальной ситуации **НЕ** фиксируйте `random_seed` при подсчете выручки с клиента (для разбиения на фолды разумеется оставьте). Что получилось?"
      ]
    },
    {
      "cell_type": "code",
      "execution_count": null,
      "metadata": {
        "id": "0AKmJpRAP75k"
      },
      "outputs": [],
      "source": [
        "# your code here"
      ]
    },
    {
      "cell_type": "markdown",
      "metadata": {
        "id": "O1g9FPExP75k"
      },
      "source": [
        "Настройте по кросс-валидации коэффициент регуляризации модели для максимизации прибыли (считайте как случайную величину выше). Удалось ли получить какой-то выигрыш? При каком коэффициенте регуляризациии прибыль максимальна? Постройте график зависимости ожидаемой прибыли от коэффициента"
      ]
    },
    {
      "cell_type": "code",
      "execution_count": null,
      "metadata": {
        "id": "YXx7qU5PP75l"
      },
      "outputs": [],
      "source": [
        "# your code here"
      ]
    },
    {
      "cell_type": "markdown",
      "metadata": {
        "id": "sdptRdaIP75l"
      },
      "source": [
        "Попробуйте запустить перебор несколько раз. Находится ли каждый раз один и тот же \"лучший\" коэффициент? Присутствует ли какая-то закономерность? Какие вы можете сделать из этого выводы?"
      ]
    },
    {
      "cell_type": "code",
      "execution_count": null,
      "metadata": {
        "id": "inD5UMbGP75l"
      },
      "outputs": [],
      "source": [
        "# your code here"
      ]
    },
    {
      "cell_type": "markdown",
      "metadata": {
        "id": "J0j8HubaP75l"
      },
      "source": [
        "#### __Задание 13. Ключевая метрика__ (1 балл)\n",
        "\n",
        "Выше мы уже описали примерную экономическую модель вашей задачи. Как вы считаете, что для вашего бизнеса важнее — хороший precision или recall модели? Почему?\n",
        "\n",
        "__Ответ:__ # your answer here\n",
        "\n"
      ]
    },
    {
      "cell_type": "markdown",
      "metadata": {
        "id": "4LFRNnrtP75m"
      },
      "source": [
        "> Вспомним, что на самом деле логистическая регрессия предсказывает нам вероятности положительного класса для объекта. Возможно, путем настройки __порога бинаризации__ этих вероятностей мы сможем получить какой-то выигрыш?\n",
        "\n",
        "Проверьте ваши рассуждения выше с помощью настройки порога бинаризации на кросс-валидации для максимизации прибыли. Воспользуйтесь сеткой от 0 до 1 с шагом 0.01. Напомним, что снижение порога дает нам более высокий recall и более низкий precision, и наоборот. Добавьте новую ML-метрику в ваш CV-пайплайн, найдите такой порог, при котором бизнес-метрика максимальна, и проверьте, связана ли новая ML метрика с профитом"
      ]
    },
    {
      "cell_type": "code",
      "execution_count": null,
      "metadata": {
        "id": "3ALl1YeBP75m"
      },
      "outputs": [],
      "source": [
        "# your code here"
      ]
    },
    {
      "cell_type": "markdown",
      "metadata": {
        "id": "fLL7uqb2P75m"
      },
      "source": [
        "Постройте график зависимости прибыли от порога бинаризации. Выделите наилучший порог\n",
        "\n",
        "\n"
      ]
    },
    {
      "cell_type": "code",
      "execution_count": null,
      "metadata": {
        "id": "K2D3BkVsP75m"
      },
      "outputs": [],
      "source": [
        "# your code here"
      ]
    },
    {
      "cell_type": "markdown",
      "metadata": {
        "id": "pjw2DImXXoFx"
      },
      "source": [
        "__Вопрос:__ Замечаете ли вы какую-то закономерность? Для правильного ответа на этот вопрос попробуйте запустить несколько раз и задумайтесь, почему порог получается в какой-то конкретной области?"
      ]
    },
    {
      "cell_type": "markdown",
      "metadata": {
        "id": "WfnHUQ7sXouL"
      },
      "source": [
        "__Ответ:__ # your answer here"
      ]
    },
    {
      "cell_type": "markdown",
      "metadata": {
        "id": "7tyapxyGdrSX"
      },
      "source": [
        "Наконец, чтобы точнее понять, что наша модель лучше исходной, посчитайте среднее и стандартное отклонение по фолдам бизнес-метрики для оптимизированной модели (гиперпараметры + порог) и дефолтной логистической регрессии. Проверьте, действительно ли удалось добиться значимого изменения прибыли — примените какой-либо статистический тест (например, парный t-критерий с $\\alpha=0.95$) к метрике, полученной двумя этими моделями"
      ]
    },
    {
      "cell_type": "code",
      "execution_count": null,
      "metadata": {
        "id": "kosI-CEjeeSb"
      },
      "outputs": [],
      "source": [
        "# your code here"
      ]
    },
    {
      "cell_type": "markdown",
      "metadata": {
        "id": "eELf9JBWM9D5"
      },
      "source": [
        "# __Бонусная часть. Многоклассовая классификация__ (1.5 балла)\n",
        "\n",
        "Как известно, некоторые задачи не ограничиваются всего лишь двумя классами. На лекции вы проходили несколько способов обобщения линейных моделей на этот случай: One-vs-Rest и One-vs-One. Ниже мы посмотрим, в чём преимущества и недостатки обоих подходов, а так же попробуем ещё один чуть более экзотический метод\n",
        "\n",
        "#### **Задание 14. One-vs-Rest vs One-vs-One** (0.5 балла)\n",
        "\n",
        "В качестве [датасета](https://www.kaggle.com/datasets/thedevastator/higher-education-predictors-of-student-retention/data) здесь и ниже мы будем брать очень жизненные и актуальные данные о том, доучится студент или нет, в зависимости от курсов, возраста, гендера и прочих (не)осуждаемых признаков."
      ]
    },
    {
      "cell_type": "code",
      "execution_count": null,
      "metadata": {
        "id": "23xX_I3bO3uQ"
      },
      "outputs": [],
      "source": [
        "import kagglehub\n",
        "\n",
        "path = kagglehub.dataset_download(\"thedevastator/higher-education-predictors-of-student-retention\") + \"/dataset.csv\"\n",
        "\n",
        "features = [\"Marital status\", \"Course\", \"Nacionality\", \"Gender\", \"Age at enrollment\"]\n",
        "target = \"Target\""
      ]
    },
    {
      "cell_type": "markdown",
      "metadata": {
        "id": "KMuDGcDiO6bI"
      },
      "source": [
        "Будем смотреть только какое-то подмножество наиболее весёлых факторов. От вас по классике потребуется их преобразовать, в зависимости от того, числовые они или категориальные и **закодировать таргет чиселками!!!**"
      ]
    },
    {
      "cell_type": "code",
      "execution_count": null,
      "metadata": {
        "id": "_Y8NbWwPPVHZ"
      },
      "outputs": [],
      "source": [
        "# your code here"
      ]
    },
    {
      "cell_type": "code",
      "execution_count": null,
      "metadata": {
        "id": "f8kXNmpIPYdA"
      },
      "outputs": [],
      "source": [
        "X_train, X_test, y_train, y_test = train_test_split(X, y, random_state=228, shuffle=True, test_size=0.2)"
      ]
    },
    {
      "cell_type": "markdown",
      "metadata": {
        "id": "j4cGqq_kPfrQ"
      },
      "source": [
        "Ваш следующий шаг - посмотреть, каким образом в `sklearn` реализованы OvR и OvO, обучить таким образом логистическую регрессию с `max_iter=10000`, далее выбрать какую-то метрику (и её усреднение, его выбор тоже аргументируйте), и сравнить следующие параметры:\n",
        "- число классификаторов\n",
        "- скорость обучения\n",
        "- качество модели\n",
        "\n",
        "Также сохраните куда-нибудь предсказания вероятностей у каждой из моделей. Это можно сделать не одним способом, но возможно вам чуть с этим поможет следующий пункт\n"
      ]
    },
    {
      "cell_type": "code",
      "execution_count": null,
      "metadata": {
        "id": "BuO6VHE1P4dA"
      },
      "outputs": [],
      "source": [
        "# your code here"
      ]
    },
    {
      "cell_type": "markdown",
      "metadata": {
        "id": "rCxJ7e3QYsgF"
      },
      "source": [
        "Как вы объясните полученные результаты?\n",
        "\n",
        "__Ответ:__ # your code here"
      ]
    },
    {
      "cell_type": "markdown",
      "metadata": {
        "id": "075hgy9sP7QX"
      },
      "source": [
        "#### __Задание 15. Softmax регрессия__ (1 балл)\n",
        "\n",
        "Однако любознательные машинисты могут задаться вопросом \"А зачем нам вся эта шляпа, если у сигмоиды есть обобщение на случай многоклассовой классификации?\" Если вам понравилось считать градиенты в прошлом дз, или вам нравится обучать нейросети, этот пункт для вас. Здесь мы попробуем построить одну-единственную модель, которая будет всё предсказывать, а также сравним с вариантами выше"
      ]
    },
    {
      "cell_type": "markdown",
      "metadata": {
        "id": "HgBxUToxRPN8"
      },
      "source": [
        "Начнём с подсчёта лосса. Вспомним, что логистическая функция потерь это частный случай кросс-энтропии, её и будем пытаться оптимизировать.\n",
        "\n",
        "$$\n",
        "\\text{CE}(X, y) = -\\frac{1}{N}\\sum_i \\sum_k [y_i = k] \\log p(x_i = k)\n",
        "$$\n",
        "Вероятности в данном случае будем считать при помощи софтмакса, что есть общий случай сигмоиды\n",
        "\n",
        "$$\n",
        "p(x_i) = \\text{Softmax}(a(x_i)); \\quad\n",
        "\\text{Softmax}(x)_k = \\frac{e^{x_{k}}}{\\sum_j e^{x_{j}}} \\\\\n",
        "$$\n",
        "\n",
        "Предсказание модели на одном объекта будет делаться уже при помощи матрицы весов, посклоьку выходов несколько\n",
        "\n",
        "$$\n",
        "a(x_i) = x_i\\cdot W \\\\\n",
        "$$\n",
        "\n",
        "Ниже предлагается написать код для такой функции потерь. Если необходимо, модифицируйте шаблон по своему усмотрению (вспомогательные функции, новые аргументы, всё, что душа пожелает)"
      ]
    },
    {
      "cell_type": "code",
      "execution_count": null,
      "metadata": {
        "id": "AYsBvtxmTK5d"
      },
      "outputs": [],
      "source": [
        "from typing import Iterable, Optional\n",
        "from torch.nn.functional import cross_entropy\n",
        "import torch\n",
        "\n",
        "def custom_ce(\n",
        "    y_pred: np.ndarray[float],\n",
        "    y_true: np.ndarray[int],\n",
        ") -> float:\n",
        "    # your code here\n",
        "    return"
      ]
    },
    {
      "cell_type": "code",
      "execution_count": null,
      "metadata": {
        "id": "JOK4eJXpSamh"
      },
      "outputs": [],
      "source": [
        "for _ in range(1000):\n",
        "\n",
        "    n_objects = np.random.randint(1, 100)\n",
        "    n_classes = np.random.randint(2, 20)\n",
        "    y_pred = np.random.normal(0, 1, (n_objects, n_classes))\n",
        "    y_true = np.random.randint(low=0, high=n_classes, size=(n_objects,))\n",
        "\n",
        "    your_ce = custom_ce(y_pred, y_true) # не забудьте поправить, если меняли шаблон\n",
        "    torch_ce = cross_entropy(torch.tensor(y_pred), torch.tensor(y_true))\n",
        "    assert np.allclose(your_ce, torch_ce), \"Что-то пошло не так\""
      ]
    },
    {
      "cell_type": "markdown",
      "metadata": {
        "id": "X9MLDIQrT24U"
      },
      "source": [
        "Дальше самая интересная часть - нужно вывести производную этой функции потерь (на всякий случай уточним, что `torch` использовать нельзя, разве что для самопроверки). Полезные факты, которые вам могут пригодиться:\n",
        "\n",
        "- в матричном виде найти производную непросто, попробуйте сперва сделать это для одного объекта, обобщить будет полегче\n",
        "- логсофтмакс дифференцировать гораздо легче, чем просто софтмакс\n",
        "- не забывайте про правило дифференцирования сложной функции\n",
        "- поскольку веса в данном случае матрица, результат будет тоже матрица, учтите при сверке размерностей\n",
        "- если вы не придумали, как преобразовать индикаторы в векторный вид, сейчас самое время"
      ]
    },
    {
      "cell_type": "code",
      "execution_count": null,
      "metadata": {
        "id": "tYHes6fVVO7s"
      },
      "outputs": [],
      "source": [
        "def ce_gradient(X: np.ndarray, W: np.ndarray, y: np.ndarray) -> np.ndarray[float]:\n",
        "    # your code here\n",
        "    return"
      ]
    },
    {
      "cell_type": "markdown",
      "metadata": {
        "id": "x8KP9v4WW6UL"
      },
      "source": [
        "Дальше дело за малым. Вспомните (или узнайте), как делается градиентный спуск, и дополните класс софтмакс-регрессии ниже. Здесь разумнее использовать критерий останова по итерациям, но логрег из `sklearn` устроен немного хитрее. Если хотите добавить еще критерии останова, какие-то другие параметры, то пожалуйста"
      ]
    },
    {
      "cell_type": "code",
      "execution_count": null,
      "metadata": {
        "id": "n133i8Nlc9Et"
      },
      "outputs": [],
      "source": [
        "class SoftmaxRegression:\n",
        "\n",
        "    def __init__(self, lr=1e-3, max_iter=10000):\n",
        "        self.W = None\n",
        "        self.max_iter = max_iter\n",
        "        self.lr = lr\n",
        "\n",
        "    def fit(self, X, y):\n",
        "        # your code here\n",
        "\n",
        "    def predict(self, X, y=None):\n",
        "        # your code here"
      ]
    },
    {
      "cell_type": "markdown",
      "metadata": {
        "id": "-JSpEv6oXSIX"
      },
      "source": [
        "Обучите на тех же данных, что и выше, замерьте те же три параметра, плюс сравните значения кросс-энтропии для уже трёх моделей. Сравните модели между собой и выберите фаворита в данной задаче."
      ]
    },
    {
      "cell_type": "code",
      "execution_count": null,
      "metadata": {
        "id": "6sUQDl5_Y8HB"
      },
      "outputs": [],
      "source": [
        "# your code here"
      ]
    },
    {
      "cell_type": "markdown",
      "metadata": {
        "id": "U6xDfck0cfrr"
      },
      "source": [
        "__Ответ__: # your text here"
      ]
    },
    {
      "cell_type": "markdown",
      "metadata": {
        "id": "ACYk14eyP75n"
      },
      "source": [
        "__Бонус (0.01 балла):__ что вы кушали в день сдачи данного ДЗ на завтрак?\n",
        "\n",
        "__Ответ:__ # your answer here"
      ]
    }
  ],
  "metadata": {
    "colab": {
      "provenance": []
    },
    "kernelspec": {
      "display_name": "Python 3 (ipykernel)",
      "language": "python",
      "name": "python3"
    },
    "language_info": {
      "codemirror_mode": {
        "name": "ipython",
        "version": 3
      },
      "file_extension": ".py",
      "mimetype": "text/x-python",
      "name": "python",
      "nbconvert_exporter": "python",
      "pygments_lexer": "ipython3",
      "version": "3.9.7"
    }
  },
  "nbformat": 4,
  "nbformat_minor": 0
}